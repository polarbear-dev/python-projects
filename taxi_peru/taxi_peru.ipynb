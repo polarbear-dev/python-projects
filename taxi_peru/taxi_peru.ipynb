{
 "cells": [
  {
   "cell_type": "code",
   "execution_count": 1,
   "id": "7d5b6279-3359-48b6-95ae-82ea277c45c9",
   "metadata": {},
   "outputs": [],
   "source": [
    "import pandas as pd\n",
    "import seaborn as sns\n",
    "import matplotlib.pyplot as plt\n",
    "\n",
    "%matplotlib inline"
   ]
  },
  {
   "cell_type": "markdown",
   "id": "69ba474e-765a-425f-a225-1fe540e8bb44",
   "metadata": {},
   "source": [
    "Load the dataset using ; as the delimiter, specifying that the columns *start_at*, *end_at*, and *arrived_at* should be read as dates, and store the result in the variable *taxi*"
   ]
  },
  {
   "cell_type": "code",
   "execution_count": 2,
   "id": "32df8a4d-08bd-4ab0-a279-25cc36aac693",
   "metadata": {},
   "outputs": [],
   "source": [
    "taxi = pd.read_csv('3_taxi_peru.csv', sep=';', parse_dates=['start_at', 'end_at', 'arrived_at'])"
   ]
  },
  {
   "cell_type": "code",
   "execution_count": 3,
   "id": "317db698-6b00-42d4-b1aa-3dfdf0d9c228",
   "metadata": {},
   "outputs": [
    {
     "data": {
      "text/html": [
       "<div>\n",
       "<style scoped>\n",
       "    .dataframe tbody tr th:only-of-type {\n",
       "        vertical-align: middle;\n",
       "    }\n",
       "\n",
       "    .dataframe tbody tr th {\n",
       "        vertical-align: top;\n",
       "    }\n",
       "\n",
       "    .dataframe thead th {\n",
       "        text-align: right;\n",
       "    }\n",
       "</style>\n",
       "<table border=\"1\" class=\"dataframe\">\n",
       "  <thead>\n",
       "    <tr style=\"text-align: right;\">\n",
       "      <th></th>\n",
       "      <th>journey_id</th>\n",
       "      <th>user_id</th>\n",
       "      <th>driver_id</th>\n",
       "      <th>taxi_id</th>\n",
       "      <th>icon</th>\n",
       "      <th>start_type</th>\n",
       "      <th>start_at</th>\n",
       "      <th>start_lat</th>\n",
       "      <th>start_lon</th>\n",
       "      <th>end_at</th>\n",
       "      <th>end_lat</th>\n",
       "      <th>end_lon</th>\n",
       "      <th>end_state</th>\n",
       "      <th>driver_start_lat</th>\n",
       "      <th>driver_start_lon</th>\n",
       "      <th>arrived_at</th>\n",
       "      <th>source</th>\n",
       "      <th>driver_score</th>\n",
       "      <th>rider_score</th>\n",
       "    </tr>\n",
       "  </thead>\n",
       "  <tbody>\n",
       "    <tr>\n",
       "      <th>0</th>\n",
       "      <td>23a1406fc6a11d866e3c82f22eed4d4c</td>\n",
       "      <td>0e9af5bbf1edfe591b54ecdfd7e91e26</td>\n",
       "      <td>583949a89a9ee17d19e3ca4f137b6b4c</td>\n",
       "      <td>b12f4f09c783e29fe0d0ea624530db56</td>\n",
       "      <td>executive</td>\n",
       "      <td>asap</td>\n",
       "      <td>2010-11-16 16:44:00</td>\n",
       "      <td>-12,13983536</td>\n",
       "      <td>-77,02355957</td>\n",
       "      <td>2010-11-16 17:29:00</td>\n",
       "      <td>-12,05537033</td>\n",
       "      <td>-77,0413208</td>\n",
       "      <td>drop off</td>\n",
       "      <td>-12,10825481</td>\n",
       "      <td>-77,0272739</td>\n",
       "      <td>2010-11-16 17:02:00</td>\n",
       "      <td>iPhone</td>\n",
       "      <td>5.0</td>\n",
       "      <td>5.0</td>\n",
       "    </tr>\n",
       "    <tr>\n",
       "      <th>1</th>\n",
       "      <td>dd2af4715d0dc16eded53afc0e243577</td>\n",
       "      <td>a553c46e3a22fb9c326aeb3d72b3334e</td>\n",
       "      <td>NaN</td>\n",
       "      <td>NaN</td>\n",
       "      <td>executive</td>\n",
       "      <td>asap</td>\n",
       "      <td>2010-06-01 00:34:00</td>\n",
       "      <td>-12,13874817</td>\n",
       "      <td>-76,99536133</td>\n",
       "      <td>2010-06-01 00:37:00</td>\n",
       "      <td>-12,12465668</td>\n",
       "      <td>-77,02886963</td>\n",
       "      <td>not found</td>\n",
       "      <td>NaN</td>\n",
       "      <td>NaN</td>\n",
       "      <td>NaT</td>\n",
       "      <td>iPhone</td>\n",
       "      <td>NaN</td>\n",
       "      <td>NaN</td>\n",
       "    </tr>\n",
       "    <tr>\n",
       "      <th>2</th>\n",
       "      <td>dd91e131888064bf7df3ce08f3d4b4ad</td>\n",
       "      <td>a553c46e3a22fb9c326aeb3d72b3334e</td>\n",
       "      <td>NaN</td>\n",
       "      <td>NaN</td>\n",
       "      <td>executive</td>\n",
       "      <td>asap</td>\n",
       "      <td>2010-05-31 05:01:00</td>\n",
       "      <td>-12,12453079</td>\n",
       "      <td>-77,02780151</td>\n",
       "      <td>2010-05-31 05:04:00</td>\n",
       "      <td>-12,13883209</td>\n",
       "      <td>-76,99530029</td>\n",
       "      <td>not found</td>\n",
       "      <td>NaN</td>\n",
       "      <td>NaN</td>\n",
       "      <td>NaT</td>\n",
       "      <td>iPhone</td>\n",
       "      <td>NaN</td>\n",
       "      <td>NaN</td>\n",
       "    </tr>\n",
       "    <tr>\n",
       "      <th>3</th>\n",
       "      <td>dd2af4715d0dc16eded53afc0e2466d0</td>\n",
       "      <td>a553c46e3a22fb9c326aeb3d72b3334e</td>\n",
       "      <td>NaN</td>\n",
       "      <td>NaN</td>\n",
       "      <td>executive</td>\n",
       "      <td>asap</td>\n",
       "      <td>2010-06-01 00:29:00</td>\n",
       "      <td>-12,13885117</td>\n",
       "      <td>-76,99530029</td>\n",
       "      <td>2010-06-01 00:32:00</td>\n",
       "      <td>-12,12458801</td>\n",
       "      <td>-77,02896118</td>\n",
       "      <td>not found</td>\n",
       "      <td>NaN</td>\n",
       "      <td>NaN</td>\n",
       "      <td>NaT</td>\n",
       "      <td>iPhone</td>\n",
       "      <td>NaN</td>\n",
       "      <td>NaN</td>\n",
       "    </tr>\n",
       "    <tr>\n",
       "      <th>4</th>\n",
       "      <td>85b7eabcf5d84e42dc7629b7d27781af</td>\n",
       "      <td>56772d544fdfa589a020a1ff894a86f7</td>\n",
       "      <td>d665fb9f75ef5d9cd0fd89479380ba78</td>\n",
       "      <td>0accdd3aa5a322f4129fa20b53278c69</td>\n",
       "      <td>executive</td>\n",
       "      <td>reserved</td>\n",
       "      <td>2010-09-11 23:55:00</td>\n",
       "      <td>-12,08995438</td>\n",
       "      <td>-76,92626953</td>\n",
       "      <td>2010-09-12 01:07:00</td>\n",
       "      <td>-12,02223206</td>\n",
       "      <td>-77,10638428</td>\n",
       "      <td>drop off</td>\n",
       "      <td>-12,08311558</td>\n",
       "      <td>-76,9277072</td>\n",
       "      <td>2010-09-11 23:50:00</td>\n",
       "      <td>iPhone</td>\n",
       "      <td>4.0</td>\n",
       "      <td>5.0</td>\n",
       "    </tr>\n",
       "  </tbody>\n",
       "</table>\n",
       "</div>"
      ],
      "text/plain": [
       "                         journey_id                           user_id  \\\n",
       "0  23a1406fc6a11d866e3c82f22eed4d4c  0e9af5bbf1edfe591b54ecdfd7e91e26   \n",
       "1  dd2af4715d0dc16eded53afc0e243577  a553c46e3a22fb9c326aeb3d72b3334e   \n",
       "2  dd91e131888064bf7df3ce08f3d4b4ad  a553c46e3a22fb9c326aeb3d72b3334e   \n",
       "3  dd2af4715d0dc16eded53afc0e2466d0  a553c46e3a22fb9c326aeb3d72b3334e   \n",
       "4  85b7eabcf5d84e42dc7629b7d27781af  56772d544fdfa589a020a1ff894a86f7   \n",
       "\n",
       "                          driver_id                           taxi_id  \\\n",
       "0  583949a89a9ee17d19e3ca4f137b6b4c  b12f4f09c783e29fe0d0ea624530db56   \n",
       "1                               NaN                               NaN   \n",
       "2                               NaN                               NaN   \n",
       "3                               NaN                               NaN   \n",
       "4  d665fb9f75ef5d9cd0fd89479380ba78  0accdd3aa5a322f4129fa20b53278c69   \n",
       "\n",
       "        icon start_type            start_at     start_lat     start_lon  \\\n",
       "0  executive       asap 2010-11-16 16:44:00  -12,13983536  -77,02355957   \n",
       "1  executive       asap 2010-06-01 00:34:00  -12,13874817  -76,99536133   \n",
       "2  executive       asap 2010-05-31 05:01:00  -12,12453079  -77,02780151   \n",
       "3  executive       asap 2010-06-01 00:29:00  -12,13885117  -76,99530029   \n",
       "4  executive   reserved 2010-09-11 23:55:00  -12,08995438  -76,92626953   \n",
       "\n",
       "               end_at       end_lat       end_lon  end_state driver_start_lat  \\\n",
       "0 2010-11-16 17:29:00  -12,05537033   -77,0413208   drop off     -12,10825481   \n",
       "1 2010-06-01 00:37:00  -12,12465668  -77,02886963  not found              NaN   \n",
       "2 2010-05-31 05:04:00  -12,13883209  -76,99530029  not found              NaN   \n",
       "3 2010-06-01 00:32:00  -12,12458801  -77,02896118  not found              NaN   \n",
       "4 2010-09-12 01:07:00  -12,02223206  -77,10638428   drop off     -12,08311558   \n",
       "\n",
       "  driver_start_lon          arrived_at  source  driver_score  rider_score  \n",
       "0      -77,0272739 2010-11-16 17:02:00  iPhone           5.0          5.0  \n",
       "1              NaN                 NaT  iPhone           NaN          NaN  \n",
       "2              NaN                 NaT  iPhone           NaN          NaN  \n",
       "3              NaN                 NaT  iPhone           NaN          NaN  \n",
       "4      -76,9277072 2010-09-11 23:50:00  iPhone           4.0          5.0  "
      ]
     },
     "execution_count": 3,
     "metadata": {},
     "output_type": "execute_result"
    }
   ],
   "source": [
    "taxi.head()"
   ]
  },
  {
   "cell_type": "markdown",
   "id": "153808f0-a035-4bcd-ac5a-1f93bee50994",
   "metadata": {},
   "source": [
    "Check which platform has the most orders"
   ]
  },
  {
   "cell_type": "code",
   "execution_count": 4,
   "id": "3a29caa8-268a-476e-9efd-85e656cd6945",
   "metadata": {},
   "outputs": [
    {
     "data": {
      "text/plain": [
       "source\n",
       "iPhone     42.0\n",
       "web        33.0\n",
       "Android    21.0\n",
       "iPad        2.0\n",
       "Wap         1.0\n",
       "Name: proportion, dtype: float64"
      ]
     },
     "execution_count": 4,
     "metadata": {},
     "output_type": "execute_result"
    }
   ],
   "source": [
    "(taxi\n",
    "     .source.value_counts(normalize=True)\n",
    "     .mul(100)\n",
    "     .round())"
   ]
  },
  {
   "cell_type": "markdown",
   "id": "cf79c68c-cd35-4166-9b34-0c00ec76ba83",
   "metadata": {},
   "source": [
    "To make the difference more clear, let's try to visualize the metrics."
   ]
  },
  {
   "cell_type": "code",
   "execution_count": 5,
   "id": "066e3551-fc9b-4384-abc0-5efd9b434c1c",
   "metadata": {},
   "outputs": [],
   "source": [
    "taxi_counts = (taxi['source'].value_counts() # use value_counts to count the values, without any parameters\n",
    "               .reset_index())               # reset the index"
   ]
  },
  {
   "cell_type": "code",
   "execution_count": 6,
   "id": "d3b687f3-060c-4bad-9370-63d79766b7e6",
   "metadata": {},
   "outputs": [
    {
     "data": {
      "image/png": "[encoded data removed]",
      "text/plain": [
       "<Figure size 640x480 with 1 Axes>"
      ]
     },
     "metadata": {},
     "output_type": "display_data"
    }
   ],
   "source": [
    "sns.barplot(x='source', y='count', data=taxi_counts, hue='source')\n",
    "sns.despine()  # remove part of the plot's frame"
   ]
  },
  {
   "cell_type": "markdown",
   "id": "9406deaa-b8ce-4681-b745-73420ddbf247",
   "metadata": {},
   "source": [
    "Check which type of ride (icon) occurred most frequently."
   ]
  },
  {
   "cell_type": "code",
   "execution_count": 7,
   "id": "cac73e2c-486f-4627-a9bd-0ca30a2e85d1",
   "metadata": {},
   "outputs": [
    {
     "data": {
      "image/png": "[encoded data removed]",
      "text/plain": [
       "<Figure size 640x480 with 1 Axes>"
      ]
     },
     "metadata": {},
     "output_type": "display_data"
    }
   ],
   "source": [
    "sns.countplot(x='icon', data=taxi, hue='icon')   # create the plot\n",
    "sns.despine()                                    # remove part of the plot's frame"
   ]
  },
  {
   "cell_type": "markdown",
   "id": "3428aadd-1b68-41c5-9419-09da91f8fd64",
   "metadata": {},
   "source": [
    "Visualize the distribution of the variable *end_state* (final order status) broken down by platforms *(source)*"
   ]
  },
  {
   "cell_type": "code",
   "execution_count": 8,
   "id": "13a63ffb-3577-44fd-bcd4-e9d6644d9887",
   "metadata": {},
   "outputs": [
    {
     "data": {
      "text/plain": [
       "<Axes: xlabel='source', ylabel='count'>"
      ]
     },
     "execution_count": 8,
     "metadata": {},
     "output_type": "execute_result"
    },
    {
     "data": {
      "image/png": "[encoded data removed]",
      "text/plain": [
       "<Figure size 1600x900 with 1 Axes>"
      ]
     },
     "metadata": {},
     "output_type": "display_data"
    }
   ],
   "source": [
    "plt.figure(figsize=(16,9))                             # specify the size of the plot to make it larger\n",
    "sns.countplot(data=taxi, hue='end_state', x='source')  # create the plot with the desired parameters"
   ]
  },
  {
   "cell_type": "markdown",
   "id": "e4351fe2-a195-49ba-86d9-1029191d626c",
   "metadata": {},
   "source": [
    "Let's check how the driver scores *(driver_score)* are distributed"
   ]
  },
  {
   "cell_type": "code",
   "execution_count": 9,
   "id": "80d8da75-11aa-4954-bc71-df14e659d089",
   "metadata": {},
   "outputs": [],
   "source": [
    "scores = (taxi\n",
    "     .driver_score\n",
    "     .value_counts(normalize=True)\n",
    "     .mul(100)\n",
    "     .round(2))"
   ]
  },
  {
   "cell_type": "code",
   "execution_count": 10,
   "id": "8b006cec-42a7-4de2-81c5-163150e7565b",
   "metadata": {},
   "outputs": [
    {
     "data": {
      "text/plain": [
       "driver_score\n",
       "5.0    58.81\n",
       "4.0    21.88\n",
       "0.0    14.30\n",
       "3.0     2.97\n",
       "1.0     1.23\n",
       "2.0     0.81\n",
       "Name: proportion, dtype: float64"
      ]
     },
     "execution_count": 10,
     "metadata": {},
     "output_type": "execute_result"
    }
   ],
   "source": [
    "scores"
   ]
  },
  {
   "cell_type": "code",
   "execution_count": 11,
   "id": "1fe63555-6e48-456c-850d-5e875b281702",
   "metadata": {},
   "outputs": [],
   "source": [
    "scores = scores.reset_index()"
   ]
  },
  {
   "cell_type": "code",
   "execution_count": 12,
   "id": "91218e74-672f-43a2-bb2a-ff449fbef3ff",
   "metadata": {},
   "outputs": [
    {
     "data": {
      "text/html": [
       "<div>\n",
       "<style scoped>\n",
       "    .dataframe tbody tr th:only-of-type {\n",
       "        vertical-align: middle;\n",
       "    }\n",
       "\n",
       "    .dataframe tbody tr th {\n",
       "        vertical-align: top;\n",
       "    }\n",
       "\n",
       "    .dataframe thead th {\n",
       "        text-align: right;\n",
       "    }\n",
       "</style>\n",
       "<table border=\"1\" class=\"dataframe\">\n",
       "  <thead>\n",
       "    <tr style=\"text-align: right;\">\n",
       "      <th></th>\n",
       "      <th>driver_score</th>\n",
       "      <th>proportion</th>\n",
       "    </tr>\n",
       "  </thead>\n",
       "  <tbody>\n",
       "    <tr>\n",
       "      <th>0</th>\n",
       "      <td>5.0</td>\n",
       "      <td>58.81</td>\n",
       "    </tr>\n",
       "    <tr>\n",
       "      <th>1</th>\n",
       "      <td>4.0</td>\n",
       "      <td>21.88</td>\n",
       "    </tr>\n",
       "    <tr>\n",
       "      <th>2</th>\n",
       "      <td>0.0</td>\n",
       "      <td>14.30</td>\n",
       "    </tr>\n",
       "    <tr>\n",
       "      <th>3</th>\n",
       "      <td>3.0</td>\n",
       "      <td>2.97</td>\n",
       "    </tr>\n",
       "    <tr>\n",
       "      <th>4</th>\n",
       "      <td>1.0</td>\n",
       "      <td>1.23</td>\n",
       "    </tr>\n",
       "    <tr>\n",
       "      <th>5</th>\n",
       "      <td>2.0</td>\n",
       "      <td>0.81</td>\n",
       "    </tr>\n",
       "  </tbody>\n",
       "</table>\n",
       "</div>"
      ],
      "text/plain": [
       "   driver_score  proportion\n",
       "0           5.0       58.81\n",
       "1           4.0       21.88\n",
       "2           0.0       14.30\n",
       "3           3.0        2.97\n",
       "4           1.0        1.23\n",
       "5           2.0        0.81"
      ]
     },
     "execution_count": 12,
     "metadata": {},
     "output_type": "execute_result"
    }
   ],
   "source": [
    "scores"
   ]
  },
  {
   "cell_type": "code",
   "execution_count": 13,
   "id": "6b2cc0e0-f71c-44ec-8cce-12d36ab500e3",
   "metadata": {},
   "outputs": [
    {
     "data": {
      "text/html": [
       "<div>\n",
       "<style scoped>\n",
       "    .dataframe tbody tr th:only-of-type {\n",
       "        vertical-align: middle;\n",
       "    }\n",
       "\n",
       "    .dataframe tbody tr th {\n",
       "        vertical-align: top;\n",
       "    }\n",
       "\n",
       "    .dataframe thead th {\n",
       "        text-align: right;\n",
       "    }\n",
       "</style>\n",
       "<table border=\"1\" class=\"dataframe\">\n",
       "  <thead>\n",
       "    <tr style=\"text-align: right;\">\n",
       "      <th></th>\n",
       "      <th>driver_score</th>\n",
       "      <th>percentage</th>\n",
       "    </tr>\n",
       "  </thead>\n",
       "  <tbody>\n",
       "    <tr>\n",
       "      <th>0</th>\n",
       "      <td>5.0</td>\n",
       "      <td>58.81</td>\n",
       "    </tr>\n",
       "    <tr>\n",
       "      <th>1</th>\n",
       "      <td>4.0</td>\n",
       "      <td>21.88</td>\n",
       "    </tr>\n",
       "    <tr>\n",
       "      <th>2</th>\n",
       "      <td>0.0</td>\n",
       "      <td>14.30</td>\n",
       "    </tr>\n",
       "    <tr>\n",
       "      <th>3</th>\n",
       "      <td>3.0</td>\n",
       "      <td>2.97</td>\n",
       "    </tr>\n",
       "    <tr>\n",
       "      <th>4</th>\n",
       "      <td>1.0</td>\n",
       "      <td>1.23</td>\n",
       "    </tr>\n",
       "    <tr>\n",
       "      <th>5</th>\n",
       "      <td>2.0</td>\n",
       "      <td>0.81</td>\n",
       "    </tr>\n",
       "  </tbody>\n",
       "</table>\n",
       "</div>"
      ],
      "text/plain": [
       "   driver_score  percentage\n",
       "0           5.0       58.81\n",
       "1           4.0       21.88\n",
       "2           0.0       14.30\n",
       "3           3.0        2.97\n",
       "4           1.0        1.23\n",
       "5           2.0        0.81"
      ]
     },
     "execution_count": 13,
     "metadata": {},
     "output_type": "execute_result"
    }
   ],
   "source": [
    "scores = scores.rename(columns={'proportion': 'percentage'})\n",
    "scores"
   ]
  },
  {
   "cell_type": "code",
   "execution_count": 14,
   "id": "2a8a4e8c-5aad-4601-99aa-fb583064595a",
   "metadata": {},
   "outputs": [
    {
     "data": {
      "text/html": [
       "<div>\n",
       "<style scoped>\n",
       "    .dataframe tbody tr th:only-of-type {\n",
       "        vertical-align: middle;\n",
       "    }\n",
       "\n",
       "    .dataframe tbody tr th {\n",
       "        vertical-align: top;\n",
       "    }\n",
       "\n",
       "    .dataframe thead th {\n",
       "        text-align: right;\n",
       "    }\n",
       "</style>\n",
       "<table border=\"1\" class=\"dataframe\">\n",
       "  <thead>\n",
       "    <tr style=\"text-align: right;\">\n",
       "      <th></th>\n",
       "      <th>driver_score</th>\n",
       "      <th>percentage</th>\n",
       "    </tr>\n",
       "  </thead>\n",
       "  <tbody>\n",
       "    <tr>\n",
       "      <th>2</th>\n",
       "      <td>0.0</td>\n",
       "      <td>14.30</td>\n",
       "    </tr>\n",
       "    <tr>\n",
       "      <th>4</th>\n",
       "      <td>1.0</td>\n",
       "      <td>1.23</td>\n",
       "    </tr>\n",
       "    <tr>\n",
       "      <th>5</th>\n",
       "      <td>2.0</td>\n",
       "      <td>0.81</td>\n",
       "    </tr>\n",
       "    <tr>\n",
       "      <th>3</th>\n",
       "      <td>3.0</td>\n",
       "      <td>2.97</td>\n",
       "    </tr>\n",
       "    <tr>\n",
       "      <th>1</th>\n",
       "      <td>4.0</td>\n",
       "      <td>21.88</td>\n",
       "    </tr>\n",
       "    <tr>\n",
       "      <th>0</th>\n",
       "      <td>5.0</td>\n",
       "      <td>58.81</td>\n",
       "    </tr>\n",
       "  </tbody>\n",
       "</table>\n",
       "</div>"
      ],
      "text/plain": [
       "   driver_score  percentage\n",
       "2           0.0       14.30\n",
       "4           1.0        1.23\n",
       "5           2.0        0.81\n",
       "3           3.0        2.97\n",
       "1           4.0       21.88\n",
       "0           5.0       58.81"
      ]
     },
     "execution_count": 14,
     "metadata": {},
     "output_type": "execute_result"
    }
   ],
   "source": [
    "driver_score_counts = scores.sort_values('driver_score')\n",
    "driver_score_counts"
   ]
  },
  {
   "cell_type": "markdown",
   "id": "79eb4897-0ee2-415a-a6dc-3d0843e032be",
   "metadata": {},
   "source": [
    "Now let's create the plot"
   ]
  },
  {
   "cell_type": "code",
   "execution_count": 15,
   "id": "e9633b8b-cca5-4709-898b-58b5580e034a",
   "metadata": {},
   "outputs": [
    {
     "data": {
      "image/png": "[encoded data removed]",
      "text/plain": [
       "<Figure size 640x480 with 1 Axes>"
      ]
     },
     "metadata": {},
     "output_type": "display_data"
    }
   ],
   "source": [
    "ax = sns.barplot(x='driver_score', y='percentage', data=driver_score_counts, color='blue', alpha=0.5)\n",
    "ax.set(xlabel='Driver score', ylabel='Percentage')\n",
    "sns.despine()  # remove part of the plot's frame\n",
    "plt.show()"
   ]
  },
  {
   "cell_type": "markdown",
   "id": "93d3058d-5a0f-494b-b7f3-c47245a41fbd",
   "metadata": {},
   "source": [
    "Let's see how the *rider_score* differs from the distribution of driver scores."
   ]
  },
  {
   "cell_type": "code",
   "execution_count": 16,
   "id": "d92bfac1-6c2e-4cd0-9337-32c2d01290ba",
   "metadata": {},
   "outputs": [
    {
     "data": {
      "image/png": "[encoded data removed]",
      "text/plain": [
       "<Figure size 640x480 with 1 Axes>"
      ]
     },
     "metadata": {},
     "output_type": "display_data"
    }
   ],
   "source": [
    "rider_score_counts = (taxi\n",
    "     .rider_score\n",
    "     .value_counts(normalize=True)\n",
    "     .mul(100)\n",
    "     .round(2)\n",
    "     .reset_index()\n",
    "     .rename(columns={'proportion': 'percentage'})\n",
    "     .sort_values(by='rider_score'))\n",
    "\n",
    "ax = sns.barplot(x='rider_score', y='percentage', data=rider_score_counts, color='blue', alpha=0.5)\n",
    "ax.set(xlabel='Driver score', ylabel='Percentage')\n",
    "sns.despine()  # remove part of the plot's frame\n",
    "plt.show()"
   ]
  },
  {
   "cell_type": "markdown",
   "id": "47337f3e-7ab1-4813-af33-668a6387e13c",
   "metadata": {},
   "source": [
    "Filter the data to keep only observations with the order status \"asap\" and \"reserved\" *(start_type)*"
   ]
  },
  {
   "cell_type": "code",
   "execution_count": 17,
   "id": "25ffd05a-e60d-4437-8585-294af45e5cb8",
   "metadata": {},
   "outputs": [],
   "source": [
    "taxi_1 = taxi.loc[taxi.start_type.isin(['asap', 'reserved'])]"
   ]
  },
  {
   "cell_type": "markdown",
   "id": "8b06e282-211b-432e-a97e-10db4c010aad",
   "metadata": {},
   "source": [
    "Create a column *wait_time*, which will store the difference between the arrival time of the car *(arrived_at)* and the order time *(start_at)* in minutes."
   ]
  },
  {
   "cell_type": "code",
   "execution_count": 18,
   "id": "29b19d60-3c7f-48a3-a228-db0b4cfddf94",
   "metadata": {},
   "outputs": [
    {
     "data": {
      "text/html": [
       "<div>\n",
       "<style scoped>\n",
       "    .dataframe tbody tr th:only-of-type {\n",
       "        vertical-align: middle;\n",
       "    }\n",
       "\n",
       "    .dataframe tbody tr th {\n",
       "        vertical-align: top;\n",
       "    }\n",
       "\n",
       "    .dataframe thead th {\n",
       "        text-align: right;\n",
       "    }\n",
       "</style>\n",
       "<table border=\"1\" class=\"dataframe\">\n",
       "  <thead>\n",
       "    <tr style=\"text-align: right;\">\n",
       "      <th></th>\n",
       "      <th>start_at</th>\n",
       "      <th>arrived_at</th>\n",
       "      <th>wait_time</th>\n",
       "    </tr>\n",
       "  </thead>\n",
       "  <tbody>\n",
       "    <tr>\n",
       "      <th>0</th>\n",
       "      <td>2010-11-16 16:44:00</td>\n",
       "      <td>2010-11-16 17:02:00</td>\n",
       "      <td>18.0</td>\n",
       "    </tr>\n",
       "    <tr>\n",
       "      <th>1</th>\n",
       "      <td>2010-06-01 00:34:00</td>\n",
       "      <td>NaT</td>\n",
       "      <td>NaN</td>\n",
       "    </tr>\n",
       "    <tr>\n",
       "      <th>2</th>\n",
       "      <td>2010-05-31 05:01:00</td>\n",
       "      <td>NaT</td>\n",
       "      <td>NaN</td>\n",
       "    </tr>\n",
       "    <tr>\n",
       "      <th>3</th>\n",
       "      <td>2010-06-01 00:29:00</td>\n",
       "      <td>NaT</td>\n",
       "      <td>NaN</td>\n",
       "    </tr>\n",
       "    <tr>\n",
       "      <th>4</th>\n",
       "      <td>2010-09-11 23:55:00</td>\n",
       "      <td>2010-09-11 23:50:00</td>\n",
       "      <td>-5.0</td>\n",
       "    </tr>\n",
       "  </tbody>\n",
       "</table>\n",
       "</div>"
      ],
      "text/plain": [
       "             start_at          arrived_at  wait_time\n",
       "0 2010-11-16 16:44:00 2010-11-16 17:02:00       18.0\n",
       "1 2010-06-01 00:34:00                 NaT        NaN\n",
       "2 2010-05-31 05:01:00                 NaT        NaN\n",
       "3 2010-06-01 00:29:00                 NaT        NaN\n",
       "4 2010-09-11 23:55:00 2010-09-11 23:50:00       -5.0"
      ]
     },
     "execution_count": 18,
     "metadata": {},
     "output_type": "execute_result"
    }
   ],
   "source": [
    "taxi['wait_time'] = taxi['arrived_at'] - taxi['start_at']\n",
    "taxi['wait_time'] = taxi['wait_time'] / pd.Timedelta(minutes=1)  # Convert to minutes\n",
    "taxi[['start_at', 'arrived_at', 'wait_time']].head()"
   ]
  },
  {
   "cell_type": "markdown",
   "id": "b2ade1a8-4202-46a6-bc38-7650481f61e0",
   "metadata": {},
   "source": [
    "Create a similar column *duration*"
   ]
  },
  {
   "cell_type": "code",
   "execution_count": 19,
   "id": "773b69a9-9d92-483a-96f6-2a6b6fc0ce27",
   "metadata": {},
   "outputs": [
    {
     "data": {
      "text/html": [
       "<div>\n",
       "<style scoped>\n",
       "    .dataframe tbody tr th:only-of-type {\n",
       "        vertical-align: middle;\n",
       "    }\n",
       "\n",
       "    .dataframe tbody tr th {\n",
       "        vertical-align: top;\n",
       "    }\n",
       "\n",
       "    .dataframe thead th {\n",
       "        text-align: right;\n",
       "    }\n",
       "</style>\n",
       "<table border=\"1\" class=\"dataframe\">\n",
       "  <thead>\n",
       "    <tr style=\"text-align: right;\">\n",
       "      <th></th>\n",
       "      <th>start_at</th>\n",
       "      <th>end_at</th>\n",
       "      <th>duration</th>\n",
       "    </tr>\n",
       "  </thead>\n",
       "  <tbody>\n",
       "    <tr>\n",
       "      <th>0</th>\n",
       "      <td>2010-11-16 16:44:00</td>\n",
       "      <td>2010-11-16 17:29:00</td>\n",
       "      <td>45.0</td>\n",
       "    </tr>\n",
       "    <tr>\n",
       "      <th>1</th>\n",
       "      <td>2010-06-01 00:34:00</td>\n",
       "      <td>2010-06-01 00:37:00</td>\n",
       "      <td>3.0</td>\n",
       "    </tr>\n",
       "    <tr>\n",
       "      <th>2</th>\n",
       "      <td>2010-05-31 05:01:00</td>\n",
       "      <td>2010-05-31 05:04:00</td>\n",
       "      <td>3.0</td>\n",
       "    </tr>\n",
       "    <tr>\n",
       "      <th>3</th>\n",
       "      <td>2010-06-01 00:29:00</td>\n",
       "      <td>2010-06-01 00:32:00</td>\n",
       "      <td>3.0</td>\n",
       "    </tr>\n",
       "    <tr>\n",
       "      <th>4</th>\n",
       "      <td>2010-09-11 23:55:00</td>\n",
       "      <td>2010-09-12 01:07:00</td>\n",
       "      <td>72.0</td>\n",
       "    </tr>\n",
       "  </tbody>\n",
       "</table>\n",
       "</div>"
      ],
      "text/plain": [
       "             start_at              end_at  duration\n",
       "0 2010-11-16 16:44:00 2010-11-16 17:29:00      45.0\n",
       "1 2010-06-01 00:34:00 2010-06-01 00:37:00       3.0\n",
       "2 2010-05-31 05:01:00 2010-05-31 05:04:00       3.0\n",
       "3 2010-06-01 00:29:00 2010-06-01 00:32:00       3.0\n",
       "4 2010-09-11 23:55:00 2010-09-12 01:07:00      72.0"
      ]
     },
     "execution_count": 19,
     "metadata": {},
     "output_type": "execute_result"
    }
   ],
   "source": [
    "taxi['duration'] = taxi['end_at'] - taxi['start_at']\n",
    "taxi['duration'] = taxi['duration'] / pd.Timedelta(minutes=1)  # Convert to minutes\n",
    "taxi[['start_at', 'end_at', 'duration']].head()"
   ]
  },
  {
   "cell_type": "markdown",
   "id": "d22d47bd-14c2-4173-94f3-4ac529e94d31",
   "metadata": {},
   "source": [
    "Let's see which drivers were late for orders at a specific time *(start_type == 'reserved')* and identify the driver ID who was late for the order of the type we are interested in the most number of times."
   ]
  },
  {
   "cell_type": "code",
   "execution_count": 20,
   "id": "70072c0b-6b40-4c17-85aa-0a3418f3835d",
   "metadata": {},
   "outputs": [
    {
     "data": {
      "text/html": [
       "<div>\n",
       "<style scoped>\n",
       "    .dataframe tbody tr th:only-of-type {\n",
       "        vertical-align: middle;\n",
       "    }\n",
       "\n",
       "    .dataframe tbody tr th {\n",
       "        vertical-align: top;\n",
       "    }\n",
       "\n",
       "    .dataframe thead th {\n",
       "        text-align: right;\n",
       "    }\n",
       "</style>\n",
       "<table border=\"1\" class=\"dataframe\">\n",
       "  <thead>\n",
       "    <tr style=\"text-align: right;\">\n",
       "      <th></th>\n",
       "      <th>journey_id</th>\n",
       "      <th>user_id</th>\n",
       "      <th>driver_id</th>\n",
       "      <th>taxi_id</th>\n",
       "      <th>icon</th>\n",
       "      <th>start_type</th>\n",
       "      <th>start_at</th>\n",
       "      <th>start_lat</th>\n",
       "      <th>start_lon</th>\n",
       "      <th>end_at</th>\n",
       "      <th>...</th>\n",
       "      <th>end_lon</th>\n",
       "      <th>end_state</th>\n",
       "      <th>driver_start_lat</th>\n",
       "      <th>driver_start_lon</th>\n",
       "      <th>arrived_at</th>\n",
       "      <th>source</th>\n",
       "      <th>driver_score</th>\n",
       "      <th>rider_score</th>\n",
       "      <th>wait_time</th>\n",
       "      <th>duration</th>\n",
       "    </tr>\n",
       "  </thead>\n",
       "  <tbody>\n",
       "    <tr>\n",
       "      <th>11</th>\n",
       "      <td>af7a0d5b65562d9e4f7749317efb1a3a</td>\n",
       "      <td>7abecd4f47c2c1d5390d86eb22181c90</td>\n",
       "      <td>d04f1a596fe4a582f48e6eb2f9e8f617</td>\n",
       "      <td>d04f1a596fe4a582f48e6eb2f9e8cceb</td>\n",
       "      <td>executive</td>\n",
       "      <td>reserved</td>\n",
       "      <td>2010-11-28 03:15:00</td>\n",
       "      <td>-12,10128779</td>\n",
       "      <td>-77,00463697</td>\n",
       "      <td>2010-11-28 03:37:00</td>\n",
       "      <td>...</td>\n",
       "      <td>-77,00418301</td>\n",
       "      <td>drop off</td>\n",
       "      <td>-12,1011259</td>\n",
       "      <td>-77,0041831</td>\n",
       "      <td>2010-11-28 03:22:00</td>\n",
       "      <td>Android</td>\n",
       "      <td>NaN</td>\n",
       "      <td>4.0</td>\n",
       "      <td>7.0</td>\n",
       "      <td>22.0</td>\n",
       "    </tr>\n",
       "    <tr>\n",
       "      <th>51</th>\n",
       "      <td>e1b5a14977e84b1900b5b69e040c3de1</td>\n",
       "      <td>1e44c0fd0a266c3719ff30410baa07cd</td>\n",
       "      <td>ae06c34243f741e203e97c48ebcbd9da</td>\n",
       "      <td>f622a9397b85b5c9c0ef938c5d592020</td>\n",
       "      <td>executive</td>\n",
       "      <td>reserved</td>\n",
       "      <td>2010-10-12 19:45:00</td>\n",
       "      <td>-12,11184692</td>\n",
       "      <td>-77,03222656</td>\n",
       "      <td>2010-10-12 20:49:00</td>\n",
       "      <td>...</td>\n",
       "      <td>-77,109375</td>\n",
       "      <td>drop off</td>\n",
       "      <td>-12,02907305</td>\n",
       "      <td>-77,08317745</td>\n",
       "      <td>2010-10-12 19:56:00</td>\n",
       "      <td>iPhone</td>\n",
       "      <td>NaN</td>\n",
       "      <td>5.0</td>\n",
       "      <td>11.0</td>\n",
       "      <td>64.0</td>\n",
       "    </tr>\n",
       "    <tr>\n",
       "      <th>67</th>\n",
       "      <td>eb06449983dd990ff162c0ad990909ba</td>\n",
       "      <td>933a5cf7834b12121755b8586b53a083</td>\n",
       "      <td>406921adcca37705ef527b4246c0cfea</td>\n",
       "      <td>406921adcca37705ef527b4246c10d2c</td>\n",
       "      <td>executive</td>\n",
       "      <td>reserved</td>\n",
       "      <td>2010-06-01 22:00:00</td>\n",
       "      <td>-12,12078476</td>\n",
       "      <td>-76,97079468</td>\n",
       "      <td>2010-06-01 22:42:00</td>\n",
       "      <td>...</td>\n",
       "      <td>-77,06329346</td>\n",
       "      <td>drop off</td>\n",
       "      <td>-12,11143646</td>\n",
       "      <td>-76,99240794</td>\n",
       "      <td>2010-06-01 22:01:00</td>\n",
       "      <td>iPhone</td>\n",
       "      <td>4.0</td>\n",
       "      <td>5.0</td>\n",
       "      <td>1.0</td>\n",
       "      <td>42.0</td>\n",
       "    </tr>\n",
       "    <tr>\n",
       "      <th>83</th>\n",
       "      <td>cd6a65a00f3ac91060d336a9f037f7f6</td>\n",
       "      <td>cb6ea169cefc7a0a5f1f8bd8ebbe3223</td>\n",
       "      <td>baacf396f773709519bbde35a5eab861</td>\n",
       "      <td>baacf396f773709519bbde35a585d91b</td>\n",
       "      <td>executive</td>\n",
       "      <td>reserved</td>\n",
       "      <td>2010-08-16 22:30:00</td>\n",
       "      <td>-12,10181985</td>\n",
       "      <td>-76,97150599</td>\n",
       "      <td>2010-08-16 22:57:00</td>\n",
       "      <td>...</td>\n",
       "      <td>-76,99084405</td>\n",
       "      <td>drop off</td>\n",
       "      <td>-12,06300311</td>\n",
       "      <td>-76,94575123</td>\n",
       "      <td>2010-08-16 22:33:00</td>\n",
       "      <td>Android</td>\n",
       "      <td>0.0</td>\n",
       "      <td>4.0</td>\n",
       "      <td>3.0</td>\n",
       "      <td>27.0</td>\n",
       "    </tr>\n",
       "    <tr>\n",
       "      <th>157</th>\n",
       "      <td>e1332f68e81526e498e4d845233a17ee</td>\n",
       "      <td>be2d7041cb5bae52cf3edaaf03798426</td>\n",
       "      <td>65b6f3b7075270499ddd0f1dc1130459</td>\n",
       "      <td>f78d50ea4f0c83a4a302d9fa82264b02</td>\n",
       "      <td>executive</td>\n",
       "      <td>reserved</td>\n",
       "      <td>2010-03-27 23:30:00</td>\n",
       "      <td>-12,0966369</td>\n",
       "      <td>-77,0295319</td>\n",
       "      <td>2010-03-28 00:25:00</td>\n",
       "      <td>...</td>\n",
       "      <td>-77,0048048</td>\n",
       "      <td>drop off</td>\n",
       "      <td>-12,08623295</td>\n",
       "      <td>-77,03547408</td>\n",
       "      <td>2010-03-27 23:31:00</td>\n",
       "      <td>web</td>\n",
       "      <td>NaN</td>\n",
       "      <td>5.0</td>\n",
       "      <td>1.0</td>\n",
       "      <td>55.0</td>\n",
       "    </tr>\n",
       "    <tr>\n",
       "      <th>...</th>\n",
       "      <td>...</td>\n",
       "      <td>...</td>\n",
       "      <td>...</td>\n",
       "      <td>...</td>\n",
       "      <td>...</td>\n",
       "      <td>...</td>\n",
       "      <td>...</td>\n",
       "      <td>...</td>\n",
       "      <td>...</td>\n",
       "      <td>...</td>\n",
       "      <td>...</td>\n",
       "      <td>...</td>\n",
       "      <td>...</td>\n",
       "      <td>...</td>\n",
       "      <td>...</td>\n",
       "      <td>...</td>\n",
       "      <td>...</td>\n",
       "      <td>...</td>\n",
       "      <td>...</td>\n",
       "      <td>...</td>\n",
       "      <td>...</td>\n",
       "    </tr>\n",
       "    <tr>\n",
       "      <th>23044</th>\n",
       "      <td>883360491194dd3b866c897b2586a1d7</td>\n",
       "      <td>406921adcca37705ef527b4246c1370e</td>\n",
       "      <td>27c157e605c56c7df70c605963e1d386</td>\n",
       "      <td>27c157e605c56c7df70c605963e1c9b7</td>\n",
       "      <td>executive</td>\n",
       "      <td>reserved</td>\n",
       "      <td>2010-02-14 13:45:00</td>\n",
       "      <td>-12,0918521</td>\n",
       "      <td>-77,0519091</td>\n",
       "      <td>2010-02-14 14:19:00</td>\n",
       "      <td>...</td>\n",
       "      <td>-77,0232917</td>\n",
       "      <td>drop off</td>\n",
       "      <td>-12,0735807</td>\n",
       "      <td>-77,04195549</td>\n",
       "      <td>2010-02-14 13:49:00</td>\n",
       "      <td>web</td>\n",
       "      <td>NaN</td>\n",
       "      <td>NaN</td>\n",
       "      <td>4.0</td>\n",
       "      <td>34.0</td>\n",
       "    </tr>\n",
       "    <tr>\n",
       "      <th>23047</th>\n",
       "      <td>88a0d8a123b3c1b2f39bec89da7b30ae</td>\n",
       "      <td>406921adcca37705ef527b4246c12e83</td>\n",
       "      <td>406921adcca37705ef527b4246c19db3</td>\n",
       "      <td>406921adcca37705ef527b4246c1a5c6</td>\n",
       "      <td>executive</td>\n",
       "      <td>reserved</td>\n",
       "      <td>2010-05-07 13:20:00</td>\n",
       "      <td>-12,0918423</td>\n",
       "      <td>-77,0421839</td>\n",
       "      <td>2010-05-07 14:13:00</td>\n",
       "      <td>...</td>\n",
       "      <td>-77,0857564</td>\n",
       "      <td>drop off</td>\n",
       "      <td>-12,03970949</td>\n",
       "      <td>-77,05231815</td>\n",
       "      <td>2010-05-07 13:21:00</td>\n",
       "      <td>web</td>\n",
       "      <td>NaN</td>\n",
       "      <td>5.0</td>\n",
       "      <td>1.0</td>\n",
       "      <td>53.0</td>\n",
       "    </tr>\n",
       "    <tr>\n",
       "      <th>23053</th>\n",
       "      <td>8b9ae8141b48ed1643e02dbc76aa2290</td>\n",
       "      <td>0f0ffd9676b4aa664f8b88b76ca90cf4</td>\n",
       "      <td>406921adcca37705ef527b4246c19db3</td>\n",
       "      <td>406921adcca37705ef527b4246c1a5c6</td>\n",
       "      <td>executive</td>\n",
       "      <td>reserved</td>\n",
       "      <td>2010-05-09 01:30:00</td>\n",
       "      <td>-12,0780836</td>\n",
       "      <td>-77,0906339</td>\n",
       "      <td>2010-05-09 02:50:00</td>\n",
       "      <td>...</td>\n",
       "      <td>-77,107768</td>\n",
       "      <td>drop off</td>\n",
       "      <td>-12,05495955</td>\n",
       "      <td>-77,05101171</td>\n",
       "      <td>2010-05-09 01:40:00</td>\n",
       "      <td>web</td>\n",
       "      <td>NaN</td>\n",
       "      <td>NaN</td>\n",
       "      <td>10.0</td>\n",
       "      <td>80.0</td>\n",
       "    </tr>\n",
       "    <tr>\n",
       "      <th>23063</th>\n",
       "      <td>4a645cbfd25b64d34f738808637353ca</td>\n",
       "      <td>4a645cbfd25b64d34f738808634b36bf</td>\n",
       "      <td>eeb07ac5409c082354b923689341b9ec</td>\n",
       "      <td>aba044a086704ad7e9dc66b8c926408d</td>\n",
       "      <td>executive</td>\n",
       "      <td>reserved</td>\n",
       "      <td>2010-04-16 15:15:00</td>\n",
       "      <td>-12,0770342</td>\n",
       "      <td>-76,9885396</td>\n",
       "      <td>2010-04-16 15:40:00</td>\n",
       "      <td>...</td>\n",
       "      <td>-76,9886223</td>\n",
       "      <td>drop off</td>\n",
       "      <td>-12,04602095</td>\n",
       "      <td>-77,02585903</td>\n",
       "      <td>2010-04-16 15:18:00</td>\n",
       "      <td>web</td>\n",
       "      <td>NaN</td>\n",
       "      <td>NaN</td>\n",
       "      <td>3.0</td>\n",
       "      <td>25.0</td>\n",
       "    </tr>\n",
       "    <tr>\n",
       "      <th>23104</th>\n",
       "      <td>c21605b791b47423867a99d06f47a972</td>\n",
       "      <td>35e7f74c2fbd27db816811036af892e5</td>\n",
       "      <td>56f59b58bcbbd1cdabc3652e713134c2</td>\n",
       "      <td>924d4f0e7554566623e8ebb3904a7b0c</td>\n",
       "      <td>executive</td>\n",
       "      <td>reserved</td>\n",
       "      <td>2010-04-04 17:00:00</td>\n",
       "      <td>-12,1119515</td>\n",
       "      <td>-77,0507767</td>\n",
       "      <td>2010-04-04 17:37:00</td>\n",
       "      <td>...</td>\n",
       "      <td>-77,0874744</td>\n",
       "      <td>drop off</td>\n",
       "      <td>-12,1115584</td>\n",
       "      <td>-77,0123847</td>\n",
       "      <td>2010-04-04 17:06:00</td>\n",
       "      <td>web</td>\n",
       "      <td>NaN</td>\n",
       "      <td>NaN</td>\n",
       "      <td>6.0</td>\n",
       "      <td>37.0</td>\n",
       "    </tr>\n",
       "  </tbody>\n",
       "</table>\n",
       "<p>1058 rows × 21 columns</p>\n",
       "</div>"
      ],
      "text/plain": [
       "                             journey_id                           user_id  \\\n",
       "11     af7a0d5b65562d9e4f7749317efb1a3a  7abecd4f47c2c1d5390d86eb22181c90   \n",
       "51     e1b5a14977e84b1900b5b69e040c3de1  1e44c0fd0a266c3719ff30410baa07cd   \n",
       "67     eb06449983dd990ff162c0ad990909ba  933a5cf7834b12121755b8586b53a083   \n",
       "83     cd6a65a00f3ac91060d336a9f037f7f6  cb6ea169cefc7a0a5f1f8bd8ebbe3223   \n",
       "157    e1332f68e81526e498e4d845233a17ee  be2d7041cb5bae52cf3edaaf03798426   \n",
       "...                                 ...                               ...   \n",
       "23044  883360491194dd3b866c897b2586a1d7  406921adcca37705ef527b4246c1370e   \n",
       "23047  88a0d8a123b3c1b2f39bec89da7b30ae  406921adcca37705ef527b4246c12e83   \n",
       "23053  8b9ae8141b48ed1643e02dbc76aa2290  0f0ffd9676b4aa664f8b88b76ca90cf4   \n",
       "23063  4a645cbfd25b64d34f738808637353ca  4a645cbfd25b64d34f738808634b36bf   \n",
       "23104  c21605b791b47423867a99d06f47a972  35e7f74c2fbd27db816811036af892e5   \n",
       "\n",
       "                              driver_id                           taxi_id  \\\n",
       "11     d04f1a596fe4a582f48e6eb2f9e8f617  d04f1a596fe4a582f48e6eb2f9e8cceb   \n",
       "51     ae06c34243f741e203e97c48ebcbd9da  f622a9397b85b5c9c0ef938c5d592020   \n",
       "67     406921adcca37705ef527b4246c0cfea  406921adcca37705ef527b4246c10d2c   \n",
       "83     baacf396f773709519bbde35a5eab861  baacf396f773709519bbde35a585d91b   \n",
       "157    65b6f3b7075270499ddd0f1dc1130459  f78d50ea4f0c83a4a302d9fa82264b02   \n",
       "...                                 ...                               ...   \n",
       "23044  27c157e605c56c7df70c605963e1d386  27c157e605c56c7df70c605963e1c9b7   \n",
       "23047  406921adcca37705ef527b4246c19db3  406921adcca37705ef527b4246c1a5c6   \n",
       "23053  406921adcca37705ef527b4246c19db3  406921adcca37705ef527b4246c1a5c6   \n",
       "23063  eeb07ac5409c082354b923689341b9ec  aba044a086704ad7e9dc66b8c926408d   \n",
       "23104  56f59b58bcbbd1cdabc3652e713134c2  924d4f0e7554566623e8ebb3904a7b0c   \n",
       "\n",
       "            icon start_type            start_at     start_lat     start_lon  \\\n",
       "11     executive   reserved 2010-11-28 03:15:00  -12,10128779  -77,00463697   \n",
       "51     executive   reserved 2010-10-12 19:45:00  -12,11184692  -77,03222656   \n",
       "67     executive   reserved 2010-06-01 22:00:00  -12,12078476  -76,97079468   \n",
       "83     executive   reserved 2010-08-16 22:30:00  -12,10181985  -76,97150599   \n",
       "157    executive   reserved 2010-03-27 23:30:00   -12,0966369   -77,0295319   \n",
       "...          ...        ...                 ...           ...           ...   \n",
       "23044  executive   reserved 2010-02-14 13:45:00   -12,0918521   -77,0519091   \n",
       "23047  executive   reserved 2010-05-07 13:20:00   -12,0918423   -77,0421839   \n",
       "23053  executive   reserved 2010-05-09 01:30:00   -12,0780836   -77,0906339   \n",
       "23063  executive   reserved 2010-04-16 15:15:00   -12,0770342   -76,9885396   \n",
       "23104  executive   reserved 2010-04-04 17:00:00   -12,1119515   -77,0507767   \n",
       "\n",
       "                   end_at  ...       end_lon end_state driver_start_lat  \\\n",
       "11    2010-11-28 03:37:00  ...  -77,00418301  drop off      -12,1011259   \n",
       "51    2010-10-12 20:49:00  ...    -77,109375  drop off     -12,02907305   \n",
       "67    2010-06-01 22:42:00  ...  -77,06329346  drop off     -12,11143646   \n",
       "83    2010-08-16 22:57:00  ...  -76,99084405  drop off     -12,06300311   \n",
       "157   2010-03-28 00:25:00  ...   -77,0048048  drop off     -12,08623295   \n",
       "...                   ...  ...           ...       ...              ...   \n",
       "23044 2010-02-14 14:19:00  ...   -77,0232917  drop off      -12,0735807   \n",
       "23047 2010-05-07 14:13:00  ...   -77,0857564  drop off     -12,03970949   \n",
       "23053 2010-05-09 02:50:00  ...    -77,107768  drop off     -12,05495955   \n",
       "23063 2010-04-16 15:40:00  ...   -76,9886223  drop off     -12,04602095   \n",
       "23104 2010-04-04 17:37:00  ...   -77,0874744  drop off      -12,1115584   \n",
       "\n",
       "      driver_start_lon          arrived_at   source driver_score  rider_score  \\\n",
       "11         -77,0041831 2010-11-28 03:22:00  Android          NaN          4.0   \n",
       "51        -77,08317745 2010-10-12 19:56:00   iPhone          NaN          5.0   \n",
       "67        -76,99240794 2010-06-01 22:01:00   iPhone          4.0          5.0   \n",
       "83        -76,94575123 2010-08-16 22:33:00  Android          0.0          4.0   \n",
       "157       -77,03547408 2010-03-27 23:31:00      web          NaN          5.0   \n",
       "...                ...                 ...      ...          ...          ...   \n",
       "23044     -77,04195549 2010-02-14 13:49:00      web          NaN          NaN   \n",
       "23047     -77,05231815 2010-05-07 13:21:00      web          NaN          5.0   \n",
       "23053     -77,05101171 2010-05-09 01:40:00      web          NaN          NaN   \n",
       "23063     -77,02585903 2010-04-16 15:18:00      web          NaN          NaN   \n",
       "23104      -77,0123847 2010-04-04 17:06:00      web          NaN          NaN   \n",
       "\n",
       "       wait_time  duration  \n",
       "11           7.0      22.0  \n",
       "51          11.0      64.0  \n",
       "67           1.0      42.0  \n",
       "83           3.0      27.0  \n",
       "157          1.0      55.0  \n",
       "...          ...       ...  \n",
       "23044        4.0      34.0  \n",
       "23047        1.0      53.0  \n",
       "23053       10.0      80.0  \n",
       "23063        3.0      25.0  \n",
       "23104        6.0      37.0  \n",
       "\n",
       "[1058 rows x 21 columns]"
      ]
     },
     "execution_count": 20,
     "metadata": {},
     "output_type": "execute_result"
    }
   ],
   "source": [
    "taxi.loc[(taxi.start_type == 'reserved') & (taxi.wait_time > 0.0)]"
   ]
  },
  {
   "cell_type": "code",
   "execution_count": 21,
   "id": "a678ccde-ee7a-4aa7-910a-543d39b4cb7a",
   "metadata": {},
   "outputs": [
    {
     "data": {
      "text/plain": [
       "'406921adcca37705ef527b4246c0cfea'"
      ]
     },
     "execution_count": 21,
     "metadata": {},
     "output_type": "execute_result"
    }
   ],
   "source": [
    "taxi.loc[(taxi.start_type == 'reserved') & (taxi.wait_time > 0.0)].driver_id.value_counts().idxmax()"
   ]
  },
  {
   "cell_type": "markdown",
   "id": "cc23e154-5d74-42ed-ad7d-19c48e268e7c",
   "metadata": {},
   "source": [
    "#### Consider what factors might influence the number of delays for this driver"
   ]
  },
  {
   "cell_type": "markdown",
   "id": "7f56d04b-3b95-45cd-8f19-1a33f23d7d7a",
   "metadata": {},
   "source": [
    "##### **Hypothesis 1:** He has the longest trips, which makes it difficult to estimate the time (for example, he was stuck in traffic).\n",
    "\n",
    "**Let's test this** by calculating the median trip duration for each driver and see if the driver of interest makes it into the top"
   ]
  },
  {
   "cell_type": "code",
   "execution_count": 22,
   "id": "2ed6f725-7616-4cde-bdc2-2ddd26bf5af6",
   "metadata": {},
   "outputs": [],
   "source": [
    "taxi_1 = taxi.loc[(taxi.start_type == 'reserved')]"
   ]
  },
  {
   "cell_type": "code",
   "execution_count": 23,
   "id": "f9b90da5-cc0d-4c5a-ab01-206580c3a905",
   "metadata": {},
   "outputs": [
    {
     "data": {
      "text/html": [
       "<div>\n",
       "<style scoped>\n",
       "    .dataframe tbody tr th:only-of-type {\n",
       "        vertical-align: middle;\n",
       "    }\n",
       "\n",
       "    .dataframe tbody tr th {\n",
       "        vertical-align: top;\n",
       "    }\n",
       "\n",
       "    .dataframe thead th {\n",
       "        text-align: right;\n",
       "    }\n",
       "</style>\n",
       "<table border=\"1\" class=\"dataframe\">\n",
       "  <thead>\n",
       "    <tr style=\"text-align: right;\">\n",
       "      <th></th>\n",
       "      <th>driver_id</th>\n",
       "      <th>duration</th>\n",
       "    </tr>\n",
       "  </thead>\n",
       "  <tbody>\n",
       "    <tr>\n",
       "      <th>86</th>\n",
       "      <td>a7b047c6a09ccb85e9980d80ffaadb3d</td>\n",
       "      <td>145.0</td>\n",
       "    </tr>\n",
       "    <tr>\n",
       "      <th>72</th>\n",
       "      <td>86981d5cc39076d9d0281221fe19f3fa</td>\n",
       "      <td>86.0</td>\n",
       "    </tr>\n",
       "    <tr>\n",
       "      <th>2</th>\n",
       "      <td>0fd4a08189ac948f6beaa2d3145c81b6</td>\n",
       "      <td>85.0</td>\n",
       "    </tr>\n",
       "    <tr>\n",
       "      <th>22</th>\n",
       "      <td>2d163dcf6f3e01abf4af5b2a721ec5ac</td>\n",
       "      <td>84.0</td>\n",
       "    </tr>\n",
       "    <tr>\n",
       "      <th>134</th>\n",
       "      <td>f8cd07f929f6884cd5fea893f4da3461</td>\n",
       "      <td>83.0</td>\n",
       "    </tr>\n",
       "    <tr>\n",
       "      <th>...</th>\n",
       "      <td>...</td>\n",
       "      <td>...</td>\n",
       "    </tr>\n",
       "    <tr>\n",
       "      <th>47</th>\n",
       "      <td>587ea1ea1ab415acb010ec8308275095</td>\n",
       "      <td>6.0</td>\n",
       "    </tr>\n",
       "    <tr>\n",
       "      <th>0</th>\n",
       "      <td>031fea9628f9238b051a58808554498a</td>\n",
       "      <td>5.0</td>\n",
       "    </tr>\n",
       "    <tr>\n",
       "      <th>20</th>\n",
       "      <td>2ca81f8112b8c60af222ee2ed7278078</td>\n",
       "      <td>4.0</td>\n",
       "    </tr>\n",
       "    <tr>\n",
       "      <th>5</th>\n",
       "      <td>1238e44402a93366489cbff9884bc267</td>\n",
       "      <td>-4.0</td>\n",
       "    </tr>\n",
       "    <tr>\n",
       "      <th>93</th>\n",
       "      <td>b3ba9cda1b124b4fdc5d639f2417ca3e</td>\n",
       "      <td>-29.0</td>\n",
       "    </tr>\n",
       "  </tbody>\n",
       "</table>\n",
       "<p>144 rows × 2 columns</p>\n",
       "</div>"
      ],
      "text/plain": [
       "                            driver_id  duration\n",
       "86   a7b047c6a09ccb85e9980d80ffaadb3d     145.0\n",
       "72   86981d5cc39076d9d0281221fe19f3fa      86.0\n",
       "2    0fd4a08189ac948f6beaa2d3145c81b6      85.0\n",
       "22   2d163dcf6f3e01abf4af5b2a721ec5ac      84.0\n",
       "134  f8cd07f929f6884cd5fea893f4da3461      83.0\n",
       "..                                ...       ...\n",
       "47   587ea1ea1ab415acb010ec8308275095       6.0\n",
       "0    031fea9628f9238b051a58808554498a       5.0\n",
       "20   2ca81f8112b8c60af222ee2ed7278078       4.0\n",
       "5    1238e44402a93366489cbff9884bc267      -4.0\n",
       "93   b3ba9cda1b124b4fdc5d639f2417ca3e     -29.0\n",
       "\n",
       "[144 rows x 2 columns]"
      ]
     },
     "execution_count": 23,
     "metadata": {},
     "output_type": "execute_result"
    }
   ],
   "source": [
    "taxi_1.groupby('driver_id', as_index = False).duration.median().sort_values('duration', ascending = False)"
   ]
  },
  {
   "cell_type": "markdown",
   "id": "b3cfb9d0-c658-48d8-83f1-d43d40ed7c63",
   "metadata": {},
   "source": [
    "The driver ID *(406921adcca37705ef527b4246c0cfea)* is not present here. Our driver is not in the top 10, so we discard **the hypothesis**."
   ]
  },
  {
   "cell_type": "markdown",
   "id": "63248fd3-6d76-4d72-8bbe-7fe490139b18",
   "metadata": {},
   "source": [
    "##### **Hypothesis 2:** He has the most trips overall, which is why he is late more often.\n",
    "\n",
    "**Let's test** this by finding the top 5 drivers by the number of trips."
   ]
  },
  {
   "cell_type": "code",
   "execution_count": 24,
   "id": "83ad2fdb-c342-44b8-9adb-5c187fcf6719",
   "metadata": {},
   "outputs": [
    {
     "data": {
      "text/html": [
       "<div>\n",
       "<style scoped>\n",
       "    .dataframe tbody tr th:only-of-type {\n",
       "        vertical-align: middle;\n",
       "    }\n",
       "\n",
       "    .dataframe tbody tr th {\n",
       "        vertical-align: top;\n",
       "    }\n",
       "\n",
       "    .dataframe thead th {\n",
       "        text-align: right;\n",
       "    }\n",
       "</style>\n",
       "<table border=\"1\" class=\"dataframe\">\n",
       "  <thead>\n",
       "    <tr style=\"text-align: right;\">\n",
       "      <th></th>\n",
       "      <th>driver_id</th>\n",
       "      <th>n_journeys</th>\n",
       "    </tr>\n",
       "  </thead>\n",
       "  <tbody>\n",
       "    <tr>\n",
       "      <th>119</th>\n",
       "      <td>d665fb9f75ef5d9cd0fd89479380ba78</td>\n",
       "      <td>579</td>\n",
       "    </tr>\n",
       "    <tr>\n",
       "      <th>109</th>\n",
       "      <td>c814db2127582cf95dea1f74f43127c2</td>\n",
       "      <td>385</td>\n",
       "    </tr>\n",
       "    <tr>\n",
       "      <th>34</th>\n",
       "      <td>406921adcca37705ef527b4246c0cfea</td>\n",
       "      <td>363</td>\n",
       "    </tr>\n",
       "    <tr>\n",
       "      <th>143</th>\n",
       "      <td>ff5c924e0b630fd7c019a4234059fdf4</td>\n",
       "      <td>359</td>\n",
       "    </tr>\n",
       "    <tr>\n",
       "      <th>33</th>\n",
       "      <td>406921adcca37705ef527b4246bbbff5</td>\n",
       "      <td>346</td>\n",
       "    </tr>\n",
       "  </tbody>\n",
       "</table>\n",
       "</div>"
      ],
      "text/plain": [
       "                            driver_id  n_journeys\n",
       "119  d665fb9f75ef5d9cd0fd89479380ba78         579\n",
       "109  c814db2127582cf95dea1f74f43127c2         385\n",
       "34   406921adcca37705ef527b4246c0cfea         363\n",
       "143  ff5c924e0b630fd7c019a4234059fdf4         359\n",
       "33   406921adcca37705ef527b4246bbbff5         346"
      ]
     },
     "execution_count": 24,
     "metadata": {},
     "output_type": "execute_result"
    }
   ],
   "source": [
    "taxi_journeys = (taxi_1.groupby('driver_id', as_index=False)\n",
    "                       .agg(n_journeys=('journey_id', 'count'))\n",
    "                       .sort_values('n_journeys', ascending=False))\n",
    "taxi_journeys.head()"
   ]
  },
  {
   "cell_type": "markdown",
   "id": "dc0dac57-b8dd-43c3-8920-87ca841320ca",
   "metadata": {},
   "source": [
    "Our driver is in 3rd place, but not 1st. Let's compare this with the top \"late\" drivers."
   ]
  },
  {
   "cell_type": "code",
   "execution_count": 25,
   "id": "bcedf3cc-69c6-4b11-b708-48e49dceda4f",
   "metadata": {},
   "outputs": [
    {
     "data": {
      "text/html": [
       "<div>\n",
       "<style scoped>\n",
       "    .dataframe tbody tr th:only-of-type {\n",
       "        vertical-align: middle;\n",
       "    }\n",
       "\n",
       "    .dataframe tbody tr th {\n",
       "        vertical-align: top;\n",
       "    }\n",
       "\n",
       "    .dataframe thead th {\n",
       "        text-align: right;\n",
       "    }\n",
       "</style>\n",
       "<table border=\"1\" class=\"dataframe\">\n",
       "  <thead>\n",
       "    <tr style=\"text-align: right;\">\n",
       "      <th></th>\n",
       "      <th>driver_id</th>\n",
       "      <th>n_lates</th>\n",
       "    </tr>\n",
       "  </thead>\n",
       "  <tbody>\n",
       "    <tr>\n",
       "      <th>24</th>\n",
       "      <td>406921adcca37705ef527b4246c0cfea</td>\n",
       "      <td>67</td>\n",
       "    </tr>\n",
       "    <tr>\n",
       "      <th>86</th>\n",
       "      <td>d665fb9f75ef5d9cd0fd89479380ba78</td>\n",
       "      <td>59</td>\n",
       "    </tr>\n",
       "    <tr>\n",
       "      <th>93</th>\n",
       "      <td>ec84a73745199ff840ecafcb924383ad</td>\n",
       "      <td>57</td>\n",
       "    </tr>\n",
       "    <tr>\n",
       "      <th>29</th>\n",
       "      <td>56f59b58bcbbd1cdabc3652e713134c2</td>\n",
       "      <td>51</td>\n",
       "    </tr>\n",
       "    <tr>\n",
       "      <th>77</th>\n",
       "      <td>c814db2127582cf95dea1f74f43127c2</td>\n",
       "      <td>45</td>\n",
       "    </tr>\n",
       "  </tbody>\n",
       "</table>\n",
       "</div>"
      ],
      "text/plain": [
       "                           driver_id  n_lates\n",
       "24  406921adcca37705ef527b4246c0cfea       67\n",
       "86  d665fb9f75ef5d9cd0fd89479380ba78       59\n",
       "93  ec84a73745199ff840ecafcb924383ad       57\n",
       "29  56f59b58bcbbd1cdabc3652e713134c2       51\n",
       "77  c814db2127582cf95dea1f74f43127c2       45"
      ]
     },
     "execution_count": 25,
     "metadata": {},
     "output_type": "execute_result"
    }
   ],
   "source": [
    "taxi_lates = (taxi.loc[(taxi.start_type == 'reserved') & (taxi.wait_time > 0.0)]\n",
    "                  .groupby('driver_id', as_index=False)\n",
    "                  .agg(n_lates=('journey_id', 'count'))\n",
    "                  .sort_values('n_lates', ascending=False))\n",
    "taxi_lates.head()"
   ]
  },
  {
   "cell_type": "markdown",
   "id": "1aa12644-36ae-4763-bf95-192f36fae8a2",
   "metadata": {},
   "source": [
    "We see that three drivers are present in both top lists. It makes sense—those who drive more also tend to be late more often.\n",
    "\n",
    "Let's try to look not at the absolute number of delays, but at their share—perhaps our driver will not be the one with the highest delays.\n",
    "\n",
    "Once again, let's look at the top 5 by the number of trips:"
   ]
  },
  {
   "cell_type": "code",
   "execution_count": 26,
   "id": "18b3e823-7a59-4adb-927c-26ea481d1af2",
   "metadata": {},
   "outputs": [],
   "source": [
    "reserved_journeys = taxi_journeys.merge(taxi_lates, on = 'driver_id')"
   ]
  },
  {
   "cell_type": "code",
   "execution_count": 27,
   "id": "beb24fc1-65d3-45fd-9df7-18221f8eb1ce",
   "metadata": {},
   "outputs": [
    {
     "data": {
      "text/html": [
       "<div>\n",
       "<style scoped>\n",
       "    .dataframe tbody tr th:only-of-type {\n",
       "        vertical-align: middle;\n",
       "    }\n",
       "\n",
       "    .dataframe tbody tr th {\n",
       "        vertical-align: top;\n",
       "    }\n",
       "\n",
       "    .dataframe thead th {\n",
       "        text-align: right;\n",
       "    }\n",
       "</style>\n",
       "<table border=\"1\" class=\"dataframe\">\n",
       "  <thead>\n",
       "    <tr style=\"text-align: right;\">\n",
       "      <th></th>\n",
       "      <th>driver_id</th>\n",
       "      <th>n_journeys</th>\n",
       "      <th>n_lates</th>\n",
       "      <th>late_score</th>\n",
       "    </tr>\n",
       "  </thead>\n",
       "  <tbody>\n",
       "    <tr>\n",
       "      <th>2</th>\n",
       "      <td>406921adcca37705ef527b4246c0cfea</td>\n",
       "      <td>363</td>\n",
       "      <td>67</td>\n",
       "      <td>0.18</td>\n",
       "    </tr>\n",
       "    <tr>\n",
       "      <th>0</th>\n",
       "      <td>d665fb9f75ef5d9cd0fd89479380ba78</td>\n",
       "      <td>579</td>\n",
       "      <td>59</td>\n",
       "      <td>0.10</td>\n",
       "    </tr>\n",
       "    <tr>\n",
       "      <th>5</th>\n",
       "      <td>ec84a73745199ff840ecafcb924383ad</td>\n",
       "      <td>330</td>\n",
       "      <td>57</td>\n",
       "      <td>0.17</td>\n",
       "    </tr>\n",
       "    <tr>\n",
       "      <th>14</th>\n",
       "      <td>56f59b58bcbbd1cdabc3652e713134c2</td>\n",
       "      <td>130</td>\n",
       "      <td>51</td>\n",
       "      <td>0.39</td>\n",
       "    </tr>\n",
       "    <tr>\n",
       "      <th>1</th>\n",
       "      <td>c814db2127582cf95dea1f74f43127c2</td>\n",
       "      <td>385</td>\n",
       "      <td>45</td>\n",
       "      <td>0.12</td>\n",
       "    </tr>\n",
       "  </tbody>\n",
       "</table>\n",
       "</div>"
      ],
      "text/plain": [
       "                           driver_id  n_journeys  n_lates  late_score\n",
       "2   406921adcca37705ef527b4246c0cfea         363       67        0.18\n",
       "0   d665fb9f75ef5d9cd0fd89479380ba78         579       59        0.10\n",
       "5   ec84a73745199ff840ecafcb924383ad         330       57        0.17\n",
       "14  56f59b58bcbbd1cdabc3652e713134c2         130       51        0.39\n",
       "1   c814db2127582cf95dea1f74f43127c2         385       45        0.12"
      ]
     },
     "execution_count": 27,
     "metadata": {},
     "output_type": "execute_result"
    }
   ],
   "source": [
    "reserved_journeys['late_score'] = (reserved_journeys['n_lates'] / reserved_journeys['n_journeys']).round(2)\n",
    "reserved_journeys.sort_values('n_lates', ascending = False).head(5)"
   ]
  },
  {
   "cell_type": "markdown",
   "id": "82a82a49-58bf-44b7-a614-f81a7a33f6ee",
   "metadata": {},
   "source": [
    "Here, our driver is in first place for the share of delays—delays occurred in 67 trips out of 363, or in 18% of cases.\n",
    "\n",
    "However, overall among all drivers, he is not that bad: about half of the drivers were late more often (the median share of delays is 17.4%)."
   ]
  },
  {
   "cell_type": "code",
   "execution_count": 28,
   "id": "c13fb30d-17e0-4de9-9193-9a9c1c841ee7",
   "metadata": {},
   "outputs": [
    {
     "data": {
      "text/plain": [
       "count    105.000000\n",
       "mean       0.219905\n",
       "std        0.167398\n",
       "min        0.020000\n",
       "25%        0.120000\n",
       "50%        0.170000\n",
       "75%        0.260000\n",
       "max        1.000000\n",
       "Name: late_score, dtype: float64"
      ]
     },
     "execution_count": 28,
     "metadata": {},
     "output_type": "execute_result"
    }
   ],
   "source": [
    "reserved_journeys['late_score'].describe()"
   ]
  },
  {
   "cell_type": "markdown",
   "id": "2bc0404a-725d-45e7-b3e6-39024c418763",
   "metadata": {},
   "source": [
    "Conclusion – our driver:\n",
    "\n",
    "* is one of the most active (makes a lot of trips)\n",
    "* is not very punctual (though not the least punctual)\n",
    "  \n",
    "These factors combined have placed him in the top for delays. If he were a bit more punctual or drove slightly less often, this wouldn't have happened.\n",
    "\n",
    "A third possible factor is that among the top active drivers, there are the most responsible individuals—whose share of delays is lower than that of 75% of drivers—making it difficult to compete with them."
   ]
  },
  {
   "cell_type": "markdown",
   "id": "709d34d4-77d0-4b3b-9ee4-66ecdfd31552",
   "metadata": {},
   "source": [
    " "
   ]
  },
  {
   "cell_type": "markdown",
   "id": "84359d76-04a2-476d-87cd-1eaf3054f9ab",
   "metadata": {},
   "source": [
    "Add a column for the month, where the month number in which the order was made (based on *start_at*) will be stored, and a column for the weekday – the name of the day of the week."
   ]
  },
  {
   "cell_type": "code",
   "execution_count": 29,
   "id": "faccdbe0-0605-4939-a530-f400382e2564",
   "metadata": {},
   "outputs": [],
   "source": [
    "taxi['month'] = taxi.start_at.dt.month"
   ]
  },
  {
   "cell_type": "code",
   "execution_count": 30,
   "id": "4eeb558d-2985-4860-9700-246de411fb16",
   "metadata": {},
   "outputs": [],
   "source": [
    "taxi['weekday'] = taxi.start_at.dt.strftime('%A')"
   ]
  },
  {
   "cell_type": "code",
   "execution_count": 31,
   "id": "98e2174d-e3b0-4cdf-afbd-075aef1dcc16",
   "metadata": {},
   "outputs": [
    {
     "data": {
      "text/html": [
       "<div>\n",
       "<style scoped>\n",
       "    .dataframe tbody tr th:only-of-type {\n",
       "        vertical-align: middle;\n",
       "    }\n",
       "\n",
       "    .dataframe tbody tr th {\n",
       "        vertical-align: top;\n",
       "    }\n",
       "\n",
       "    .dataframe thead th {\n",
       "        text-align: right;\n",
       "    }\n",
       "</style>\n",
       "<table border=\"1\" class=\"dataframe\">\n",
       "  <thead>\n",
       "    <tr style=\"text-align: right;\">\n",
       "      <th></th>\n",
       "      <th>start_at</th>\n",
       "      <th>month</th>\n",
       "      <th>weekday</th>\n",
       "    </tr>\n",
       "  </thead>\n",
       "  <tbody>\n",
       "    <tr>\n",
       "      <th>0</th>\n",
       "      <td>2010-11-16 16:44:00</td>\n",
       "      <td>11</td>\n",
       "      <td>Tuesday</td>\n",
       "    </tr>\n",
       "    <tr>\n",
       "      <th>1</th>\n",
       "      <td>2010-06-01 00:34:00</td>\n",
       "      <td>6</td>\n",
       "      <td>Tuesday</td>\n",
       "    </tr>\n",
       "    <tr>\n",
       "      <th>2</th>\n",
       "      <td>2010-05-31 05:01:00</td>\n",
       "      <td>5</td>\n",
       "      <td>Monday</td>\n",
       "    </tr>\n",
       "    <tr>\n",
       "      <th>3</th>\n",
       "      <td>2010-06-01 00:29:00</td>\n",
       "      <td>6</td>\n",
       "      <td>Tuesday</td>\n",
       "    </tr>\n",
       "    <tr>\n",
       "      <th>4</th>\n",
       "      <td>2010-09-11 23:55:00</td>\n",
       "      <td>9</td>\n",
       "      <td>Saturday</td>\n",
       "    </tr>\n",
       "  </tbody>\n",
       "</table>\n",
       "</div>"
      ],
      "text/plain": [
       "             start_at  month   weekday\n",
       "0 2010-11-16 16:44:00     11   Tuesday\n",
       "1 2010-06-01 00:34:00      6   Tuesday\n",
       "2 2010-05-31 05:01:00      5    Monday\n",
       "3 2010-06-01 00:29:00      6   Tuesday\n",
       "4 2010-09-11 23:55:00      9  Saturday"
      ]
     },
     "execution_count": 31,
     "metadata": {},
     "output_type": "execute_result"
    }
   ],
   "source": [
    "taxi[['start_at', 'month', 'weekday']].head()"
   ]
  },
  {
   "cell_type": "markdown",
   "id": "1c9349ad-fde0-4364-87b6-b82b1d6f2afe",
   "metadata": {},
   "source": [
    "Plot the number of orders by month *(month)*"
   ]
  },
  {
   "cell_type": "code",
   "execution_count": 32,
   "id": "c55fdebc-6553-4039-891b-1a3b79cfa8ea",
   "metadata": {},
   "outputs": [
    {
     "data": {
      "text/plain": [
       "<Axes: xlabel='month', ylabel='count'>"
      ]
     },
     "execution_count": 32,
     "metadata": {},
     "output_type": "execute_result"
    },
    {
     "data": {
      "image/png": "[encoded data removed]",
      "text/plain": [
       "<Figure size 640x480 with 1 Axes>"
      ]
     },
     "metadata": {},
     "output_type": "display_data"
    }
   ],
   "source": [
    "sns.countplot(data=taxi, x='month')"
   ]
  },
  {
   "cell_type": "markdown",
   "id": "64917f44-12ad-419d-b294-b09719082074",
   "metadata": {},
   "source": [
    "Now, plot the graph by days of the week *(weekday)*"
   ]
  },
  {
   "cell_type": "code",
   "execution_count": 33,
   "id": "4ff8d5a2-947e-41db-bbbe-c6b8cf8b46eb",
   "metadata": {},
   "outputs": [],
   "source": [
    "order=['Monday', 'Tuesday', 'Wednesday', 'Thursday', 'Friday', 'Saturday', 'Sunday']"
   ]
  },
  {
   "cell_type": "code",
   "execution_count": 34,
   "id": "82319cf6-29d6-44ad-9191-676fa43c118e",
   "metadata": {},
   "outputs": [
    {
     "data": {
      "image/png": "[encoded data removed]",
      "text/plain": [
       "<Figure size 640x480 with 1 Axes>"
      ]
     },
     "metadata": {},
     "output_type": "display_data"
    }
   ],
   "source": [
    "ax = sns.countplot(data = taxi, x = 'weekday', order=order)\n",
    "ax.tick_params(axis = 'x', rotation = 45)"
   ]
  },
  {
   "cell_type": "markdown",
   "id": "b65cb954-0899-4e38-b01e-ebc82137396b",
   "metadata": {},
   "source": [
    "We can also look at a few simple metrics that show the number of unique users over a specific period:"
   ]
  },
  {
   "cell_type": "code",
   "execution_count": 35,
   "id": "f81a36bf-4b4a-405d-9c1c-c9c0b0b9a7e5",
   "metadata": {},
   "outputs": [],
   "source": [
    "DAU = taxi.groupby(taxi.start_at.dt.day).user_id.nunique()\n",
    "WAU = taxi.groupby('weekday').user_id.nunique()\n",
    "MAU = taxi.groupby('month').user_id.nunique()"
   ]
  },
  {
   "cell_type": "code",
   "execution_count": 36,
   "id": "800170c5-beb7-4048-9445-24d59b39ef7a",
   "metadata": {},
   "outputs": [
    {
     "data": {
      "text/plain": [
       "<Axes: xlabel='start_at'>"
      ]
     },
     "execution_count": 36,
     "metadata": {},
     "output_type": "execute_result"
    },
    {
     "data": {
      "image/png": "[encoded data removed]",
      "text/plain": [
       "<Figure size 640x480 with 1 Axes>"
      ]
     },
     "metadata": {},
     "output_type": "display_data"
    }
   ],
   "source": [
    "DAU.plot.line()"
   ]
  },
  {
   "cell_type": "code",
   "execution_count": 37,
   "id": "17929bbb-8cc2-4070-a9f9-f7cfed8121ed",
   "metadata": {},
   "outputs": [
    {
     "data": {
      "text/plain": [
       "<Axes: xlabel='weekday'>"
      ]
     },
     "execution_count": 37,
     "metadata": {},
     "output_type": "execute_result"
    },
    {
     "data": {
      "image/png": "[encoded data removed]",
      "text/plain": [
       "<Figure size 640x480 with 1 Axes>"
      ]
     },
     "metadata": {},
     "output_type": "display_data"
    }
   ],
   "source": [
    "WAU.plot.line()"
   ]
  },
  {
   "cell_type": "code",
   "execution_count": 38,
   "id": "4ea40218-760c-4760-9b82-1f2e8a2968f0",
   "metadata": {},
   "outputs": [
    {
     "data": {
      "text/plain": [
       "<Axes: xlabel='month'>"
      ]
     },
     "execution_count": 38,
     "metadata": {},
     "output_type": "execute_result"
    },
    {
     "data": {
      "image/png": "[encoded data removed]",
      "text/plain": [
       "<Figure size 640x480 with 1 Axes>"
      ]
     },
     "metadata": {},
     "output_type": "display_data"
    }
   ],
   "source": [
    "MAU.plot.line()"
   ]
  }
 ],
 "metadata": {
  "kernelspec": {
   "display_name": "Python 3 (ipykernel)",
   "language": "python",
   "name": "python3"
  },
  "language_info": {
   "codemirror_mode": {
    "name": "ipython",
    "version": 3
   },
   "file_extension": ".py",
   "mimetype": "text/x-python",
   "name": "python",
   "nbconvert_exporter": "python",
   "pygments_lexer": "ipython3",
   "version": "3.12.2"
  }
 },
 "nbformat": 4,
 "nbformat_minor": 5
}
