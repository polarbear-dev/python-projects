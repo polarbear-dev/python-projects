{
 "cells": [
  {
   "cell_type": "code",
   "execution_count": 23,
   "id": "70d9e281-8f1b-473d-9668-775a4bd9a91a",
   "metadata": {},
   "outputs": [],
   "source": [
    "import pandas as pd\n",
    "import os\n",
    "import seaborn as sns\n",
    "import matplotlib.pyplot as plt\n",
    "\n",
    "%matplotlib inline"
   ]
  },
  {
   "cell_type": "markdown",
   "id": "ed5bdd06-a90e-46dd-b1b4-21b55d6e1c03",
   "metadata": {},
   "source": [
    "Collect all data from the **data** folder into one DataFrame"
   ]
  },
  {
   "cell_type": "code",
   "execution_count": 43,
   "id": "94edbe70-030d-4b3d-b7c0-3603b1306ce7",
   "metadata": {},
   "outputs": [],
   "source": [
    "df = pd.DataFrame()  # Create an empty DataFrame\n",
    "\n",
    "for (root, dirs, files) in os.walk('4_data'):\n",
    "    # Iterate over the directory tree rooted at '4_data'\n",
    "    # At each iteration, os.walk() returns a tuple containing:\n",
    "    # - root: the current directory path\n",
    "    # - dirs: a list of subdirectories in the current directory\n",
    "    # - files: a list of files in the current directory\n",
    "    \n",
    "    if files:  # Check if the current directory contains any files\n",
    "        date, name = root.split('\\\\')[2:4]  # Extract 'date' and 'name' from the directory path\n",
    "        df_1 = pd.read_csv(os.path.join('C:\\\\Users\\\\i.trigub\\\\Python\\\\', root, files), index_col=0)  # Read the first CSV file in the directory into a DataFrame\n",
    "        df_1['name'] = name  # Add a new column 'name' with the extracted name\n",
    "        df_1['date'] = date  # Add a new column 'date' with the extracted date\n",
    "        df = pd.concat([df, df_1], ignore_index=True)  # Append the DataFrame to the main DataFrame, resetting the index\n"
   ]
  },
  {
   "cell_type": "code",
   "execution_count": 3,
   "id": "25e7af71-bb75-410e-ab12-c1f9d2a64562",
   "metadata": {},
   "outputs": [
    {
     "data": {
      "text/html": [
       "<div>\n",
       "<style scoped>\n",
       "    .dataframe tbody tr th:only-of-type {\n",
       "        vertical-align: middle;\n",
       "    }\n",
       "\n",
       "    .dataframe tbody tr th {\n",
       "        vertical-align: top;\n",
       "    }\n",
       "\n",
       "    .dataframe thead th {\n",
       "        text-align: right;\n",
       "    }\n",
       "</style>\n",
       "<table border=\"1\" class=\"dataframe\">\n",
       "  <thead>\n",
       "    <tr style=\"text-align: right;\">\n",
       "      <th></th>\n",
       "      <th>product_id</th>\n",
       "      <th>quantity</th>\n",
       "      <th>name</th>\n",
       "      <th>date</th>\n",
       "    </tr>\n",
       "  </thead>\n",
       "  <tbody>\n",
       "    <tr>\n",
       "      <th>0</th>\n",
       "      <td>47</td>\n",
       "      <td>1</td>\n",
       "      <td>Alexey_Smirnov</td>\n",
       "      <td>2020-12-03</td>\n",
       "    </tr>\n",
       "    <tr>\n",
       "      <th>1</th>\n",
       "      <td>57</td>\n",
       "      <td>1</td>\n",
       "      <td>Alexey_Smirnov</td>\n",
       "      <td>2020-12-03</td>\n",
       "    </tr>\n",
       "    <tr>\n",
       "      <th>2</th>\n",
       "      <td>14</td>\n",
       "      <td>2</td>\n",
       "      <td>Alexey_Smirnov</td>\n",
       "      <td>2020-12-03</td>\n",
       "    </tr>\n",
       "    <tr>\n",
       "      <th>3</th>\n",
       "      <td>52</td>\n",
       "      <td>1</td>\n",
       "      <td>Alexey_Smirnov</td>\n",
       "      <td>2020-12-03</td>\n",
       "    </tr>\n",
       "    <tr>\n",
       "      <th>4</th>\n",
       "      <td>1</td>\n",
       "      <td>4</td>\n",
       "      <td>Alexey_Smirnov</td>\n",
       "      <td>2020-12-03</td>\n",
       "    </tr>\n",
       "    <tr>\n",
       "      <th>5</th>\n",
       "      <td>94</td>\n",
       "      <td>4</td>\n",
       "      <td>Alexey_Smirnov</td>\n",
       "      <td>2020-12-03</td>\n",
       "    </tr>\n",
       "    <tr>\n",
       "      <th>6</th>\n",
       "      <td>56</td>\n",
       "      <td>5</td>\n",
       "      <td>Anton_Petrov</td>\n",
       "      <td>2020-12-03</td>\n",
       "    </tr>\n",
       "    <tr>\n",
       "      <th>7</th>\n",
       "      <td>27</td>\n",
       "      <td>3</td>\n",
       "      <td>Anton_Petrov</td>\n",
       "      <td>2020-12-03</td>\n",
       "    </tr>\n",
       "    <tr>\n",
       "      <th>8</th>\n",
       "      <td>82</td>\n",
       "      <td>1</td>\n",
       "      <td>Anton_Petrov</td>\n",
       "      <td>2020-12-03</td>\n",
       "    </tr>\n",
       "    <tr>\n",
       "      <th>9</th>\n",
       "      <td>61</td>\n",
       "      <td>1</td>\n",
       "      <td>Anton_Petrov</td>\n",
       "      <td>2020-12-03</td>\n",
       "    </tr>\n",
       "  </tbody>\n",
       "</table>\n",
       "</div>"
      ],
      "text/plain": [
       "   product_id  quantity            name        date\n",
       "0          47         1  Alexey_Smirnov  2020-12-03\n",
       "1          57         1  Alexey_Smirnov  2020-12-03\n",
       "2          14         2  Alexey_Smirnov  2020-12-03\n",
       "3          52         1  Alexey_Smirnov  2020-12-03\n",
       "4           1         4  Alexey_Smirnov  2020-12-03\n",
       "5          94         4  Alexey_Smirnov  2020-12-03\n",
       "6          56         5    Anton_Petrov  2020-12-03\n",
       "7          27         3    Anton_Petrov  2020-12-03\n",
       "8          82         1    Anton_Petrov  2020-12-03\n",
       "9          61         1    Anton_Petrov  2020-12-03"
      ]
     },
     "execution_count": 3,
     "metadata": {},
     "output_type": "execute_result"
    }
   ],
   "source": [
    "df.head(10)"
   ]
  },
  {
   "cell_type": "markdown",
   "id": "f709e231-0421-4336-9850-00eade26504a",
   "metadata": {},
   "source": [
    "Let’s look at the total amount of goods"
   ]
  },
  {
   "cell_type": "code",
   "execution_count": 4,
   "id": "58b61cda-00ff-4ef4-9d6d-764271b8c067",
   "metadata": {},
   "outputs": [
    {
     "data": {
      "text/plain": [
       "480"
      ]
     },
     "execution_count": 4,
     "metadata": {},
     "output_type": "execute_result"
    }
   ],
   "source": [
    "df.quantity.sum()"
   ]
  },
  {
   "cell_type": "markdown",
   "id": "660424b0-4d4e-4f1c-bb55-e15fe5e01632",
   "metadata": {},
   "source": [
    "Find out which user bought the most goods"
   ]
  },
  {
   "cell_type": "code",
   "execution_count": 13,
   "id": "c3458661-22dd-42c8-bdff-6c5ffbb2de80",
   "metadata": {},
   "outputs": [],
   "source": [
    "quantity_bought = df.groupby('name').quantity.sum()"
   ]
  },
  {
   "cell_type": "code",
   "execution_count": 16,
   "id": "c16241cb-d3f8-4f3e-9d4c-8e1de22d7d99",
   "metadata": {},
   "outputs": [
    {
     "data": {
      "text/plain": [
       "52"
      ]
     },
     "execution_count": 16,
     "metadata": {},
     "output_type": "execute_result"
    }
   ],
   "source": [
    "max_quantity = quantity_bought.max()\n",
    "max_bought"
   ]
  },
  {
   "cell_type": "code",
   "execution_count": 17,
   "id": "880d0610-39a8-4447-badd-8a939bcda769",
   "metadata": {},
   "outputs": [
    {
     "data": {
      "text/plain": [
       "Index(['Alexey_Smirnov', 'Petr_Smirnov'], dtype='object', name='name')"
      ]
     },
     "execution_count": 17,
     "metadata": {},
     "output_type": "execute_result"
    }
   ],
   "source": [
    "quantity_bought.loc[quantity_bought == max_quantity].index"
   ]
  },
  {
   "cell_type": "markdown",
   "id": "7096bbae-6be1-430c-8519-630cd9f5d2e9",
   "metadata": {},
   "source": [
    "Find the top 10 products by the number of units sold over all time and create a bar plot."
   ]
  },
  {
   "cell_type": "code",
   "execution_count": 18,
   "id": "1850d05b-fb7d-4890-92e1-aa4331512852",
   "metadata": {},
   "outputs": [],
   "source": [
    "products_sold = df.groupby('product_id', as_index = False).quantity.sum()"
   ]
  },
  {
   "cell_type": "code",
   "execution_count": 19,
   "id": "48bac5ae-3058-46cb-8e5c-f0dbf61eb2d3",
   "metadata": {},
   "outputs": [
    {
     "data": {
      "text/html": [
       "<div>\n",
       "<style scoped>\n",
       "    .dataframe tbody tr th:only-of-type {\n",
       "        vertical-align: middle;\n",
       "    }\n",
       "\n",
       "    .dataframe tbody tr th {\n",
       "        vertical-align: top;\n",
       "    }\n",
       "\n",
       "    .dataframe thead th {\n",
       "        text-align: right;\n",
       "    }\n",
       "</style>\n",
       "<table border=\"1\" class=\"dataframe\">\n",
       "  <thead>\n",
       "    <tr style=\"text-align: right;\">\n",
       "      <th></th>\n",
       "      <th>product_id</th>\n",
       "      <th>quantity</th>\n",
       "    </tr>\n",
       "  </thead>\n",
       "  <tbody>\n",
       "    <tr>\n",
       "      <th>0</th>\n",
       "      <td>0</td>\n",
       "      <td>4</td>\n",
       "    </tr>\n",
       "    <tr>\n",
       "      <th>1</th>\n",
       "      <td>1</td>\n",
       "      <td>4</td>\n",
       "    </tr>\n",
       "    <tr>\n",
       "      <th>2</th>\n",
       "      <td>3</td>\n",
       "      <td>8</td>\n",
       "    </tr>\n",
       "    <tr>\n",
       "      <th>3</th>\n",
       "      <td>4</td>\n",
       "      <td>6</td>\n",
       "    </tr>\n",
       "    <tr>\n",
       "      <th>4</th>\n",
       "      <td>6</td>\n",
       "      <td>10</td>\n",
       "    </tr>\n",
       "  </tbody>\n",
       "</table>\n",
       "</div>"
      ],
      "text/plain": [
       "   product_id  quantity\n",
       "0           0         4\n",
       "1           1         4\n",
       "2           3         8\n",
       "3           4         6\n",
       "4           6        10"
      ]
     },
     "execution_count": 19,
     "metadata": {},
     "output_type": "execute_result"
    }
   ],
   "source": [
    "products_sold.head()"
   ]
  },
  {
   "cell_type": "code",
   "execution_count": 20,
   "id": "754bcbc6-47ba-4a4e-8d65-198fa9e67bd2",
   "metadata": {},
   "outputs": [],
   "source": [
    "products_sold = products_sold.sort_values('quantity', ascending = False).head(10)"
   ]
  },
  {
   "cell_type": "code",
   "execution_count": 29,
   "id": "52e291bb-cb5e-4668-a952-ac10c37bafef",
   "metadata": {},
   "outputs": [
    {
     "data": {
      "text/plain": [
       "Text(0.5, 1.0, 'Top 10 most purchased products')"
      ]
     },
     "execution_count": 29,
     "metadata": {},
     "output_type": "execute_result"
    },
    {
     "data": {
      "image/png": "[encoded data removed]",
      "text/plain": [
       "<Figure size 1700x500 with 1 Axes>"
      ]
     },
     "metadata": {},
     "output_type": "display_data"
    }
   ],
   "source": [
    "fig, ax = plt.subplots(figsize = (17,5))\n",
    "sns.barplot(data = products_sold, x = 'product_id', y = 'quantity',\n",
    "            order = products_sold.sort_values('quantity').product_id, ax=ax)\n",
    "\n",
    "ax.bar_label(ax.containers[0])\n",
    "\n",
    "ax.set_title('Top 10 most purchased products')"
   ]
  },
  {
   "cell_type": "markdown",
   "id": "a7f21aae-aaf3-4d7f-9ce7-bf16a867d86d",
   "metadata": {},
   "source": [
    "Let’s look at the sales by day"
   ]
  },
  {
   "cell_type": "code",
   "execution_count": 33,
   "id": "4894dbcc-452a-47e9-a40c-da67b1509762",
   "metadata": {},
   "outputs": [],
   "source": [
    "products_per_day = df.groupby('date', as_index = False).quantity.sum()"
   ]
  },
  {
   "cell_type": "code",
   "execution_count": 37,
   "id": "3d0042ab-a072-4827-b70c-b30d8fd94a2e",
   "metadata": {},
   "outputs": [
    {
     "data": {
      "text/plain": [
       "Text(0.5, 1.0, 'Purchases by day')"
      ]
     },
     "execution_count": 37,
     "metadata": {},
     "output_type": "execute_result"
    },
    {
     "data": {
      "image/png": "[encoded data removed]",
      "text/plain": [
       "<Figure size 1000x500 with 1 Axes>"
      ]
     },
     "metadata": {},
     "output_type": "display_data"
    }
   ],
   "source": [
    "fig, ax = plt.subplots(figsize = (10, 5))\n",
    "sns.barplot(data = products_per_day, x = 'date', y = 'quantity',\n",
    "            order = products_per_day.date, ax=ax)\n",
    "\n",
    "ax.bar_label(ax.containers[0])\n",
    "\n",
    "ax.tick_params(axis = 'x', rotation = 45)\n",
    "ax.set_title('Purchases by day')"
   ]
  },
  {
   "cell_type": "markdown",
   "id": "53986731-5616-416d-8e10-4511bad6af73",
   "metadata": {},
   "source": [
    "How many users have purchased any product more than once?"
   ]
  },
  {
   "cell_type": "code",
   "execution_count": 40,
   "id": "b89a1f83-53a9-4e4f-b5c4-64999af7dc9a",
   "metadata": {},
   "outputs": [
    {
     "data": {
      "text/plain": [
       "name            product_id\n",
       "Anton_Ivanov    15            2\n",
       "Petr_Fedorov    94            2\n",
       "Alexey_Fedorov  13            1\n",
       "Petr_Smirnov    21            1\n",
       "Petr_Petrov     64            1\n",
       "                             ..\n",
       "Anton_Smirnov   28            1\n",
       "                33            1\n",
       "                34            1\n",
       "                40            1\n",
       "Vasiliy_Petrov  78            1\n",
       "Name: date, Length: 158, dtype: int64"
      ]
     },
     "execution_count": 40,
     "metadata": {},
     "output_type": "execute_result"
    }
   ],
   "source": [
    "same_product = df.groupby(['name', 'product_id']).date.nunique().sort_values(ascending = False)\n",
    "same_product"
   ]
  },
  {
   "cell_type": "code",
   "execution_count": 42,
   "id": "3d566ac3-f605-4ac2-8b60-b430bc04119f",
   "metadata": {},
   "outputs": [
    {
     "data": {
      "text/plain": [
       "name          product_id\n",
       "Anton_Ivanov  15            2\n",
       "Petr_Fedorov  94            2\n",
       "Name: date, dtype: int64"
      ]
     },
     "execution_count": 42,
     "metadata": {},
     "output_type": "execute_result"
    }
   ],
   "source": [
    "same_product.loc[same_product > 1]"
   ]
  }
 ],
 "metadata": {
  "kernelspec": {
   "display_name": "Python [conda env:base] *",
   "language": "python",
   "name": "conda-base-py"
  },
  "language_info": {
   "codemirror_mode": {
    "name": "ipython",
    "version": 3
   },
   "file_extension": ".py",
   "mimetype": "text/x-python",
   "name": "python",
   "nbconvert_exporter": "python",
   "pygments_lexer": "ipython3",
   "version": "3.12.2"
  }
 },
 "nbformat": 4,
 "nbformat_minor": 5
}
