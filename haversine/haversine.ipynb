{
 "cells": [
  {
   "cell_type": "code",
   "execution_count": 1,
   "id": "933a821f-1be8-4af1-a342-65dbc9ad98c1",
   "metadata": {},
   "outputs": [],
   "source": [
    "import pandas as pd\n",
    "import seaborn as sns\n",
    "import matplotlib.pyplot as plt\n",
    "import numpy as np\n",
    "\n",
    "\n",
    "%matplotlib inline "
   ]
  },
  {
   "cell_type": "code",
   "execution_count": 2,
   "id": "da296f88-2f56-4584-b0fb-c1433b79531c",
   "metadata": {},
   "outputs": [],
   "source": [
    "sns.set(style='whitegrid', rc = {'figure.figsize' : (10,5)}) #for the pictures"
   ]
  },
  {
   "cell_type": "markdown",
   "id": "dfb76fc5-37bb-49fe-8c77-895291109bb1",
   "metadata": {},
   "source": [
    "Reading the data"
   ]
  },
  {
   "cell_type": "code",
   "execution_count": 3,
   "id": "4c23a912-3c08-48e3-8a81-bd357ea64c53",
   "metadata": {},
   "outputs": [
    {
     "data": {
      "text/html": [
       "<div>\n",
       "<style scoped>\n",
       "    .dataframe tbody tr th:only-of-type {\n",
       "        vertical-align: middle;\n",
       "    }\n",
       "\n",
       "    .dataframe tbody tr th {\n",
       "        vertical-align: top;\n",
       "    }\n",
       "\n",
       "    .dataframe thead th {\n",
       "        text-align: right;\n",
       "    }\n",
       "</style>\n",
       "<table border=\"1\" class=\"dataframe\">\n",
       "  <thead>\n",
       "    <tr style=\"text-align: right;\">\n",
       "      <th></th>\n",
       "      <th>key</th>\n",
       "      <th>fare_amount</th>\n",
       "      <th>pickup_datetime</th>\n",
       "      <th>pickup_longitude</th>\n",
       "      <th>pickup_latitude</th>\n",
       "      <th>dropoff_longitude</th>\n",
       "      <th>dropoff_latitude</th>\n",
       "      <th>passenger_count</th>\n",
       "    </tr>\n",
       "  </thead>\n",
       "  <tbody>\n",
       "    <tr>\n",
       "      <th>0</th>\n",
       "      <td>2009-06-15 17:26:21.0000001</td>\n",
       "      <td>4.5</td>\n",
       "      <td>2009-06-15 17:26:21+00:00</td>\n",
       "      <td>-73.844311</td>\n",
       "      <td>40.721319</td>\n",
       "      <td>-73.841610</td>\n",
       "      <td>40.712278</td>\n",
       "      <td>1</td>\n",
       "    </tr>\n",
       "    <tr>\n",
       "      <th>1</th>\n",
       "      <td>2010-01-05 16:52:16.0000002</td>\n",
       "      <td>16.9</td>\n",
       "      <td>2010-01-05 16:52:16+00:00</td>\n",
       "      <td>-74.016048</td>\n",
       "      <td>40.711303</td>\n",
       "      <td>-73.979268</td>\n",
       "      <td>40.782004</td>\n",
       "      <td>1</td>\n",
       "    </tr>\n",
       "    <tr>\n",
       "      <th>2</th>\n",
       "      <td>2011-08-18 00:35:00.00000049</td>\n",
       "      <td>5.7</td>\n",
       "      <td>2011-08-18 00:35:00+00:00</td>\n",
       "      <td>-73.982738</td>\n",
       "      <td>40.761270</td>\n",
       "      <td>-73.991242</td>\n",
       "      <td>40.750562</td>\n",
       "      <td>2</td>\n",
       "    </tr>\n",
       "    <tr>\n",
       "      <th>3</th>\n",
       "      <td>2012-04-21 04:30:42.0000001</td>\n",
       "      <td>7.7</td>\n",
       "      <td>2012-04-21 04:30:42+00:00</td>\n",
       "      <td>-73.987130</td>\n",
       "      <td>40.733143</td>\n",
       "      <td>-73.991567</td>\n",
       "      <td>40.758092</td>\n",
       "      <td>1</td>\n",
       "    </tr>\n",
       "    <tr>\n",
       "      <th>4</th>\n",
       "      <td>2010-03-09 07:51:00.000000135</td>\n",
       "      <td>5.3</td>\n",
       "      <td>2010-03-09 07:51:00+00:00</td>\n",
       "      <td>-73.968095</td>\n",
       "      <td>40.768008</td>\n",
       "      <td>-73.956655</td>\n",
       "      <td>40.783762</td>\n",
       "      <td>1</td>\n",
       "    </tr>\n",
       "  </tbody>\n",
       "</table>\n",
       "</div>"
      ],
      "text/plain": [
       "                             key  fare_amount           pickup_datetime  \\\n",
       "0    2009-06-15 17:26:21.0000001          4.5 2009-06-15 17:26:21+00:00   \n",
       "1    2010-01-05 16:52:16.0000002         16.9 2010-01-05 16:52:16+00:00   \n",
       "2   2011-08-18 00:35:00.00000049          5.7 2011-08-18 00:35:00+00:00   \n",
       "3    2012-04-21 04:30:42.0000001          7.7 2012-04-21 04:30:42+00:00   \n",
       "4  2010-03-09 07:51:00.000000135          5.3 2010-03-09 07:51:00+00:00   \n",
       "\n",
       "   pickup_longitude  pickup_latitude  dropoff_longitude  dropoff_latitude  \\\n",
       "0        -73.844311        40.721319         -73.841610         40.712278   \n",
       "1        -74.016048        40.711303         -73.979268         40.782004   \n",
       "2        -73.982738        40.761270         -73.991242         40.750562   \n",
       "3        -73.987130        40.733143         -73.991567         40.758092   \n",
       "4        -73.968095        40.768008         -73.956655         40.783762   \n",
       "\n",
       "   passenger_count  \n",
       "0                1  \n",
       "1                1  \n",
       "2                2  \n",
       "3                1  \n",
       "4                1  "
      ]
     },
     "execution_count": 3,
     "metadata": {},
     "output_type": "execute_result"
    }
   ],
   "source": [
    "nyc = pd.read_csv('nyc.csv.zip', compression = 'zip', parse_dates = ['pickup_datetime'])\n",
    "\n",
    "nyc.head()"
   ]
  },
  {
   "attachments": {
    "290ed0a1-d9f7-445e-bf02-f103061c30b8.png": {
     "image/png": "[encoded data removed]"
    }
   },
   "cell_type": "markdown",
   "id": "7cb24a98-cac4-45fd-979e-ec52ec2aaf3b",
   "metadata": {},
   "source": [
    "The task is to write a *haversine* function to calculate the distance between departure and arrival points and, using *pd.iterrows()*, create a *distance* column with the calculated distance.\n",
    "\n",
    "![image.png](attachment:290ed0a1-d9f7-445e-bf02-f103061c30b8.png)\n",
    "\n",
    "φ₁ and φ₂ - the latitudes of the starting location and the destination **in radians**\n",
    "\n",
    "λ₁ and λ₂ - the longitudes of the starting location and the destination **in radians**\n",
    "\n",
    "The variable r is the radius of the sphere, which we’ll assume to be 6371.\n",
    "\n",
    "Therefore, the *haversine()* function itself should take 5 parameters, one of which should have a **default value**."
   ]
  },
  {
   "cell_type": "code",
   "execution_count": 4,
   "id": "59c4d3f7-6d67-4164-96da-e9a1c1c4f0ab",
   "metadata": {},
   "outputs": [],
   "source": [
    "def haversine(phi1, phi2, lambda1, lambda2, radius=6371):\n",
    "    phi1, phi2 = np.radians(phi1), np.radians(phi2)\n",
    "    lambda1, lambda2 = np.radians(lambda1), np.radians(lambda2)\n",
    "    d = 2 * radius * np.arcsin(np.sqrt(np.sin((phi2 - phi1)/2)**2 + np.cos(phi1) * np.cos(phi2) * np.sin((lambda2 - lambda1)/2)**2))\n",
    "    return d"
   ]
  },
  {
   "cell_type": "code",
   "execution_count": 5,
   "id": "71c50fc6-e606-48c2-be95-04e1f640a445",
   "metadata": {},
   "outputs": [
    {
     "name": "stdout",
     "output_type": "stream",
     "text": [
      "CPU times: total: 10.2 s\n",
      "Wall time: 11.6 s\n"
     ]
    }
   ],
   "source": [
    "%%time\n",
    "\n",
    "dists = [ ]\n",
    "for i, row in nyc.iterrows():\n",
    "    dists.append(haversine(row.pickup_latitude, \n",
    "                           row.dropoff_latitude, \n",
    "                           row.pickup_longitude, \n",
    "                           row.dropoff_longitude))\n",
    "nyc['distance'] = dists"
   ]
  },
  {
   "cell_type": "code",
   "execution_count": 6,
   "id": "ef2eaf88-5f0a-4485-9bce-7ae74677e054",
   "metadata": {},
   "outputs": [
    {
     "name": "stdout",
     "output_type": "stream",
     "text": [
      "CPU times: total: 9.31 s\n",
      "Wall time: 10.6 s\n"
     ]
    }
   ],
   "source": [
    "%%time\n",
    "\n",
    "nyc['distance'] = pd.Series(haversine(row.pickup_latitude,\n",
    "                                      row.dropoff_latitude,\n",
    "                                      row.pickup_longitude,\n",
    "                                      row.dropoff_longitude) for i, row in nyc.iterrows())"
   ]
  },
  {
   "cell_type": "markdown",
   "id": "d22f644f-b0bf-472a-8fdf-8fefd272566b",
   "metadata": {},
   "source": [
    "Let's try *pd.itertuples()*"
   ]
  },
  {
   "cell_type": "code",
   "execution_count": 7,
   "id": "25dab4fc-7c87-417a-8a13-275d17db8efa",
   "metadata": {},
   "outputs": [
    {
     "name": "stdout",
     "output_type": "stream",
     "text": [
      "CPU times: total: 1.2 s\n",
      "Wall time: 1.21 s\n"
     ]
    }
   ],
   "source": [
    "%%time\n",
    "\n",
    "dists = []\n",
    "for row in nyc.itertuples():\n",
    "    dists.append(haversine(row.pickup_latitude, \n",
    "                           row.dropoff_latitude, \n",
    "                           row.pickup_longitude, \n",
    "                           row.dropoff_longitude))\n",
    "nyc['distance'] = dists"
   ]
  },
  {
   "cell_type": "code",
   "execution_count": 8,
   "id": "9298c73f-bea1-48a9-9b75-3c6d4332d629",
   "metadata": {},
   "outputs": [
    {
     "name": "stdout",
     "output_type": "stream",
     "text": [
      "CPU times: total: 1.42 s\n",
      "Wall time: 1.66 s\n"
     ]
    }
   ],
   "source": [
    "%%time\n",
    "\n",
    "nyc['distance'] = pd.Series(haversine(row.pickup_latitude, \n",
    "                                      row.dropoff_latitude, \n",
    "                                      row.pickup_longitude, \n",
    "                                      row.dropoff_longitude) for row in nyc.itertuples())"
   ]
  },
  {
   "cell_type": "markdown",
   "id": "dcda0fb9-2b50-4c76-b190-04ec3b9c7982",
   "metadata": {},
   "source": [
    "apply() method"
   ]
  },
  {
   "cell_type": "code",
   "execution_count": 9,
   "id": "c7713133-052a-4b35-a535-a6209c8ba7ca",
   "metadata": {},
   "outputs": [
    {
     "name": "stdout",
     "output_type": "stream",
     "text": [
      "CPU times: total: 5.2 s\n",
      "Wall time: 5.67 s\n"
     ]
    }
   ],
   "source": [
    "%%time\n",
    "\n",
    "nyc['distance'] = (nyc[['pickup_latitude', 'dropoff_latitude', 'pickup_longitude', 'dropoff_longitude']]\n",
    "                   .apply(lambda row: haversine(row.iloc[0], row.iloc[1], row.iloc[2], row.iloc[3]), axis=1)\n",
    "                  )"
   ]
  },
  {
   "cell_type": "code",
   "execution_count": 10,
   "id": "94596f15-0dca-4798-a026-be385f1dcc07",
   "metadata": {},
   "outputs": [
    {
     "name": "stdout",
     "output_type": "stream",
     "text": [
      "CPU times: total: 3.61 s\n",
      "Wall time: 3.81 s\n"
     ]
    }
   ],
   "source": [
    "%%time\n",
    "\n",
    "nyc['distance'] = (nyc.\n",
    "                   apply(lambda x: haversine(x.pickup_latitude, \n",
    "                                             x.dropoff_latitude, \n",
    "                                             x.pickup_longitude, \n",
    "                                             x.dropoff_longitude), axis=1)\n",
    "                  )"
   ]
  },
  {
   "cell_type": "code",
   "execution_count": 11,
   "id": "2878bde5-042d-4fb8-a415-d9b73eb94151",
   "metadata": {},
   "outputs": [
    {
     "name": "stdout",
     "output_type": "stream",
     "text": [
      "CPU times: total: 3.27 s\n",
      "Wall time: 3.56 s\n"
     ]
    }
   ],
   "source": [
    "%%time\n",
    "\n",
    "nyc['distance'] = (nyc.\n",
    "                   apply(lambda x: haversine(x['pickup_latitude'], \n",
    "                                             x['dropoff_latitude'], \n",
    "                                             x['pickup_longitude'], \n",
    "                                             x['dropoff_longitude']), axis=1)\n",
    "                  )"
   ]
  },
  {
   "cell_type": "markdown",
   "id": "808547e3-09c8-488a-8d66-46ba8360cdcc",
   "metadata": {},
   "source": [
    "Let’s find the longest distance."
   ]
  },
  {
   "cell_type": "code",
   "execution_count": 12,
   "id": "a654e8c1-f9b9-4d5c-af6d-6c96bfd77b70",
   "metadata": {},
   "outputs": [],
   "source": [
    "longest = nyc['distance'].max()"
   ]
  },
  {
   "cell_type": "code",
   "execution_count": 13,
   "id": "38622ed5-7a43-44bb-a2d6-90df62316513",
   "metadata": {},
   "outputs": [
    {
     "data": {
      "text/plain": [
       "8667.818812217454"
      ]
     },
     "execution_count": 13,
     "metadata": {},
     "output_type": "execute_result"
    }
   ],
   "source": [
    "longest"
   ]
  },
  {
   "cell_type": "markdown",
   "id": "bb27eb27-bfdf-4c1a-b1e8-2fc3d6c31949",
   "metadata": {},
   "source": [
    "Vectorized operations in pandas"
   ]
  },
  {
   "cell_type": "code",
   "execution_count": 14,
   "id": "a3270f58-f591-4705-bb76-555b788f0092",
   "metadata": {},
   "outputs": [
    {
     "name": "stdout",
     "output_type": "stream",
     "text": [
      "CPU times: total: 31.2 ms\n",
      "Wall time: 20.1 ms\n"
     ]
    }
   ],
   "source": [
    "%%time\n",
    "\n",
    "nyc['distance'] = haversine(nyc.pickup_latitude, \n",
    "                            nyc.dropoff_latitude, \n",
    "                            nyc.pickup_longitude, \n",
    "                            nyc.dropoff_longitude)"
   ]
  },
  {
   "cell_type": "code",
   "execution_count": 15,
   "id": "9039a5e9",
   "metadata": {},
   "outputs": [
    {
     "name": "stdout",
     "output_type": "stream",
     "text": [
      "CPU times: total: 0 ns\n",
      "Wall time: 23.1 ms\n"
     ]
    }
   ],
   "source": [
    "%%time\n",
    "nyc['distance'] = haversine(nyc.pickup_latitude.values, \n",
    "                            nyc.dropoff_latitude.values, \n",
    "                            nyc.pickup_longitude.values, \n",
    "                            nyc.dropoff_longitude.values)"
   ]
  },
  {
   "cell_type": "markdown",
   "id": "825dbadd-f888-48d9-bdf9-d37f7b462285",
   "metadata": {},
   "source": [
    "Let’s take a closer look at the details of the longest trip in this NYC dataset"
   ]
  },
  {
   "cell_type": "code",
   "execution_count": 16,
   "id": "d0077c64-a041-4558-8f18-d7721a45d7bc",
   "metadata": {},
   "outputs": [
    {
     "data": {
      "text/plain": [
       "key                  2012-05-12 10:48:00.00000020\n",
       "fare_amount                                  49.8\n",
       "pickup_datetime         2012-05-12 10:48:00+00:00\n",
       "pickup_longitude                       -74.014917\n",
       "pickup_latitude                         40.713382\n",
       "dropoff_longitude                             0.0\n",
       "dropoff_latitude                              0.0\n",
       "passenger_count                                 1\n",
       "distance                              8667.818812\n",
       "Name: 48996, dtype: object"
      ]
     },
     "execution_count": 16,
     "metadata": {},
     "output_type": "execute_result"
    }
   ],
   "source": [
    "nyc.loc[nyc.distance.idxmax()]"
   ]
  },
  {
   "cell_type": "markdown",
   "id": "092aa8c0-b7ef-4e46-97ae-937b8908c0d2",
   "metadata": {},
   "source": [
    "Something strange happened: the latitude and longitude are showing as zero values, yet the distance is as much as 8,667 km! Let's check if there are other cases where at least one of the destination coordinates is zero"
   ]
  },
  {
   "cell_type": "code",
   "execution_count": 17,
   "id": "b370dcd2-78c8-4a4d-9f99-ae6352eff744",
   "metadata": {},
   "outputs": [
    {
     "data": {
      "text/plain": [
       "pickup_latitude      955\n",
       "dropoff_latitude     955\n",
       "pickup_longitude     955\n",
       "dropoff_longitude    958\n",
       "dtype: int64"
      ]
     },
     "execution_count": 17,
     "metadata": {},
     "output_type": "execute_result"
    }
   ],
   "source": [
    "(nyc[['pickup_latitude', 'dropoff_latitude', 'pickup_longitude', 'dropoff_longitude']] == 0).sum()"
   ]
  },
  {
   "cell_type": "markdown",
   "id": "5d777134-8213-4f61-ae66-a3c9766c8529",
   "metadata": {},
   "source": [
    "Plot the distribution graphs for the variables *pickup_latitude*, *pickup_longitude*, *dropoff_latitude*, and *dropoff_longitude*, and for each variable, select an appropriate option for further data filtering"
   ]
  },
  {
   "cell_type": "code",
   "execution_count": 18,
   "id": "11f8b3a8-c434-404b-aaba-ec3843194a3c",
   "metadata": {},
   "outputs": [
    {
     "data": {
      "image/png": "[encoded data removed]",
      "text/plain": [
       "<Figure size 1000x500 with 4 Axes>"
      ]
     },
     "metadata": {},
     "output_type": "display_data"
    }
   ],
   "source": [
    "fig, axes = plt.subplots(ncols=2, nrows=2)\n",
    "sns.boxplot(nyc.pickup_latitude, ax = axes.flatten()[0])\n",
    "sns.boxplot(nyc.dropoff_latitude, ax = axes.flatten()[1])\n",
    "sns.boxplot(nyc.pickup_longitude, ax = axes.flatten()[2])\n",
    "sns.boxplot(nyc.dropoff_longitude, ax = axes.flatten()[3])\n",
    "plt.tight_layout()"
   ]
  },
  {
   "cell_type": "markdown",
   "id": "8568432e-6c1e-4e46-82c7-f0fcbb06a8d1",
   "metadata": {},
   "source": [
    "Filter the available data and finally find the longest trip."
   ]
  },
  {
   "cell_type": "code",
   "execution_count": 19,
   "id": "fae407aa-64ae-492a-9053-33ad7cacc978",
   "metadata": {},
   "outputs": [],
   "source": [
    "nyc_filtered = (nyc\n",
    "                .query('(10 < pickup_latitude < 120) and (pickup_longitude < -60) and (10 < dropoff_latitude) and (dropoff_longitude < -60) and (distance < 50)')\n",
    "                .reset_index(drop=True)\n",
    "               )"
   ]
  },
  {
   "cell_type": "code",
   "execution_count": 20,
   "id": "a73f3db4-df44-4c02-a400-33dba4a0cb8e",
   "metadata": {},
   "outputs": [
    {
     "data": {
      "text/plain": [
       "32795"
      ]
     },
     "execution_count": 20,
     "metadata": {},
     "output_type": "execute_result"
    }
   ],
   "source": [
    "longest = nyc_filtered.distance.idxmax()\n",
    "longest"
   ]
  },
  {
   "cell_type": "code",
   "execution_count": 21,
   "id": "d5ebf553-f34f-421b-b4b1-3c6a598766f1",
   "metadata": {},
   "outputs": [
    {
     "data": {
      "text/plain": [
       "136.0"
      ]
     },
     "execution_count": 21,
     "metadata": {},
     "output_type": "execute_result"
    }
   ],
   "source": [
    "nyc_filtered.loc[longest].fare_amount"
   ]
  }
 ],
 "metadata": {
  "kernelspec": {
   "display_name": "Python 3 (ipykernel)",
   "language": "python",
   "name": "python3"
  },
  "language_info": {
   "codemirror_mode": {
    "name": "ipython",
    "version": 3
   },
   "file_extension": ".py",
   "mimetype": "text/x-python",
   "name": "python",
   "nbconvert_exporter": "python",
   "pygments_lexer": "ipython3",
   "version": "3.12.2"
  }
 },
 "nbformat": 4,
 "nbformat_minor": 5
}
