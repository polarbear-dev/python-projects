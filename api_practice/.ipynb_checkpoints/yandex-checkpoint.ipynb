{
 "cells": [
  {
   "cell_type": "code",
   "execution_count": 1,
   "id": "effd6cd1-4d7f-4421-8b05-d06e89209b68",
   "metadata": {},
   "outputs": [],
   "source": [
    "import pandas as pd\n",
    "import requests\n",
    "import json"
   ]
  },
  {
   "cell_type": "code",
   "execution_count": 2,
   "id": "e5cb5586-9418-4d48-b837-35e51fd0782e",
   "metadata": {},
   "outputs": [],
   "source": [
    "url = 'https://api-metrika.yandex.net/stat/v1/data?'\n",
    "visits = 'metrics=ym:s:visits&dimensions=ym:s:date&id=44147844'"
   ]
  },
  {
   "cell_type": "code",
   "execution_count": 3,
   "id": "a8f25d1a-6045-4252-82e2-3d1da8baf8be",
   "metadata": {},
   "outputs": [],
   "source": [
    "visits_url = url + visits"
   ]
  },
  {
   "cell_type": "code",
   "execution_count": 4,
   "id": "bb552365-68d3-4698-bd03-102217aab71b",
   "metadata": {},
   "outputs": [],
   "source": [
    "visits_request = requests.get(visits_url)"
   ]
  },
  {
   "cell_type": "code",
   "execution_count": 5,
   "id": "242cf966-acf4-44ca-82f1-b03092fabd62",
   "metadata": {},
   "outputs": [
    {
     "data": {
      "text/plain": [
       "<Response [200]>"
      ]
     },
     "execution_count": 5,
     "metadata": {},
     "output_type": "execute_result"
    }
   ],
   "source": [
    "visits_request"
   ]
  },
  {
   "cell_type": "code",
   "execution_count": 6,
   "id": "f0cb35fa-2131-41f3-97e0-4b6ccc857314",
   "metadata": {},
   "outputs": [],
   "source": [
    "json_data = json.loads(visits_request.text)"
   ]
  },
  {
   "cell_type": "code",
   "execution_count": 8,
   "id": "282451ee-a6b0-4a5b-a124-e4d52e51eef2",
   "metadata": {},
   "outputs": [
    {
     "data": {
      "text/plain": [
       "[{'dimensions': [{'name': '2025-03-13'}], 'metrics': [296.0]},\n",
       " {'dimensions': [{'name': '2025-03-14'}], 'metrics': [285.0]},\n",
       " {'dimensions': [{'name': '2025-03-12'}], 'metrics': [281.0]},\n",
       " {'dimensions': [{'name': '2025-03-17'}], 'metrics': [251.0]},\n",
       " {'dimensions': [{'name': '2025-03-18'}], 'metrics': [247.0]},\n",
       " {'dimensions': [{'name': '2025-03-15'}], 'metrics': [230.0]},\n",
       " {'dimensions': [{'name': '2025-03-16'}], 'metrics': [201.0]}]"
      ]
     },
     "execution_count": 8,
     "metadata": {},
     "output_type": "execute_result"
    }
   ],
   "source": [
    "json_data['data']"
   ]
  },
  {
   "cell_type": "code",
   "execution_count": 9,
   "id": "da71d400-e5e2-4c11-b206-2305b1d8d22b",
   "metadata": {},
   "outputs": [],
   "source": [
    "y_df = pd.DataFrame([(i['dimensions'][0]['name'], \n",
    "  i['metrics'][0]) for i in json_data['data']], columns=['date', \n",
    "                                                        'visits'])"
   ]
  },
  {
   "cell_type": "code",
   "execution_count": 10,
   "id": "ed1cd1c9-1f69-4cc3-9e39-b6fa1097d1b5",
   "metadata": {},
   "outputs": [
    {
     "data": {
      "text/html": [
       "<div>\n",
       "<style scoped>\n",
       "    .dataframe tbody tr th:only-of-type {\n",
       "        vertical-align: middle;\n",
       "    }\n",
       "\n",
       "    .dataframe tbody tr th {\n",
       "        vertical-align: top;\n",
       "    }\n",
       "\n",
       "    .dataframe thead th {\n",
       "        text-align: right;\n",
       "    }\n",
       "</style>\n",
       "<table border=\"1\" class=\"dataframe\">\n",
       "  <thead>\n",
       "    <tr style=\"text-align: right;\">\n",
       "      <th></th>\n",
       "      <th>date</th>\n",
       "      <th>visits</th>\n",
       "    </tr>\n",
       "  </thead>\n",
       "  <tbody>\n",
       "    <tr>\n",
       "      <th>0</th>\n",
       "      <td>2025-03-13</td>\n",
       "      <td>296.0</td>\n",
       "    </tr>\n",
       "    <tr>\n",
       "      <th>1</th>\n",
       "      <td>2025-03-14</td>\n",
       "      <td>285.0</td>\n",
       "    </tr>\n",
       "    <tr>\n",
       "      <th>2</th>\n",
       "      <td>2025-03-12</td>\n",
       "      <td>281.0</td>\n",
       "    </tr>\n",
       "    <tr>\n",
       "      <th>3</th>\n",
       "      <td>2025-03-17</td>\n",
       "      <td>251.0</td>\n",
       "    </tr>\n",
       "    <tr>\n",
       "      <th>4</th>\n",
       "      <td>2025-03-18</td>\n",
       "      <td>247.0</td>\n",
       "    </tr>\n",
       "    <tr>\n",
       "      <th>5</th>\n",
       "      <td>2025-03-15</td>\n",
       "      <td>230.0</td>\n",
       "    </tr>\n",
       "    <tr>\n",
       "      <th>6</th>\n",
       "      <td>2025-03-16</td>\n",
       "      <td>201.0</td>\n",
       "    </tr>\n",
       "  </tbody>\n",
       "</table>\n",
       "</div>"
      ],
      "text/plain": [
       "         date  visits\n",
       "0  2025-03-13   296.0\n",
       "1  2025-03-14   285.0\n",
       "2  2025-03-12   281.0\n",
       "3  2025-03-17   251.0\n",
       "4  2025-03-18   247.0\n",
       "5  2025-03-15   230.0\n",
       "6  2025-03-16   201.0"
      ]
     },
     "execution_count": 10,
     "metadata": {},
     "output_type": "execute_result"
    }
   ],
   "source": [
    "y_df"
   ]
  }
 ],
 "metadata": {
  "kernelspec": {
   "display_name": "Python [conda env:base] *",
   "language": "python",
   "name": "conda-base-py"
  },
  "language_info": {
   "codemirror_mode": {
    "name": "ipython",
    "version": 3
   },
   "file_extension": ".py",
   "mimetype": "text/x-python",
   "name": "python",
   "nbconvert_exporter": "python",
   "pygments_lexer": "ipython3",
   "version": "3.12.2"
  }
 },
 "nbformat": 4,
 "nbformat_minor": 5
}
