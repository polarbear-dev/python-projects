{
 "cells": [
  {
   "cell_type": "code",
   "execution_count": 1,
   "id": "effd6cd1-4d7f-4421-8b05-d06e89209b68",
   "metadata": {},
   "outputs": [],
   "source": [
    "import pandas as pd\n",
    "import requests\n",
    "import json\n",
    "from io import BytesIO\n",
    "import numpy as np\n",
    "import seaborn as sns\n",
    "import matplotlib.pyplot as plt"
   ]
  },
  {
   "cell_type": "code",
   "execution_count": 2,
   "id": "e5cb5586-9418-4d48-b837-35e51fd0782e",
   "metadata": {},
   "outputs": [],
   "source": [
    "url = 'https://api-metrika.yandex.net/stat/v1/data?'\n",
    "visits = 'metrics=ym:s:visits&dimensions=ym:s:date&id=44147844'"
   ]
  },
  {
   "cell_type": "code",
   "execution_count": 3,
   "id": "a8f25d1a-6045-4252-82e2-3d1da8baf8be",
   "metadata": {},
   "outputs": [],
   "source": [
    "visits_url = url + visits"
   ]
  },
  {
   "cell_type": "code",
   "execution_count": 4,
   "id": "bb552365-68d3-4698-bd03-102217aab71b",
   "metadata": {},
   "outputs": [],
   "source": [
    "visits_request = requests.get(visits_url)"
   ]
  },
  {
   "cell_type": "code",
   "execution_count": 5,
   "id": "242cf966-acf4-44ca-82f1-b03092fabd62",
   "metadata": {},
   "outputs": [
    {
     "data": {
      "text/plain": [
       "<Response [200]>"
      ]
     },
     "execution_count": 5,
     "metadata": {},
     "output_type": "execute_result"
    }
   ],
   "source": [
    "visits_request"
   ]
  },
  {
   "cell_type": "code",
   "execution_count": 6,
   "id": "f0cb35fa-2131-41f3-97e0-4b6ccc857314",
   "metadata": {},
   "outputs": [],
   "source": [
    "json_data = json.loads(visits_request.text)"
   ]
  },
  {
   "cell_type": "code",
   "execution_count": 7,
   "id": "282451ee-a6b0-4a5b-a124-e4d52e51eef2",
   "metadata": {},
   "outputs": [
    {
     "data": {
      "text/plain": [
       "[{'dimensions': [{'name': '2025-03-19'}], 'metrics': [287.0]},\n",
       " {'dimensions': [{'name': '2025-03-14'}], 'metrics': [285.0]},\n",
       " {'dimensions': [{'name': '2025-03-18'}], 'metrics': [273.0]},\n",
       " {'dimensions': [{'name': '2025-03-17'}], 'metrics': [251.0]},\n",
       " {'dimensions': [{'name': '2025-03-15'}], 'metrics': [230.0]},\n",
       " {'dimensions': [{'name': '2025-03-16'}], 'metrics': [201.0]},\n",
       " {'dimensions': [{'name': '2025-03-20'}], 'metrics': [27.0]}]"
      ]
     },
     "execution_count": 7,
     "metadata": {},
     "output_type": "execute_result"
    }
   ],
   "source": [
    "json_data['data']"
   ]
  },
  {
   "cell_type": "code",
   "execution_count": 8,
   "id": "da71d400-e5e2-4c11-b206-2305b1d8d22b",
   "metadata": {},
   "outputs": [],
   "source": [
    "y_df = pd.DataFrame([(i['dimensions'][0]['name'], \n",
    "  i['metrics'][0]) for i in json_data['data']], columns=['date', \n",
    "                                                        'visits'])"
   ]
  },
  {
   "cell_type": "code",
   "execution_count": 9,
   "id": "ed1cd1c9-1f69-4cc3-9e39-b6fa1097d1b5",
   "metadata": {},
   "outputs": [
    {
     "data": {
      "text/html": [
       "<div>\n",
       "<style scoped>\n",
       "    .dataframe tbody tr th:only-of-type {\n",
       "        vertical-align: middle;\n",
       "    }\n",
       "\n",
       "    .dataframe tbody tr th {\n",
       "        vertical-align: top;\n",
       "    }\n",
       "\n",
       "    .dataframe thead th {\n",
       "        text-align: right;\n",
       "    }\n",
       "</style>\n",
       "<table border=\"1\" class=\"dataframe\">\n",
       "  <thead>\n",
       "    <tr style=\"text-align: right;\">\n",
       "      <th></th>\n",
       "      <th>date</th>\n",
       "      <th>visits</th>\n",
       "    </tr>\n",
       "  </thead>\n",
       "  <tbody>\n",
       "    <tr>\n",
       "      <th>0</th>\n",
       "      <td>2025-03-19</td>\n",
       "      <td>287.0</td>\n",
       "    </tr>\n",
       "    <tr>\n",
       "      <th>1</th>\n",
       "      <td>2025-03-14</td>\n",
       "      <td>285.0</td>\n",
       "    </tr>\n",
       "    <tr>\n",
       "      <th>2</th>\n",
       "      <td>2025-03-18</td>\n",
       "      <td>273.0</td>\n",
       "    </tr>\n",
       "    <tr>\n",
       "      <th>3</th>\n",
       "      <td>2025-03-17</td>\n",
       "      <td>251.0</td>\n",
       "    </tr>\n",
       "    <tr>\n",
       "      <th>4</th>\n",
       "      <td>2025-03-15</td>\n",
       "      <td>230.0</td>\n",
       "    </tr>\n",
       "    <tr>\n",
       "      <th>5</th>\n",
       "      <td>2025-03-16</td>\n",
       "      <td>201.0</td>\n",
       "    </tr>\n",
       "    <tr>\n",
       "      <th>6</th>\n",
       "      <td>2025-03-20</td>\n",
       "      <td>27.0</td>\n",
       "    </tr>\n",
       "  </tbody>\n",
       "</table>\n",
       "</div>"
      ],
      "text/plain": [
       "         date  visits\n",
       "0  2025-03-19   287.0\n",
       "1  2025-03-14   285.0\n",
       "2  2025-03-18   273.0\n",
       "3  2025-03-17   251.0\n",
       "4  2025-03-15   230.0\n",
       "5  2025-03-16   201.0\n",
       "6  2025-03-20    27.0"
      ]
     },
     "execution_count": 9,
     "metadata": {},
     "output_type": "execute_result"
    }
   ],
   "source": [
    "y_df"
   ]
  },
  {
   "cell_type": "markdown",
   "id": "674223ca-2882-48c7-a6a3-8bd4bb8a41bc",
   "metadata": {},
   "source": [
    "Download the website traffic data file from Yandex.Metrica. Using the np.where function, create a series that records 1 if the visits were made by bots using a browser with “Chrome” in its name, and 0 in other cases."
   ]
  },
  {
   "cell_type": "code",
   "execution_count": 10,
   "id": "fec1c2fd-304b-436f-b18d-2de9902a9201",
   "metadata": {},
   "outputs": [],
   "source": [
    "def get_data(public_key):\n",
    "    base_url = 'https://cloud-api.yandex.net/v1/disk/public/resources/download?'\n",
    "\n",
    "    # Get the download link\n",
    "    final_url = base_url + 'public_key=' + public_key\n",
    "    response = requests.get(final_url)\n",
    "    download_url = response.json()['href']\n",
    "    req = requests.get(download_url)\n",
    "    data = req.content\n",
    "\n",
    "    df = pd.read_csv(BytesIO(data))\n",
    "    return df"
   ]
  },
  {
   "cell_type": "code",
   "execution_count": 11,
   "id": "b33cdb5e-0775-4c5b-96b3-877a84f4799c",
   "metadata": {},
   "outputs": [],
   "source": [
    "df_ya = get_data('https://yadi.sk/d/NU25PVVkxIEEtw')"
   ]
  },
  {
   "cell_type": "code",
   "execution_count": 12,
   "id": "690124eb-6c24-401a-8929-ab164cf5eb6e",
   "metadata": {},
   "outputs": [
    {
     "data": {
      "text/html": [
       "<div>\n",
       "<style scoped>\n",
       "    .dataframe tbody tr th:only-of-type {\n",
       "        vertical-align: middle;\n",
       "    }\n",
       "\n",
       "    .dataframe tbody tr th {\n",
       "        vertical-align: top;\n",
       "    }\n",
       "\n",
       "    .dataframe thead th {\n",
       "        text-align: right;\n",
       "    }\n",
       "</style>\n",
       "<table border=\"1\" class=\"dataframe\">\n",
       "  <thead>\n",
       "    <tr style=\"text-align: right;\">\n",
       "      <th></th>\n",
       "      <th>date</th>\n",
       "      <th>browser</th>\n",
       "      <th>user_type</th>\n",
       "      <th>users</th>\n",
       "    </tr>\n",
       "  </thead>\n",
       "  <tbody>\n",
       "    <tr>\n",
       "      <th>0</th>\n",
       "      <td>2020-06-14</td>\n",
       "      <td>Google Chrome</td>\n",
       "      <td>People</td>\n",
       "      <td>139</td>\n",
       "    </tr>\n",
       "    <tr>\n",
       "      <th>1</th>\n",
       "      <td>2020-06-14</td>\n",
       "      <td>Chrome Mobile</td>\n",
       "      <td>People</td>\n",
       "      <td>35</td>\n",
       "    </tr>\n",
       "    <tr>\n",
       "      <th>2</th>\n",
       "      <td>2020-06-14</td>\n",
       "      <td>Google Chrome</td>\n",
       "      <td>Robots</td>\n",
       "      <td>28</td>\n",
       "    </tr>\n",
       "    <tr>\n",
       "      <th>3</th>\n",
       "      <td>2020-06-14</td>\n",
       "      <td>Yandex Browser</td>\n",
       "      <td>People</td>\n",
       "      <td>22</td>\n",
       "    </tr>\n",
       "    <tr>\n",
       "      <th>4</th>\n",
       "      <td>2020-06-14</td>\n",
       "      <td>Firefox</td>\n",
       "      <td>People</td>\n",
       "      <td>15</td>\n",
       "    </tr>\n",
       "  </tbody>\n",
       "</table>\n",
       "</div>"
      ],
      "text/plain": [
       "         date         browser user_type  users\n",
       "0  2020-06-14   Google Chrome    People    139\n",
       "1  2020-06-14   Chrome Mobile    People     35\n",
       "2  2020-06-14   Google Chrome    Robots     28\n",
       "3  2020-06-14  Yandex Browser    People     22\n",
       "4  2020-06-14         Firefox    People     15"
      ]
     },
     "execution_count": 12,
     "metadata": {},
     "output_type": "execute_result"
    }
   ],
   "source": [
    "df_ya.head()"
   ]
  },
  {
   "cell_type": "code",
   "execution_count": 13,
   "id": "46dadb8d-4036-4ca6-b4f2-28073fd641d7",
   "metadata": {},
   "outputs": [],
   "source": [
    "chrome_robots = pd.Series(\n",
    "    np.where((df_ya.browser.str.contains('Chrome')) & (df_ya.user_type.str.contains('Robots')) , 1, 0)\n",
    "    )"
   ]
  },
  {
   "cell_type": "code",
   "execution_count": 14,
   "id": "8f16ee73-e9f9-4481-a69e-f467573d8ce7",
   "metadata": {},
   "outputs": [
    {
     "data": {
      "text/plain": [
       "0     0\n",
       "1     0\n",
       "2     1\n",
       "3     0\n",
       "4     0\n",
       "5     0\n",
       "6     0\n",
       "7     0\n",
       "8     0\n",
       "9     0\n",
       "10    0\n",
       "11    0\n",
       "12    0\n",
       "13    0\n",
       "14    0\n",
       "15    0\n",
       "16    0\n",
       "17    0\n",
       "18    0\n",
       "19    1\n",
       "20    0\n",
       "21    0\n",
       "22    0\n",
       "23    0\n",
       "dtype: int64"
      ]
     },
     "execution_count": 14,
     "metadata": {},
     "output_type": "execute_result"
    }
   ],
   "source": [
    "chrome_robots"
   ]
  },
  {
   "cell_type": "markdown",
   "id": "2059793c-8450-4ff5-8af8-b26aa12b211d",
   "metadata": {},
   "source": [
    "Let’s make a request to the Yandex.Metrica demo data API and analyze the distribution of website visits by day. We’ll create a chart showing the number of visits from bots and regular users of Yandex.Metrica."
   ]
  },
  {
   "cell_type": "code",
   "execution_count": 15,
   "id": "381f0f03-a965-4bc6-9f48-4fbdc939a877",
   "metadata": {},
   "outputs": [],
   "source": [
    "dates = [date.strftime('%Y-%m-%d') for date in pd.date_range(start = '2025-03-13', end = '2025-03-18')]"
   ]
  },
  {
   "cell_type": "code",
   "execution_count": 16,
   "id": "c08ecf91-01bf-472f-a3ae-06bc836bb593",
   "metadata": {},
   "outputs": [
    {
     "data": {
      "text/plain": [
       "['2025-03-13',\n",
       " '2025-03-14',\n",
       " '2025-03-15',\n",
       " '2025-03-16',\n",
       " '2025-03-17',\n",
       " '2025-03-18']"
      ]
     },
     "execution_count": 16,
     "metadata": {},
     "output_type": "execute_result"
    }
   ],
   "source": [
    "dates"
   ]
  },
  {
   "cell_type": "code",
   "execution_count": 17,
   "id": "6d594c9c-a0e8-499c-8ba7-e41f856d6b4a",
   "metadata": {},
   "outputs": [],
   "source": [
    "params = {'metrics': 'ym:s:visits',\n",
    "          'dimensions': 'ym:s:date',\n",
    "          'dimensions': 'ym:s:isRobot',\n",
    "          'id': '44147844'}"
   ]
  },
  {
   "cell_type": "code",
   "execution_count": 18,
   "id": "9b30e945-a5c9-4393-9671-3e7a68c50f48",
   "metadata": {},
   "outputs": [],
   "source": [
    "data = []\n",
    "\n",
    "for date in dates:\n",
    "    params['filters'] = f\"ym:s:date=='{date}'\"\n",
    "    visits_requests = requests.get(url, params=params).json()\n",
    "\n",
    "    for row in visits_requests['data']:\n",
    "        dim = row['dimensions'][0]\n",
    "        dim['date'] = date\n",
    "        dim['metrics'] = row['metrics'][0]\n",
    "        data.append(dim)"
   ]
  },
  {
   "cell_type": "code",
   "execution_count": 19,
   "id": "e4e0d3a4-e345-481f-895b-c9cafe3b3129",
   "metadata": {},
   "outputs": [
    {
     "data": {
      "text/plain": [
       "{'query': {'ids': [44147844],\n",
       "  'dimensions': ['ym:s:isRobot'],\n",
       "  'metrics': ['ym:s:visits'],\n",
       "  'sort': ['-ym:s:visits'],\n",
       "  'date1': '2025-03-14',\n",
       "  'date2': '2025-03-20',\n",
       "  'filters': \"ym:s:date=='2025-03-18'\",\n",
       "  'limit': 100,\n",
       "  'offset': 1,\n",
       "  'group': 'Week',\n",
       "  'benchmarks_version': '1740960000000',\n",
       "  'auto_group_size': '1',\n",
       "  'attr_name': '',\n",
       "  'funnel_window': '',\n",
       "  'benchmarks_quantile': '50',\n",
       "  'quantile': '50',\n",
       "  'offline_window': '21',\n",
       "  'attribution': 'LastSign',\n",
       "  'currency': 'RUB',\n",
       "  'benchmarks_attribution': 'Automatic',\n",
       "  'adfox_event_id': '0',\n",
       "  'funnel_pattern': ''},\n",
       " 'data': [{'dimensions': [{'name': 'People',\n",
       "     'id': 'no',\n",
       "     'date': '2025-03-18',\n",
       "     'metrics': 235.0}],\n",
       "   'metrics': [235.0]},\n",
       "  {'dimensions': [{'name': 'Robots',\n",
       "     'id': 'yes',\n",
       "     'date': '2025-03-18',\n",
       "     'metrics': 38.0}],\n",
       "   'metrics': [38.0]}],\n",
       " 'total_rows': 2,\n",
       " 'total_rows_rounded': False,\n",
       " 'sampled': False,\n",
       " 'contains_sensitive_data': False,\n",
       " 'sample_share': 1.0,\n",
       " 'sample_size': 1545,\n",
       " 'sample_space': 1545,\n",
       " 'data_lag': 0,\n",
       " 'totals': [273.0],\n",
       " 'min': [38.0],\n",
       " 'max': [235.0]}"
      ]
     },
     "execution_count": 19,
     "metadata": {},
     "output_type": "execute_result"
    }
   ],
   "source": [
    "visits_requests"
   ]
  },
  {
   "cell_type": "code",
   "execution_count": 20,
   "id": "3c17647a-661b-499d-aa1d-aa686381f2f6",
   "metadata": {},
   "outputs": [
    {
     "data": {
      "text/plain": [
       "[{'name': 'People', 'id': 'no', 'date': '2025-03-14', 'metrics': 239.0},\n",
       " {'name': 'Robots', 'id': 'yes', 'date': '2025-03-14', 'metrics': 46.0},\n",
       " {'name': 'People', 'id': 'no', 'date': '2025-03-15', 'metrics': 158.0},\n",
       " {'name': 'Robots', 'id': 'yes', 'date': '2025-03-15', 'metrics': 72.0},\n",
       " {'name': 'People', 'id': 'no', 'date': '2025-03-16', 'metrics': 149.0},\n",
       " {'name': 'Robots', 'id': 'yes', 'date': '2025-03-16', 'metrics': 52.0},\n",
       " {'name': 'People', 'id': 'no', 'date': '2025-03-17', 'metrics': 196.0},\n",
       " {'name': 'Robots', 'id': 'yes', 'date': '2025-03-17', 'metrics': 55.0},\n",
       " {'name': 'People', 'id': 'no', 'date': '2025-03-18', 'metrics': 235.0},\n",
       " {'name': 'Robots', 'id': 'yes', 'date': '2025-03-18', 'metrics': 38.0}]"
      ]
     },
     "execution_count": 20,
     "metadata": {},
     "output_type": "execute_result"
    }
   ],
   "source": [
    "data"
   ]
  },
  {
   "cell_type": "code",
   "execution_count": 21,
   "id": "0515400d-a1c9-4e8e-a20b-f9f80ffd4d0b",
   "metadata": {},
   "outputs": [],
   "source": [
    "data = pd.DataFrame(data)"
   ]
  },
  {
   "cell_type": "code",
   "execution_count": 22,
   "id": "f8560f8d-55fb-4459-951b-1039836b82b4",
   "metadata": {},
   "outputs": [],
   "source": [
    "data = data.drop('id', axis = 1)"
   ]
  },
  {
   "cell_type": "code",
   "execution_count": 23,
   "id": "e92fe995-1332-4ce0-bc64-2dcbde497917",
   "metadata": {},
   "outputs": [],
   "source": [
    "data = data.rename(columns={'name': 'user_type', 'metrics': 'visits'})"
   ]
  },
  {
   "cell_type": "code",
   "execution_count": 24,
   "id": "2422309b-ae69-4511-9ad1-0a15eda0b29b",
   "metadata": {},
   "outputs": [
    {
     "data": {
      "text/plain": [
       "<Axes: xlabel='date', ylabel='visits'>"
      ]
     },
     "execution_count": 24,
     "metadata": {},
     "output_type": "execute_result"
    },
    {
     "data": {
      "image/png": "[encoded data removed]",
      "text/plain": [
       "<Figure size 1000x600 with 1 Axes>"
      ]
     },
     "metadata": {},
     "output_type": "display_data"
    }
   ],
   "source": [
    "fig, ax = plt.subplots(figsize=(10,6))\n",
    "sns.barplot(data=data, x='date', y='visits', hue='user_type', ax=ax)"
   ]
  },
  {
   "cell_type": "markdown",
   "id": "65306f31-3730-4553-9af5-83a5300bc08e",
   "metadata": {},
   "source": [
    "Determine the percentage of visits to the Yandex.Metrica website from the Google Chrome browser. Round the answer to the nearest whole number."
   ]
  },
  {
   "cell_type": "code",
   "execution_count": 25,
   "id": "2a9acce7-c6bc-4a51-a9c0-e5d961ddf376",
   "metadata": {},
   "outputs": [],
   "source": [
    "params_2 = {\n",
    "    'metrics': 'ym:s:visits',\n",
    "    'dimensions': 'ym:s:date,ym:s:isRobot,ym:s:browser',\n",
    "    'id': '44147844'\n",
    "}"
   ]
  },
  {
   "cell_type": "code",
   "execution_count": 26,
   "id": "5342dac8-c3a1-4668-8c8b-08ff5845825b",
   "metadata": {},
   "outputs": [],
   "source": [
    "data_2 = []\n",
    "\n",
    "for date in dates:\n",
    "    params_2['filters'] = f\"ym:s:date=='{date}'\"\n",
    "    visits_requests_2 = requests.get(url, params=params_2).json()\n",
    "\n",
    "    for row in visits_requests_2['data']:\n",
    "        dims = row['dimensions']\n",
    "        dim = {\n",
    "            'date': dims[0]['name'],  # ym:s:date\n",
    "            'isRobot': dims[1]['name'],  # ym:s:isRobot\n",
    "            'browser': dims[2]['name'],  # ym:s:browser\n",
    "            'metrics': row['metrics'][0]  # ym:s:visits\n",
    "        }\n",
    "        data_2.append(dim)"
   ]
  },
  {
   "cell_type": "code",
   "execution_count": 27,
   "id": "9f28604e-e56f-40e7-9550-6a44b2ce18fb",
   "metadata": {
    "scrolled": true
   },
   "outputs": [
    {
     "data": {
      "text/plain": [
       "{'query': {'ids': [44147844],\n",
       "  'dimensions': ['ym:s:date', 'ym:s:isRobot', 'ym:s:browser'],\n",
       "  'metrics': ['ym:s:visits'],\n",
       "  'sort': ['-ym:s:visits'],\n",
       "  'date1': '2025-03-14',\n",
       "  'date2': '2025-03-20',\n",
       "  'filters': \"ym:s:date=='2025-03-18'\",\n",
       "  'limit': 100,\n",
       "  'offset': 1,\n",
       "  'group': 'Week',\n",
       "  'benchmarks_version': '1740960000000',\n",
       "  'auto_group_size': '1',\n",
       "  'attr_name': '',\n",
       "  'funnel_window': '',\n",
       "  'benchmarks_quantile': '50',\n",
       "  'quantile': '50',\n",
       "  'offline_window': '21',\n",
       "  'attribution': 'LastSign',\n",
       "  'currency': 'RUB',\n",
       "  'benchmarks_attribution': 'Automatic',\n",
       "  'adfox_event_id': '0',\n",
       "  'funnel_pattern': ''},\n",
       " 'data': [{'dimensions': [{'name': '2025-03-18'},\n",
       "    {'name': 'People', 'id': 'no'},\n",
       "    {'icon_id': '6',\n",
       "     'icon_type': 'browser',\n",
       "     'name': 'Google Chrome',\n",
       "     'id': '6'}],\n",
       "   'metrics': [112.0]},\n",
       "  {'dimensions': [{'name': '2025-03-18'},\n",
       "    {'name': 'People', 'id': 'no'},\n",
       "    {'icon_id': '70',\n",
       "     'icon_type': 'browser',\n",
       "     'name': 'Yandex Browser',\n",
       "     'id': '70'}],\n",
       "   'metrics': [32.0]},\n",
       "  {'dimensions': [{'name': '2025-03-18'},\n",
       "    {'name': 'People', 'id': 'no'},\n",
       "    {'icon_id': '83',\n",
       "     'icon_type': 'browser',\n",
       "     'name': 'Chrome Mobile',\n",
       "     'id': '83'}],\n",
       "   'metrics': [32.0]},\n",
       "  {'dimensions': [{'name': '2025-03-18'},\n",
       "    {'name': 'Robots', 'id': 'yes'},\n",
       "    {'icon_id': '83',\n",
       "     'icon_type': 'browser',\n",
       "     'name': 'Chrome Mobile',\n",
       "     'id': '83'}],\n",
       "   'metrics': [27.0]},\n",
       "  {'dimensions': [{'name': '2025-03-18'},\n",
       "    {'name': 'People', 'id': 'no'},\n",
       "    {'icon_id': '38',\n",
       "     'icon_type': 'browser',\n",
       "     'name': 'Mobile Safari',\n",
       "     'id': '38'}],\n",
       "   'metrics': [14.0]},\n",
       "  {'dimensions': [{'name': '2025-03-18'},\n",
       "    {'name': 'People', 'id': 'no'},\n",
       "    {'icon_id': '135', 'icon_type': 'browser', 'name': 'Edge', 'id': '135'}],\n",
       "   'metrics': [11.0]},\n",
       "  {'dimensions': [{'name': '2025-03-18'},\n",
       "    {'name': 'People', 'id': 'no'},\n",
       "    {'icon_id': '3', 'icon_type': 'browser', 'name': 'Firefox', 'id': '3'}],\n",
       "   'metrics': [10.0]},\n",
       "  {'dimensions': [{'name': '2025-03-18'},\n",
       "    {'name': 'People', 'id': 'no'},\n",
       "    {'icon_id': '4', 'icon_type': 'browser', 'name': 'Safari', 'id': '4'}],\n",
       "   'metrics': [8.0]},\n",
       "  {'dimensions': [{'name': '2025-03-18'},\n",
       "    {'name': 'Robots', 'id': 'yes'},\n",
       "    {'icon_id': '6',\n",
       "     'icon_type': 'browser',\n",
       "     'name': 'Google Chrome',\n",
       "     'id': '6'}],\n",
       "   'metrics': [8.0]},\n",
       "  {'dimensions': [{'name': '2025-03-18'},\n",
       "    {'name': 'People', 'id': 'no'},\n",
       "    {'icon_id': '72',\n",
       "     'icon_type': 'browser',\n",
       "     'name': 'Android Browser',\n",
       "     'id': '72'}],\n",
       "   'metrics': [7.0]},\n",
       "  {'dimensions': [{'name': '2025-03-18'},\n",
       "    {'name': 'People', 'id': 'no'},\n",
       "    {'icon_id': '2', 'icon_type': 'browser', 'name': 'Opera', 'id': '2'}],\n",
       "   'metrics': [3.0]},\n",
       "  {'dimensions': [{'name': '2025-03-18'},\n",
       "    {'name': 'People', 'id': 'no'},\n",
       "    {'icon_id': '117',\n",
       "     'icon_type': 'browser',\n",
       "     'name': 'Yandex Start: mobile app',\n",
       "     'id': '117'}],\n",
       "   'metrics': [2.0]},\n",
       "  {'dimensions': [{'name': '2025-03-18'},\n",
       "    {'name': 'People', 'id': 'no'},\n",
       "    {'icon_id': '120',\n",
       "     'icon_type': 'browser',\n",
       "     'name': 'Google: mobile app',\n",
       "     'id': '120'}],\n",
       "   'metrics': [2.0]},\n",
       "  {'dimensions': [{'name': '2025-03-18'},\n",
       "    {'name': 'Robots', 'id': 'yes'},\n",
       "    {'icon_id': '70',\n",
       "     'icon_type': 'browser',\n",
       "     'name': 'Yandex Browser',\n",
       "     'id': '70'}],\n",
       "   'metrics': [2.0]},\n",
       "  {'dimensions': [{'name': '2025-03-18'},\n",
       "    {'name': 'People', 'id': 'no'},\n",
       "    {'icon_id': '37',\n",
       "     'icon_type': 'browser',\n",
       "     'name': 'Opera Mobile',\n",
       "     'id': '37'}],\n",
       "   'metrics': [1.0]},\n",
       "  {'dimensions': [{'name': '2025-03-18'},\n",
       "    {'name': 'People', 'id': 'no'},\n",
       "    {'icon_id': '205',\n",
       "     'icon_type': 'browser',\n",
       "     'name': 'Yandex with Alice: mobile app',\n",
       "     'id': '205'}],\n",
       "   'metrics': [1.0]},\n",
       "  {'dimensions': [{'name': '2025-03-18'},\n",
       "    {'name': 'Robots', 'id': 'yes'},\n",
       "    {'icon_id': '117',\n",
       "     'icon_type': 'browser',\n",
       "     'name': 'Yandex Start: mobile app',\n",
       "     'id': '117'}],\n",
       "   'metrics': [1.0]}],\n",
       " 'total_rows': 17,\n",
       " 'total_rows_rounded': False,\n",
       " 'sampled': False,\n",
       " 'contains_sensitive_data': False,\n",
       " 'sample_share': 1.0,\n",
       " 'sample_size': 1540,\n",
       " 'sample_space': 1540,\n",
       " 'data_lag': 0,\n",
       " 'totals': [273.0],\n",
       " 'min': [1.0],\n",
       " 'max': [112.0]}"
      ]
     },
     "execution_count": 27,
     "metadata": {},
     "output_type": "execute_result"
    }
   ],
   "source": [
    "visits_requests_2"
   ]
  },
  {
   "cell_type": "code",
   "execution_count": 28,
   "id": "3bf82cac-24d6-4ca0-a167-8b782edae175",
   "metadata": {
    "scrolled": true
   },
   "outputs": [
    {
     "data": {
      "text/plain": [
       "[{'date': '2025-03-14',\n",
       "  'isRobot': 'People',\n",
       "  'browser': 'Google Chrome',\n",
       "  'metrics': 114.0},\n",
       " {'date': '2025-03-14',\n",
       "  'isRobot': 'People',\n",
       "  'browser': 'Chrome Mobile',\n",
       "  'metrics': 36.0},\n",
       " {'date': '2025-03-14',\n",
       "  'isRobot': 'Robots',\n",
       "  'browser': 'Chrome Mobile',\n",
       "  'metrics': 30.0},\n",
       " {'date': '2025-03-14',\n",
       "  'isRobot': 'People',\n",
       "  'browser': 'Yandex Browser',\n",
       "  'metrics': 25.0},\n",
       " {'date': '2025-03-14',\n",
       "  'isRobot': 'Robots',\n",
       "  'browser': 'Google Chrome',\n",
       "  'metrics': 15.0},\n",
       " {'date': '2025-03-14',\n",
       "  'isRobot': 'People',\n",
       "  'browser': 'Firefox',\n",
       "  'metrics': 12.0},\n",
       " {'date': '2025-03-14',\n",
       "  'isRobot': 'People',\n",
       "  'browser': 'Edge',\n",
       "  'metrics': 12.0},\n",
       " {'date': '2025-03-14',\n",
       "  'isRobot': 'People',\n",
       "  'browser': 'Safari',\n",
       "  'metrics': 11.0},\n",
       " {'date': '2025-03-14',\n",
       "  'isRobot': 'People',\n",
       "  'browser': 'Mobile Safari',\n",
       "  'metrics': 11.0},\n",
       " {'date': '2025-03-14',\n",
       "  'isRobot': 'People',\n",
       "  'browser': 'Android Browser',\n",
       "  'metrics': 4.0},\n",
       " {'date': '2025-03-14',\n",
       "  'isRobot': 'People',\n",
       "  'browser': 'Yandex Start: mobile app',\n",
       "  'metrics': 4.0},\n",
       " {'date': '2025-03-14',\n",
       "  'isRobot': 'People',\n",
       "  'browser': 'Opera',\n",
       "  'metrics': 2.0},\n",
       " {'date': '2025-03-14',\n",
       "  'isRobot': 'People',\n",
       "  'browser': 'Firefox Mobile',\n",
       "  'metrics': 2.0},\n",
       " {'date': '2025-03-14',\n",
       "  'isRobot': 'People',\n",
       "  'browser': 'Samsung Internet',\n",
       "  'metrics': 2.0},\n",
       " {'date': '2025-03-14',\n",
       "  'isRobot': 'People',\n",
       "  'browser': 'YandexBrowserCorp',\n",
       "  'metrics': 2.0},\n",
       " {'date': '2025-03-14',\n",
       "  'isRobot': 'People',\n",
       "  'browser': 'Opera Mobile',\n",
       "  'metrics': 1.0},\n",
       " {'date': '2025-03-14',\n",
       "  'isRobot': 'People',\n",
       "  'browser': 'MQQBrowser',\n",
       "  'metrics': 1.0},\n",
       " {'date': '2025-03-14',\n",
       "  'isRobot': 'Robots',\n",
       "  'browser': 'Edge',\n",
       "  'metrics': 1.0},\n",
       " {'date': '2025-03-15',\n",
       "  'isRobot': 'People',\n",
       "  'browser': 'Google Chrome',\n",
       "  'metrics': 66.0},\n",
       " {'date': '2025-03-15',\n",
       "  'isRobot': 'Robots',\n",
       "  'browser': 'Chrome Mobile',\n",
       "  'metrics': 50.0},\n",
       " {'date': '2025-03-15',\n",
       "  'isRobot': 'People',\n",
       "  'browser': 'Chrome Mobile',\n",
       "  'metrics': 37.0},\n",
       " {'date': '2025-03-15',\n",
       "  'isRobot': 'Robots',\n",
       "  'browser': 'Google Chrome',\n",
       "  'metrics': 19.0},\n",
       " {'date': '2025-03-15',\n",
       "  'isRobot': 'People',\n",
       "  'browser': 'Yandex Browser',\n",
       "  'metrics': 15.0},\n",
       " {'date': '2025-03-15',\n",
       "  'isRobot': 'People',\n",
       "  'browser': 'Edge',\n",
       "  'metrics': 13.0},\n",
       " {'date': '2025-03-15',\n",
       "  'isRobot': 'People',\n",
       "  'browser': 'Firefox',\n",
       "  'metrics': 8.0},\n",
       " {'date': '2025-03-15',\n",
       "  'isRobot': 'People',\n",
       "  'browser': 'Mobile Safari',\n",
       "  'metrics': 5.0},\n",
       " {'date': '2025-03-15',\n",
       "  'isRobot': 'People',\n",
       "  'browser': 'Opera',\n",
       "  'metrics': 4.0},\n",
       " {'date': '2025-03-15',\n",
       "  'isRobot': 'People',\n",
       "  'browser': 'Android Browser',\n",
       "  'metrics': 4.0},\n",
       " {'date': '2025-03-15',\n",
       "  'isRobot': 'People',\n",
       "  'browser': 'Safari',\n",
       "  'metrics': 3.0},\n",
       " {'date': '2025-03-15',\n",
       "  'isRobot': 'People',\n",
       "  'browser': 'MIUI',\n",
       "  'metrics': 2.0},\n",
       " {'date': '2025-03-15',\n",
       "  'isRobot': 'Robots',\n",
       "  'browser': 'Mobile Safari',\n",
       "  'metrics': 2.0},\n",
       " {'date': '2025-03-15',\n",
       "  'isRobot': 'People',\n",
       "  'browser': 'Yandex Start: mobile app',\n",
       "  'metrics': 1.0},\n",
       " {'date': '2025-03-15',\n",
       "  'isRobot': 'Robots',\n",
       "  'browser': 'Edge',\n",
       "  'metrics': 1.0},\n",
       " {'date': '2025-03-16',\n",
       "  'isRobot': 'People',\n",
       "  'browser': 'Google Chrome',\n",
       "  'metrics': 60.0},\n",
       " {'date': '2025-03-16',\n",
       "  'isRobot': 'People',\n",
       "  'browser': 'Chrome Mobile',\n",
       "  'metrics': 44.0},\n",
       " {'date': '2025-03-16',\n",
       "  'isRobot': 'Robots',\n",
       "  'browser': 'Chrome Mobile',\n",
       "  'metrics': 32.0},\n",
       " {'date': '2025-03-16',\n",
       "  'isRobot': 'Robots',\n",
       "  'browser': 'Google Chrome',\n",
       "  'metrics': 16.0},\n",
       " {'date': '2025-03-16',\n",
       "  'isRobot': 'People',\n",
       "  'browser': 'Yandex Browser',\n",
       "  'metrics': 14.0},\n",
       " {'date': '2025-03-16',\n",
       "  'isRobot': 'People',\n",
       "  'browser': 'Firefox',\n",
       "  'metrics': 6.0},\n",
       " {'date': '2025-03-16',\n",
       "  'isRobot': 'People',\n",
       "  'browser': 'Edge',\n",
       "  'metrics': 5.0},\n",
       " {'date': '2025-03-16',\n",
       "  'isRobot': 'People',\n",
       "  'browser': 'Safari',\n",
       "  'metrics': 4.0},\n",
       " {'date': '2025-03-16',\n",
       "  'isRobot': 'People',\n",
       "  'browser': 'Mobile Safari',\n",
       "  'metrics': 3.0},\n",
       " {'date': '2025-03-16',\n",
       "  'isRobot': 'People',\n",
       "  'browser': 'Android Browser',\n",
       "  'metrics': 3.0},\n",
       " {'date': '2025-03-16',\n",
       "  'isRobot': 'People',\n",
       "  'browser': 'Yandex Start: mobile app',\n",
       "  'metrics': 3.0},\n",
       " {'date': '2025-03-16',\n",
       "  'isRobot': 'People',\n",
       "  'browser': 'Samsung Internet',\n",
       "  'metrics': 2.0},\n",
       " {'date': '2025-03-16',\n",
       "  'isRobot': 'People',\n",
       "  'browser': 'Yandex with Alice: mobile app',\n",
       "  'metrics': 2.0},\n",
       " {'date': '2025-03-16',\n",
       "  'isRobot': 'Robots',\n",
       "  'browser': 'Yandex Start: mobile app',\n",
       "  'metrics': 2.0},\n",
       " {'date': '2025-03-16',\n",
       "  'isRobot': 'People',\n",
       "  'browser': 'Opera',\n",
       "  'metrics': 1.0},\n",
       " {'date': '2025-03-16',\n",
       "  'isRobot': 'People',\n",
       "  'browser': 'MQQBrowser',\n",
       "  'metrics': 1.0},\n",
       " {'date': '2025-03-16',\n",
       "  'isRobot': 'People',\n",
       "  'browser': 'Яндекс.Браузер lite',\n",
       "  'metrics': 1.0},\n",
       " {'date': '2025-03-16',\n",
       "  'isRobot': 'Robots',\n",
       "  'browser': 'Mobile Safari',\n",
       "  'metrics': 1.0},\n",
       " {'date': '2025-03-16',\n",
       "  'isRobot': 'Robots',\n",
       "  'browser': 'Yandex Browser',\n",
       "  'metrics': 1.0},\n",
       " {'date': '2025-03-17',\n",
       "  'isRobot': 'People',\n",
       "  'browser': 'Google Chrome',\n",
       "  'metrics': 93.0},\n",
       " {'date': '2025-03-17',\n",
       "  'isRobot': 'People',\n",
       "  'browser': 'Chrome Mobile',\n",
       "  'metrics': 39.0},\n",
       " {'date': '2025-03-17',\n",
       "  'isRobot': 'Robots',\n",
       "  'browser': 'Chrome Mobile',\n",
       "  'metrics': 28.0},\n",
       " {'date': '2025-03-17',\n",
       "  'isRobot': 'People',\n",
       "  'browser': 'Yandex Browser',\n",
       "  'metrics': 26.0},\n",
       " {'date': '2025-03-17',\n",
       "  'isRobot': 'Robots',\n",
       "  'browser': 'Google Chrome',\n",
       "  'metrics': 20.0},\n",
       " {'date': '2025-03-17',\n",
       "  'isRobot': 'People',\n",
       "  'browser': 'Edge',\n",
       "  'metrics': 9.0},\n",
       " {'date': '2025-03-17',\n",
       "  'isRobot': 'People',\n",
       "  'browser': 'Firefox',\n",
       "  'metrics': 8.0},\n",
       " {'date': '2025-03-17',\n",
       "  'isRobot': 'People',\n",
       "  'browser': 'Safari',\n",
       "  'metrics': 7.0},\n",
       " {'date': '2025-03-17',\n",
       "  'isRobot': 'People',\n",
       "  'browser': 'Mobile Safari',\n",
       "  'metrics': 5.0},\n",
       " {'date': '2025-03-17',\n",
       "  'isRobot': 'People',\n",
       "  'browser': 'Opera',\n",
       "  'metrics': 3.0},\n",
       " {'date': '2025-03-17',\n",
       "  'isRobot': 'People',\n",
       "  'browser': 'Yandex Start: mobile app',\n",
       "  'metrics': 2.0},\n",
       " {'date': '2025-03-17', 'isRobot': 'Robots', 'browser': None, 'metrics': 2.0},\n",
       " {'date': '2025-03-17',\n",
       "  'isRobot': 'Robots',\n",
       "  'browser': 'Firefox',\n",
       "  'metrics': 2.0},\n",
       " {'date': '2025-03-17',\n",
       "  'isRobot': 'People',\n",
       "  'browser': 'Google: mobile app',\n",
       "  'metrics': 1.0},\n",
       " {'date': '2025-03-17',\n",
       "  'isRobot': 'People',\n",
       "  'browser': 'Samsung Internet',\n",
       "  'metrics': 1.0},\n",
       " {'date': '2025-03-17',\n",
       "  'isRobot': 'People',\n",
       "  'browser': 'Huawei Browser',\n",
       "  'metrics': 1.0},\n",
       " {'date': '2025-03-17',\n",
       "  'isRobot': 'People',\n",
       "  'browser': 'YandexBrowserCorp',\n",
       "  'metrics': 1.0},\n",
       " {'date': '2025-03-17',\n",
       "  'isRobot': 'Robots',\n",
       "  'browser': 'Android Browser',\n",
       "  'metrics': 1.0},\n",
       " {'date': '2025-03-17',\n",
       "  'isRobot': 'Robots',\n",
       "  'browser': 'Edge',\n",
       "  'metrics': 1.0},\n",
       " {'date': '2025-03-17',\n",
       "  'isRobot': 'Robots',\n",
       "  'browser': 'HeadlessChrome',\n",
       "  'metrics': 1.0},\n",
       " {'date': '2025-03-18',\n",
       "  'isRobot': 'People',\n",
       "  'browser': 'Google Chrome',\n",
       "  'metrics': 112.0},\n",
       " {'date': '2025-03-18',\n",
       "  'isRobot': 'People',\n",
       "  'browser': 'Yandex Browser',\n",
       "  'metrics': 32.0},\n",
       " {'date': '2025-03-18',\n",
       "  'isRobot': 'People',\n",
       "  'browser': 'Chrome Mobile',\n",
       "  'metrics': 32.0},\n",
       " {'date': '2025-03-18',\n",
       "  'isRobot': 'Robots',\n",
       "  'browser': 'Chrome Mobile',\n",
       "  'metrics': 27.0},\n",
       " {'date': '2025-03-18',\n",
       "  'isRobot': 'People',\n",
       "  'browser': 'Mobile Safari',\n",
       "  'metrics': 14.0},\n",
       " {'date': '2025-03-18',\n",
       "  'isRobot': 'People',\n",
       "  'browser': 'Edge',\n",
       "  'metrics': 11.0},\n",
       " {'date': '2025-03-18',\n",
       "  'isRobot': 'People',\n",
       "  'browser': 'Firefox',\n",
       "  'metrics': 10.0},\n",
       " {'date': '2025-03-18',\n",
       "  'isRobot': 'People',\n",
       "  'browser': 'Safari',\n",
       "  'metrics': 8.0},\n",
       " {'date': '2025-03-18',\n",
       "  'isRobot': 'Robots',\n",
       "  'browser': 'Google Chrome',\n",
       "  'metrics': 8.0},\n",
       " {'date': '2025-03-18',\n",
       "  'isRobot': 'People',\n",
       "  'browser': 'Android Browser',\n",
       "  'metrics': 7.0},\n",
       " {'date': '2025-03-18',\n",
       "  'isRobot': 'People',\n",
       "  'browser': 'Opera',\n",
       "  'metrics': 3.0},\n",
       " {'date': '2025-03-18',\n",
       "  'isRobot': 'People',\n",
       "  'browser': 'Yandex Start: mobile app',\n",
       "  'metrics': 2.0},\n",
       " {'date': '2025-03-18',\n",
       "  'isRobot': 'People',\n",
       "  'browser': 'Google: mobile app',\n",
       "  'metrics': 2.0},\n",
       " {'date': '2025-03-18',\n",
       "  'isRobot': 'Robots',\n",
       "  'browser': 'Yandex Browser',\n",
       "  'metrics': 2.0},\n",
       " {'date': '2025-03-18',\n",
       "  'isRobot': 'People',\n",
       "  'browser': 'Opera Mobile',\n",
       "  'metrics': 1.0},\n",
       " {'date': '2025-03-18',\n",
       "  'isRobot': 'People',\n",
       "  'browser': 'Yandex with Alice: mobile app',\n",
       "  'metrics': 1.0},\n",
       " {'date': '2025-03-18',\n",
       "  'isRobot': 'Robots',\n",
       "  'browser': 'Yandex Start: mobile app',\n",
       "  'metrics': 1.0}]"
      ]
     },
     "execution_count": 28,
     "metadata": {},
     "output_type": "execute_result"
    }
   ],
   "source": [
    "data_2"
   ]
  },
  {
   "cell_type": "code",
   "execution_count": 29,
   "id": "a4a461ff-a1a0-4551-91b1-70976045d3e2",
   "metadata": {},
   "outputs": [],
   "source": [
    "data_2 = pd.DataFrame(data_2)"
   ]
  },
  {
   "cell_type": "code",
   "execution_count": 30,
   "id": "dbaec1c8-68aa-4c09-86ff-af85cf34802b",
   "metadata": {},
   "outputs": [
    {
     "data": {
      "text/html": [
       "<div>\n",
       "<style scoped>\n",
       "    .dataframe tbody tr th:only-of-type {\n",
       "        vertical-align: middle;\n",
       "    }\n",
       "\n",
       "    .dataframe tbody tr th {\n",
       "        vertical-align: top;\n",
       "    }\n",
       "\n",
       "    .dataframe thead th {\n",
       "        text-align: right;\n",
       "    }\n",
       "</style>\n",
       "<table border=\"1\" class=\"dataframe\">\n",
       "  <thead>\n",
       "    <tr style=\"text-align: right;\">\n",
       "      <th></th>\n",
       "      <th>date</th>\n",
       "      <th>isRobot</th>\n",
       "      <th>browser</th>\n",
       "      <th>metrics</th>\n",
       "    </tr>\n",
       "  </thead>\n",
       "  <tbody>\n",
       "    <tr>\n",
       "      <th>0</th>\n",
       "      <td>2025-03-14</td>\n",
       "      <td>People</td>\n",
       "      <td>Google Chrome</td>\n",
       "      <td>114.0</td>\n",
       "    </tr>\n",
       "    <tr>\n",
       "      <th>1</th>\n",
       "      <td>2025-03-14</td>\n",
       "      <td>People</td>\n",
       "      <td>Chrome Mobile</td>\n",
       "      <td>36.0</td>\n",
       "    </tr>\n",
       "    <tr>\n",
       "      <th>2</th>\n",
       "      <td>2025-03-14</td>\n",
       "      <td>Robots</td>\n",
       "      <td>Chrome Mobile</td>\n",
       "      <td>30.0</td>\n",
       "    </tr>\n",
       "    <tr>\n",
       "      <th>3</th>\n",
       "      <td>2025-03-14</td>\n",
       "      <td>People</td>\n",
       "      <td>Yandex Browser</td>\n",
       "      <td>25.0</td>\n",
       "    </tr>\n",
       "    <tr>\n",
       "      <th>4</th>\n",
       "      <td>2025-03-14</td>\n",
       "      <td>Robots</td>\n",
       "      <td>Google Chrome</td>\n",
       "      <td>15.0</td>\n",
       "    </tr>\n",
       "  </tbody>\n",
       "</table>\n",
       "</div>"
      ],
      "text/plain": [
       "         date isRobot         browser  metrics\n",
       "0  2025-03-14  People   Google Chrome    114.0\n",
       "1  2025-03-14  People   Chrome Mobile     36.0\n",
       "2  2025-03-14  Robots   Chrome Mobile     30.0\n",
       "3  2025-03-14  People  Yandex Browser     25.0\n",
       "4  2025-03-14  Robots   Google Chrome     15.0"
      ]
     },
     "execution_count": 30,
     "metadata": {},
     "output_type": "execute_result"
    }
   ],
   "source": [
    "data_2.head()"
   ]
  },
  {
   "cell_type": "code",
   "execution_count": 31,
   "id": "2d5f62ef-6474-4a53-834d-9600b14e23dd",
   "metadata": {},
   "outputs": [],
   "source": [
    "data_2 = data_2.rename(columns={'metrics': 'visits'})"
   ]
  },
  {
   "cell_type": "code",
   "execution_count": 32,
   "id": "2c898185-6966-4274-81a0-168a4c79c01a",
   "metadata": {},
   "outputs": [
    {
     "data": {
      "text/plain": [
       "523.0"
      ]
     },
     "execution_count": 32,
     "metadata": {},
     "output_type": "execute_result"
    }
   ],
   "source": [
    "data_2.loc[data_2.browser == 'Google Chrome'].visits.sum()"
   ]
  },
  {
   "cell_type": "code",
   "execution_count": 33,
   "id": "61ff395b-039e-42f7-90db-fa6439cd1998",
   "metadata": {},
   "outputs": [
    {
     "data": {
      "text/plain": [
       "42.0"
      ]
     },
     "execution_count": 33,
     "metadata": {},
     "output_type": "execute_result"
    }
   ],
   "source": [
    "(data_2.loc[data_2.browser == 'Google Chrome'].visits.sum() / data_2.visits.sum() * 100).round(0)"
   ]
  },
  {
   "cell_type": "markdown",
   "id": "f36b58f9-32d5-4a55-a681-2daad1a7d519",
   "metadata": {},
   "source": [
    "Let’s determine which browser has the highest share of bot visits compared to the total visits on the site. Look at the data and identify which browser has the largest proportion of bot visits out of the total visits in that browser"
   ]
  },
  {
   "cell_type": "code",
   "execution_count": 34,
   "id": "b16de472-f18b-4af9-8622-472e9bfdbbde",
   "metadata": {},
   "outputs": [
    {
     "data": {
      "text/plain": [
       "array(['2025-03-14', '2025-03-15', '2025-03-16', '2025-03-17',\n",
       "       '2025-03-18'], dtype=object)"
      ]
     },
     "execution_count": 34,
     "metadata": {},
     "output_type": "execute_result"
    }
   ],
   "source": [
    "data_2.date.unique()"
   ]
  },
  {
   "cell_type": "code",
   "execution_count": 35,
   "id": "2cca36df-aa91-412b-a687-0cbef9575ad6",
   "metadata": {},
   "outputs": [],
   "source": [
    "visits_ut_b = data_2.groupby(['browser', 'isRobot']).visits.sum()"
   ]
  },
  {
   "cell_type": "code",
   "execution_count": 36,
   "id": "c9257bb2-07d3-4ad2-8140-5d79df81d646",
   "metadata": {},
   "outputs": [
    {
     "data": {
      "text/plain": [
       "browser          isRobot\n",
       "Android Browser  People      18.0\n",
       "                 Robots       1.0\n",
       "Chrome Mobile    People     188.0\n",
       "                 Robots     167.0\n",
       "Edge             People      50.0\n",
       "Name: visits, dtype: float64"
      ]
     },
     "execution_count": 36,
     "metadata": {},
     "output_type": "execute_result"
    }
   ],
   "source": [
    "visits_ut_b.head()"
   ]
  },
  {
   "cell_type": "code",
   "execution_count": 37,
   "id": "81c15d17-7abf-4eac-8d61-0d913ac25185",
   "metadata": {},
   "outputs": [],
   "source": [
    "visits_b = data_2.groupby('browser').visits.sum()"
   ]
  },
  {
   "cell_type": "code",
   "execution_count": 38,
   "id": "eb6067bc-f085-4381-a490-cd4dcfdaae57",
   "metadata": {},
   "outputs": [
    {
     "data": {
      "text/plain": [
       "browser\n",
       "Android Browser     19.0\n",
       "Chrome Mobile      355.0\n",
       "Edge                53.0\n",
       "Firefox             46.0\n",
       "Firefox Mobile       2.0\n",
       "Name: visits, dtype: float64"
      ]
     },
     "execution_count": 38,
     "metadata": {},
     "output_type": "execute_result"
    }
   ],
   "source": [
    "visits_b.head()"
   ]
  },
  {
   "cell_type": "code",
   "execution_count": 39,
   "id": "37418b88-38c6-4bc5-986e-391a2720d2d5",
   "metadata": {},
   "outputs": [],
   "source": [
    "shares = visits_ut_b / visits_b "
   ]
  },
  {
   "cell_type": "code",
   "execution_count": 40,
   "id": "5fdae38a-3f8e-4abb-8443-a67c940ac0d8",
   "metadata": {},
   "outputs": [
    {
     "data": {
      "text/plain": [
       "browser                        isRobot\n",
       "Android Browser                People     0.947368\n",
       "                               Robots     0.052632\n",
       "Chrome Mobile                  People     0.529577\n",
       "                               Robots     0.470423\n",
       "Edge                           People     0.943396\n",
       "                               Robots     0.056604\n",
       "Firefox                        People     0.956522\n",
       "                               Robots     0.043478\n",
       "Firefox Mobile                 People     1.000000\n",
       "Google Chrome                  People     0.850860\n",
       "                               Robots     0.149140\n",
       "Google: mobile app             People     1.000000\n",
       "HeadlessChrome                 Robots     1.000000\n",
       "Huawei Browser                 People     1.000000\n",
       "MIUI                           People     1.000000\n",
       "MQQBrowser                     People     1.000000\n",
       "Mobile Safari                  People     0.926829\n",
       "                               Robots     0.073171\n",
       "Opera                          People     1.000000\n",
       "Opera Mobile                   People     1.000000\n",
       "Safari                         People     1.000000\n",
       "Samsung Internet               People     1.000000\n",
       "Yandex Browser                 People     0.973913\n",
       "                               Robots     0.026087\n",
       "Yandex Start: mobile app       People     0.800000\n",
       "                               Robots     0.200000\n",
       "Yandex with Alice: mobile app  People     1.000000\n",
       "YandexBrowserCorp              People     1.000000\n",
       "Яндекс.Браузер lite            People     1.000000\n",
       "Name: visits, dtype: float64"
      ]
     },
     "execution_count": 40,
     "metadata": {},
     "output_type": "execute_result"
    }
   ],
   "source": [
    "shares"
   ]
  },
  {
   "cell_type": "code",
   "execution_count": 41,
   "id": "5a7e4096-d474-476e-8a34-42209a688fe3",
   "metadata": {},
   "outputs": [
    {
     "data": {
      "text/plain": [
       "browser\n",
       "HeadlessChrome              1.000000\n",
       "Chrome Mobile               0.470423\n",
       "Yandex Start: mobile app    0.200000\n",
       "Google Chrome               0.149140\n",
       "Mobile Safari               0.073171\n",
       "Edge                        0.056604\n",
       "Android Browser             0.052632\n",
       "Firefox                     0.043478\n",
       "Yandex Browser              0.026087\n",
       "Name: visits, dtype: float64"
      ]
     },
     "execution_count": 41,
     "metadata": {},
     "output_type": "execute_result"
    }
   ],
   "source": [
    "shares.loc[:, 'Robots'].sort_values(ascending = False)"
   ]
  },
  {
   "cell_type": "code",
   "execution_count": 42,
   "id": "0a1dd63d-8f38-4c1e-bf37-e12b6ccb992c",
   "metadata": {},
   "outputs": [],
   "source": [
    "date_visits = (data_2.groupby('date').visits.sum() / data_2.visits.sum() * 100).to_frame()"
   ]
  },
  {
   "cell_type": "code",
   "execution_count": 43,
   "id": "b0a677d8-4327-4aca-b404-a8e9d84f0b02",
   "metadata": {},
   "outputs": [],
   "source": [
    "date_visits = date_visits.reset_index()"
   ]
  },
  {
   "cell_type": "code",
   "execution_count": 44,
   "id": "6a2bec92-d181-4895-b4da-49160719ccff",
   "metadata": {},
   "outputs": [],
   "source": [
    "date_visits.rename(columns={'visits': 'perc'}, inplace=True)"
   ]
  },
  {
   "cell_type": "code",
   "execution_count": 45,
   "id": "19703d6d-b2aa-4ac7-b5f2-a4ce8532dded",
   "metadata": {},
   "outputs": [],
   "source": [
    "data_2 = data_2.merge(date_visits, on='date')"
   ]
  },
  {
   "cell_type": "code",
   "execution_count": 46,
   "id": "648b9540-7e9c-4b05-a19f-c99ee658455d",
   "metadata": {},
   "outputs": [
    {
     "data": {
      "text/html": [
       "<div>\n",
       "<style scoped>\n",
       "    .dataframe tbody tr th:only-of-type {\n",
       "        vertical-align: middle;\n",
       "    }\n",
       "\n",
       "    .dataframe tbody tr th {\n",
       "        vertical-align: top;\n",
       "    }\n",
       "\n",
       "    .dataframe thead th {\n",
       "        text-align: right;\n",
       "    }\n",
       "</style>\n",
       "<table border=\"1\" class=\"dataframe\">\n",
       "  <thead>\n",
       "    <tr style=\"text-align: right;\">\n",
       "      <th></th>\n",
       "      <th>date</th>\n",
       "      <th>isRobot</th>\n",
       "      <th>browser</th>\n",
       "      <th>visits</th>\n",
       "      <th>perc</th>\n",
       "    </tr>\n",
       "  </thead>\n",
       "  <tbody>\n",
       "    <tr>\n",
       "      <th>7</th>\n",
       "      <td>2025-03-14</td>\n",
       "      <td>People</td>\n",
       "      <td>Safari</td>\n",
       "      <td>11.0</td>\n",
       "      <td>22.983871</td>\n",
       "    </tr>\n",
       "    <tr>\n",
       "      <th>28</th>\n",
       "      <td>2025-03-15</td>\n",
       "      <td>People</td>\n",
       "      <td>Safari</td>\n",
       "      <td>3.0</td>\n",
       "      <td>18.548387</td>\n",
       "    </tr>\n",
       "    <tr>\n",
       "      <th>40</th>\n",
       "      <td>2025-03-16</td>\n",
       "      <td>People</td>\n",
       "      <td>Safari</td>\n",
       "      <td>4.0</td>\n",
       "      <td>16.209677</td>\n",
       "    </tr>\n",
       "    <tr>\n",
       "      <th>59</th>\n",
       "      <td>2025-03-17</td>\n",
       "      <td>People</td>\n",
       "      <td>Safari</td>\n",
       "      <td>7.0</td>\n",
       "      <td>20.241935</td>\n",
       "    </tr>\n",
       "    <tr>\n",
       "      <th>79</th>\n",
       "      <td>2025-03-18</td>\n",
       "      <td>People</td>\n",
       "      <td>Safari</td>\n",
       "      <td>8.0</td>\n",
       "      <td>22.016129</td>\n",
       "    </tr>\n",
       "  </tbody>\n",
       "</table>\n",
       "</div>"
      ],
      "text/plain": [
       "          date isRobot browser  visits       perc\n",
       "7   2025-03-14  People  Safari    11.0  22.983871\n",
       "28  2025-03-15  People  Safari     3.0  18.548387\n",
       "40  2025-03-16  People  Safari     4.0  16.209677\n",
       "59  2025-03-17  People  Safari     7.0  20.241935\n",
       "79  2025-03-18  People  Safari     8.0  22.016129"
      ]
     },
     "execution_count": 46,
     "metadata": {},
     "output_type": "execute_result"
    }
   ],
   "source": [
    "data_2.query(\"isRobot == 'People' & browser == 'Safari'\")"
   ]
  },
  {
   "cell_type": "code",
   "execution_count": 47,
   "id": "21883c22-ed01-4ad1-afb3-f5e47f04b9a5",
   "metadata": {},
   "outputs": [
    {
     "data": {
      "text/plain": [
       "7     23.0\n",
       "28    18.5\n",
       "40    16.2\n",
       "59    20.2\n",
       "79    22.0\n",
       "Name: perc, dtype: float64"
      ]
     },
     "execution_count": 47,
     "metadata": {},
     "output_type": "execute_result"
    }
   ],
   "source": [
    "round(data_2.query(\"isRobot == 'People' & browser == 'Safari'\")['perc'], 1)"
   ]
  },
  {
   "cell_type": "markdown",
   "id": "4d604e69-0be3-4245-8353-33cbab90b4a2",
   "metadata": {},
   "source": [
    "Using the **gspread** library, send the data to a **Google Spreadsheet**. Then, send the link to the resulting file in Google Spreadsheet o yourself in a **VK private message** using the **VK API**"
   ]
  },
  {
   "cell_type": "code",
   "execution_count": 63,
   "id": "5888e13c-2c5e-449d-b253-9462ff6947de",
   "metadata": {},
   "outputs": [],
   "source": [
    "import gspread\n",
    "import vk_api\n",
    "import numpy as np"
   ]
  },
  {
   "cell_type": "code",
   "execution_count": 50,
   "id": "73165a86-0bf2-4845-982e-e70524e1ec96",
   "metadata": {},
   "outputs": [],
   "source": [
    "SERVICE_ACCOUNT_FILE = '/Users/iaroslav/Downloads/citric-dream-454109-t6-9ed63c964093.json'"
   ]
  },
  {
   "cell_type": "code",
   "execution_count": 51,
   "id": "0fe28da7-c91a-450e-b0a7-001d603b3d83",
   "metadata": {},
   "outputs": [],
   "source": [
    "gc = gspread.service_account(filename = SERVICE_ACCOUNT_FILE)"
   ]
  },
  {
   "cell_type": "code",
   "execution_count": 52,
   "id": "dbb9f76f-e4a4-4251-b19d-bf7cabb5c2cd",
   "metadata": {},
   "outputs": [],
   "source": [
    "sh = gc.create('project_metrica')"
   ]
  },
  {
   "cell_type": "code",
   "execution_count": 53,
   "id": "2d09328f-1b4d-41a9-a035-37cd79241316",
   "metadata": {},
   "outputs": [],
   "source": [
    "email = 'yrslv.trgb@gmail.com'"
   ]
  },
  {
   "cell_type": "code",
   "execution_count": 54,
   "id": "86089157-c697-4622-b2c2-1004b21afc7a",
   "metadata": {},
   "outputs": [
    {
     "data": {
      "text/plain": [
       "<Response [200]>"
      ]
     },
     "execution_count": 54,
     "metadata": {},
     "output_type": "execute_result"
    }
   ],
   "source": [
    "sh.share(email, perm_type='user', role='writer')"
   ]
  },
  {
   "cell_type": "code",
   "execution_count": 55,
   "id": "3d324f79-bfd0-48a2-aa6c-5d126a801182",
   "metadata": {},
   "outputs": [],
   "source": [
    "worksheet = sh.get_worksheet(0)"
   ]
  },
  {
   "cell_type": "code",
   "execution_count": 56,
   "id": "c4632c83-7c1b-464f-ad71-8a71570ab971",
   "metadata": {},
   "outputs": [
    {
     "data": {
      "text/plain": [
       "{'spreadsheetId': '1ZR_0Qpnu9koTRvOxwldceoquk-VRpSuWn9q8-J04-NI',\n",
       " 'updatedRange': 'Sheet1!A1:E90',\n",
       " 'updatedRows': 90,\n",
       " 'updatedColumns': 5,\n",
       " 'updatedCells': 449}"
      ]
     },
     "execution_count": 56,
     "metadata": {},
     "output_type": "execute_result"
    }
   ],
   "source": [
    "worksheet.update([data_2.columns.values.tolist()] + data_2.values.tolist())"
   ]
  },
  {
   "cell_type": "code",
   "execution_count": 58,
   "id": "8433ee3c-f169-4158-9f56-e95474a3ed8d",
   "metadata": {},
   "outputs": [],
   "source": [
    "link = sh.url"
   ]
  },
  {
   "cell_type": "code",
   "execution_count": 59,
   "id": "a19156b5-b4e7-49c6-8c8c-b475592fa47c",
   "metadata": {},
   "outputs": [
    {
     "data": {
      "text/plain": [
       "'https://docs.google.com/spreadsheets/d/1ZR_0Qpnu9koTRvOxwldceoquk-VRpSuWn9q8-J04-NI'"
      ]
     },
     "execution_count": 59,
     "metadata": {},
     "output_type": "execute_result"
    }
   ],
   "source": [
    "link"
   ]
  },
  {
   "cell_type": "code",
   "execution_count": 61,
   "id": "9c80e596-e210-4119-a4ab-a12d827d354c",
   "metadata": {},
   "outputs": [],
   "source": [
    "with open('/Users/iaroslav/Git/vk_key.txt') as f:\n",
    "    token = f.read().strip()\n",
    "\n",
    "vk_session = vk_api.VkApi(token=token)\n",
    "vk = vk_session.get_api()"
   ]
  },
  {
   "cell_type": "code",
   "execution_count": 65,
   "id": "16da1803-e1e6-4e27-b43a-92067a2a5fca",
   "metadata": {},
   "outputs": [
    {
     "data": {
      "text/plain": [
       "0"
      ]
     },
     "execution_count": 65,
     "metadata": {},
     "output_type": "execute_result"
    }
   ],
   "source": [
    "vk.messages.send(\n",
    "    chat_id=1,\n",
    "    random_id=np.random.randint(1, 2**3),\n",
    "    message=link)"
   ]
  }
 ],
 "metadata": {
  "kernelspec": {
   "display_name": "Python [conda env:base] *",
   "language": "python",
   "name": "conda-base-py"
  },
  "language_info": {
   "codemirror_mode": {
    "name": "ipython",
    "version": 3
   },
   "file_extension": ".py",
   "mimetype": "text/x-python",
   "name": "python",
   "nbconvert_exporter": "python",
   "pygments_lexer": "ipython3",
   "version": "3.12.2"
  }
 },
 "nbformat": 4,
 "nbformat_minor": 5
}
