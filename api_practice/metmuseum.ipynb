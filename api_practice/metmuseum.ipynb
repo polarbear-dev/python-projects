{
 "cells": [
  {
   "cell_type": "code",
   "execution_count": 1,
   "id": "563e224a-a082-4b48-b3ff-232fc2892cea",
   "metadata": {},
   "outputs": [],
   "source": [
    "import requests\n",
    "import pandas as pd\n",
    "import seaborn as sns\n",
    "import matplotlib.pyplot as plt"
   ]
  },
  {
   "cell_type": "code",
   "execution_count": 2,
   "id": "db252429-7b7c-405f-81fd-e3ea2f054e16",
   "metadata": {},
   "outputs": [],
   "source": [
    "# find all works related to sunflowers"
   ]
  },
  {
   "cell_type": "code",
   "execution_count": 3,
   "id": "a8784c0b-d5c2-489a-9322-a8a61be5a22b",
   "metadata": {},
   "outputs": [],
   "source": [
    "r = requests.get('https://collectionapi.metmuseum.org/public/collection/v1/search?q=sunflowers')\n",
    "sunflowers = r.json()"
   ]
  },
  {
   "cell_type": "code",
   "execution_count": 4,
   "id": "911eec70-f77c-4e54-866f-54db66b3822f",
   "metadata": {
    "scrolled": true
   },
   "outputs": [
    {
     "data": {
      "text/plain": [
       "{'total': 97,\n",
       " 'objectIDs': [436524,\n",
       "  484935,\n",
       "  437112,\n",
       "  210191,\n",
       "  431264,\n",
       "  397949,\n",
       "  656530,\n",
       "  480725,\n",
       "  486590,\n",
       "  375281,\n",
       "  485308,\n",
       "  705155,\n",
       "  11922,\n",
       "  2032,\n",
       "  816522,\n",
       "  343052,\n",
       "  20141,\n",
       "  208554,\n",
       "  2019,\n",
       "  403496,\n",
       "  347980,\n",
       "  360837,\n",
       "  207869,\n",
       "  190739,\n",
       "  761604,\n",
       "  437115,\n",
       "  700610,\n",
       "  400581,\n",
       "  423400,\n",
       "  707887,\n",
       "  682927,\n",
       "  57922,\n",
       "  79739,\n",
       "  193938,\n",
       "  649813,\n",
       "  223828,\n",
       "  339347,\n",
       "  437329,\n",
       "  208218,\n",
       "  437984,\n",
       "  202228,\n",
       "  696949,\n",
       "  704667,\n",
       "  822590,\n",
       "  822589,\n",
       "  436252,\n",
       "  436580,\n",
       "  363282,\n",
       "  207753,\n",
       "  437526,\n",
       "  822570,\n",
       "  487043,\n",
       "  203893,\n",
       "  367434,\n",
       "  423237,\n",
       "  262423,\n",
       "  839296,\n",
       "  367817,\n",
       "  13644,\n",
       "  18362,\n",
       "  820022,\n",
       "  648617,\n",
       "  761731,\n",
       "  814626,\n",
       "  892559,\n",
       "  207967,\n",
       "  626832,\n",
       "  701016,\n",
       "  262428,\n",
       "  262430,\n",
       "  841928,\n",
       "  707697,\n",
       "  205386,\n",
       "  262378,\n",
       "  918525,\n",
       "  426804,\n",
       "  436535,\n",
       "  633526,\n",
       "  369073,\n",
       "  747779,\n",
       "  436529,\n",
       "  436121,\n",
       "  852414,\n",
       "  41480,\n",
       "  436144,\n",
       "  427872,\n",
       "  895564,\n",
       "  912854,\n",
       "  436530,\n",
       "  436534,\n",
       "  724844,\n",
       "  437980,\n",
       "  631808,\n",
       "  396836,\n",
       "  834765,\n",
       "  834580,\n",
       "  834585]}"
      ]
     },
     "execution_count": 4,
     "metadata": {},
     "output_type": "execute_result"
    }
   ],
   "source": [
    "sunflowers # check the response format"
   ]
  },
  {
   "cell_type": "code",
   "execution_count": 5,
   "id": "a48a6293-4aab-41dd-bddf-ceaf2ee899f5",
   "metadata": {},
   "outputs": [],
   "source": [
    "sunflower_ids = sunflowers['objectIDs']  # saved everything by the key"
   ]
  },
  {
   "cell_type": "code",
   "execution_count": 6,
   "id": "f71fd5e3-bfdd-4ce4-8479-dd33be450cd1",
   "metadata": {},
   "outputs": [],
   "source": [
    "search_ids = [436524, 2032, 20149, 16822570, 437329]  # recording ID options"
   ]
  },
  {
   "cell_type": "code",
   "execution_count": 7,
   "id": "d30e76a1-1926-47e6-a1d9-3f7727e13357",
   "metadata": {},
   "outputs": [
    {
     "data": {
      "text/plain": [
       "[436524, 2032, 437329]"
      ]
     },
     "execution_count": 7,
     "metadata": {},
     "output_type": "execute_result"
    }
   ],
   "source": [
    "# For each ID, check if it is in sunflower_ids; output the element if the condition is met\n",
    "[i for i in search_ids if i in sunflower_ids]"
   ]
  },
  {
   "cell_type": "markdown",
   "id": "a500c8ac-9f87-4b60-8be8-2fa540c703fb",
   "metadata": {},
   "source": [
    "request to retrieve information about a single object (Object)"
   ]
  },
  {
   "cell_type": "code",
   "execution_count": 8,
   "id": "89e32e13-49e5-4900-b59e-496bdd2bbc4e",
   "metadata": {},
   "outputs": [],
   "source": [
    "# substituted the object ID\n",
    "r_test = requests.get(f'https://collectionapi.metmuseum.org/public/collection/v1/objects/437980')  \n",
    "obj_test = r_test.json()"
   ]
  },
  {
   "cell_type": "code",
   "execution_count": 9,
   "id": "16e32eb0-5ee7-4c9c-b249-42e4e66ebb85",
   "metadata": {
    "scrolled": true
   },
   "outputs": [
    {
     "data": {
      "text/plain": [
       "{'objectID': 437980,\n",
       " 'isHighlight': False,\n",
       " 'accessionNumber': '49.30',\n",
       " 'accessionYear': '1949',\n",
       " 'isPublicDomain': True,\n",
       " 'primaryImage': 'https://images.metmuseum.org/CRDImages/ep/original/DP130999.jpg',\n",
       " 'primaryImageSmall': 'https://images.metmuseum.org/CRDImages/ep/web-large/DP130999.jpg',\n",
       " 'additionalImages': [],\n",
       " 'constituents': [{'constituentID': 161947,\n",
       "   'role': 'Artist',\n",
       "   'name': 'Vincent van Gogh',\n",
       "   'constituentULAN_URL': 'http://vocab.getty.edu/page/ulan/500115588',\n",
       "   'constituentWikidata_URL': 'https://www.wikidata.org/wiki/Q5582',\n",
       "   'gender': ''}],\n",
       " 'department': 'European Paintings',\n",
       " 'objectName': 'Painting',\n",
       " 'title': 'Cypresses',\n",
       " 'culture': '',\n",
       " 'period': '',\n",
       " 'dynasty': '',\n",
       " 'reign': '',\n",
       " 'portfolio': '',\n",
       " 'artistRole': 'Artist',\n",
       " 'artistPrefix': '',\n",
       " 'artistDisplayName': 'Vincent van Gogh',\n",
       " 'artistDisplayBio': 'Dutch, Zundert 1853–1890 Auvers-sur-Oise',\n",
       " 'artistSuffix': '',\n",
       " 'artistAlphaSort': 'Gogh, Vincent van',\n",
       " 'artistNationality': 'Dutch',\n",
       " 'artistBeginDate': '1853',\n",
       " 'artistEndDate': '1890',\n",
       " 'artistGender': '',\n",
       " 'artistWikidata_URL': 'https://www.wikidata.org/wiki/Q5582',\n",
       " 'artistULAN_URL': 'http://vocab.getty.edu/page/ulan/500115588',\n",
       " 'objectDate': '1889',\n",
       " 'objectBeginDate': 1889,\n",
       " 'objectEndDate': 1889,\n",
       " 'medium': 'Oil on canvas',\n",
       " 'dimensions': '36 3/4 x 29 1/8 in. (93.4 x 74 cm)',\n",
       " 'measurements': [{'elementName': 'Overall',\n",
       "   'elementDescription': None,\n",
       "   'elementMeasurements': {'Height': 93.4, 'Width': 74}},\n",
       "  {'elementName': 'Frame',\n",
       "   'elementDescription': None,\n",
       "   'elementMeasurements': {'Depth': 10.795,\n",
       "    'Height': 116.2052,\n",
       "    'Width': 96.5202}},\n",
       "  {'elementName': 'Other',\n",
       "   'elementDescription': 'glass',\n",
       "   'elementMeasurements': {'Height': 94.29769, 'Width': 76.517654}}],\n",
       " 'creditLine': 'Rogers Fund, 1949',\n",
       " 'geographyType': '',\n",
       " 'city': '',\n",
       " 'state': '',\n",
       " 'county': '',\n",
       " 'country': '',\n",
       " 'region': '',\n",
       " 'subregion': '',\n",
       " 'locale': '',\n",
       " 'locus': '',\n",
       " 'excavation': '',\n",
       " 'river': '',\n",
       " 'classification': 'Paintings',\n",
       " 'rightsAndReproduction': '',\n",
       " 'linkResource': '',\n",
       " 'metadataDate': '2025-01-30T04:54:21.21Z',\n",
       " 'repository': 'Metropolitan Museum of Art, New York, NY',\n",
       " 'objectURL': 'https://www.metmuseum.org/art/collection/search/437980',\n",
       " 'tags': [{'term': 'Landscapes',\n",
       "   'AAT_URL': 'http://vocab.getty.edu/page/aat/300132294',\n",
       "   'Wikidata_URL': 'https://www.wikidata.org/wiki/Q191163'},\n",
       "  {'term': 'Cypresses',\n",
       "   'AAT_URL': 'http://vocab.getty.edu/page/aat/300343641',\n",
       "   'Wikidata_URL': 'https://www.wikidata.org/wiki/Q146911'}],\n",
       " 'objectWikidata_URL': 'https://www.wikidata.org/wiki/Q867510',\n",
       " 'isTimelineWork': True,\n",
       " 'GalleryNumber': '825'}"
      ]
     },
     "execution_count": 9,
     "metadata": {},
     "output_type": "execute_result"
    }
   ],
   "source": [
    "obj_test"
   ]
  },
  {
   "cell_type": "markdown",
   "id": "9a04ec90-5957-42c6-8bd2-6fb9f722e56c",
   "metadata": {},
   "source": [
    "Let’s write a loop that will gather information about sunflowers objects. The results will be recorded in a dataframe, and we will determine how many objects are related to Japan."
   ]
  },
  {
   "cell_type": "code",
   "execution_count": 10,
   "id": "6955897b-1ca9-4d21-a7ec-42669d1cd4d9",
   "metadata": {},
   "outputs": [],
   "source": [
    "# collecting a dataframe for search results\n",
    "object_df = pd.DataFrame()\n",
    "for object_id in sunflower_ids:\n",
    "  # information about the object\n",
    "  r = requests.get(f'https://collectionapi.metmuseum.org/public/collection/v1/objects/{object_id}')\n",
    "  obj_tmp = r.json()\n",
    "\n",
    "  # forming a string for the object\n",
    "  try:\n",
    "    obj_tmp_df = pd.DataFrame({'objectID' : obj_tmp['objectID'],\n",
    "                              'title' : [obj_tmp['title']],\n",
    "                              'artistDisplayName': [obj_tmp['artistDisplayName']],\n",
    "                              'department' : [obj_tmp['department']], \n",
    "                              'objectBeginDate' : [obj_tmp['objectBeginDate']], \n",
    "                              'objectEndDate' : [obj_tmp['objectEndDate']], \n",
    "                              'period' : [obj_tmp['period']], \n",
    "                              'objectName' : [obj_tmp['objectName']], \n",
    "                              'culture': [obj_tmp['culture']]\n",
    "                          })\n",
    "    # concatenating\n",
    "    object_df = pd.concat([object_df, obj_tmp_df])\n",
    "  except KeyError:\n",
    "      continue"
   ]
  },
  {
   "cell_type": "code",
   "execution_count": 11,
   "id": "76f0931b-71fe-44c6-871f-85bc15330ae5",
   "metadata": {},
   "outputs": [
    {
     "data": {
      "text/plain": [
       "1"
      ]
     },
     "execution_count": 11,
     "metadata": {},
     "output_type": "execute_result"
    }
   ],
   "source": [
    "object_df.query(\"culture == 'Japan'\").shape[0]"
   ]
  },
  {
   "cell_type": "markdown",
   "id": "aa8b0ae4-a3f2-4948-bcd9-c6bcc2b8a955",
   "metadata": {},
   "source": [
    "Perform a search query for the department “Asian art” (departmentId = 6) with the tag “cat” and record the object IDs in **cat_ids**. Retrieve data for the first 1000 objects from the list.\n",
    "\n",
    "Which period has the largest number of works represented in the museum?"
   ]
  },
  {
   "cell_type": "code",
   "execution_count": 12,
   "id": "00d8d5d1-ef27-4670-8884-30167714dbcd",
   "metadata": {},
   "outputs": [],
   "source": [
    "r = requests.get('https://collectionapi.metmuseum.org/public/collection/v1/search?departmentId=6&q=cat')\n",
    "cats = r.json()"
   ]
  },
  {
   "cell_type": "code",
   "execution_count": 13,
   "id": "8ee21c9b-d34d-4cdb-b394-e937fa596200",
   "metadata": {},
   "outputs": [],
   "source": [
    "cat_ids = cats['objectIDs']  # saved the IDs"
   ]
  },
  {
   "cell_type": "code",
   "execution_count": 14,
   "id": "72ff4547-236a-428b-9a3b-a7a6515ac8a8",
   "metadata": {},
   "outputs": [],
   "source": [
    "# collecting a dataframe for search results\n",
    "object_df = pd.DataFrame()\n",
    "\n",
    "for object_id in cat_ids[:1000]:  # taking only 1000 objects, as specified in the task\n",
    "    # information about the object\n",
    "    r = requests.get(f'https://collectionapi.metmuseum.org/public/collection/v1/objects/{object_id}')\n",
    "    obj_tmp = r.json()\n",
    "\n",
    "    # forming a string for the object\n",
    "    try:\n",
    "        obj_tmp_df = pd.DataFrame({'objectID' : obj_tmp['objectID'],\n",
    "                                 'title' : [obj_tmp['title']],\n",
    "                                 'artistDisplayName': [obj_tmp['artistDisplayName']],\n",
    "                                 'department' : [obj_tmp['department']], \n",
    "                                 'objectBeginDate' : [obj_tmp['objectBeginDate']], \n",
    "                                 'objectEndDate' : [obj_tmp['objectEndDate']], \n",
    "                                 'objectName' : [obj_tmp['objectName']], \n",
    "                                 'culture': [obj_tmp['culture']],\n",
    "                                 'period': [obj_tmp['period']]\n",
    "                            })\n",
    "        # concatenating\n",
    "        object_df = pd.concat([object_df, obj_tmp_df])\n",
    "    except KeyError:\n",
    "        continue"
   ]
  },
  {
   "cell_type": "code",
   "execution_count": 15,
   "id": "4d59f9fa-7c34-4298-bf85-996858a3b88a",
   "metadata": {},
   "outputs": [
    {
     "data": {
      "text/plain": [
       "period\n",
       "Edo period (1615–1868)          319\n",
       "                                143\n",
       "Qing dynasty (1644–1911)         56\n",
       "Ming dynasty (1368–1644)         48\n",
       "Muromachi period (1392–1573)     28\n",
       "Name: count, dtype: int64"
      ]
     },
     "execution_count": 15,
     "metadata": {},
     "output_type": "execute_result"
    }
   ],
   "source": [
    "object_df.period.value_counts().head(5)"
   ]
  },
  {
   "cell_type": "code",
   "execution_count": null,
   "id": "3ce3604b-5776-45b1-b113-f92bff892824",
   "metadata": {},
   "outputs": [],
   "source": []
  }
 ],
 "metadata": {
  "kernelspec": {
   "display_name": "Python [conda env:base] *",
   "language": "python",
   "name": "conda-base-py"
  },
  "language_info": {
   "codemirror_mode": {
    "name": "ipython",
    "version": 3
   },
   "file_extension": ".py",
   "mimetype": "text/x-python",
   "name": "python",
   "nbconvert_exporter": "python",
   "pygments_lexer": "ipython3",
   "version": "3.12.2"
  }
 },
 "nbformat": 4,
 "nbformat_minor": 5
}
