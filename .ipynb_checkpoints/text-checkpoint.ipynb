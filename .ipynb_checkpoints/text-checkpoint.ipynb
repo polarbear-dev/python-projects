{
 "cells": [
  {
   "cell_type": "code",
   "execution_count": 1,
   "id": "a4669fce-f700-4d64-8d8e-08e1bed203dd",
   "metadata": {},
   "outputs": [],
   "source": [
    "import pandas as pd\n",
    "import os"
   ]
  },
  {
   "cell_type": "code",
   "execution_count": 2,
   "id": "6e33e1bc-d9c9-45ce-844b-5f4583dab0ec",
   "metadata": {},
   "outputs": [],
   "source": [
    "list = [int(i.strip()) for i in open('4_necessary_inn.txt').readlines()]"
   ]
  },
  {
   "cell_type": "code",
   "execution_count": 3,
   "id": "edba6782-393d-42e7-bc85-4e5c8dcfebd2",
   "metadata": {},
   "outputs": [],
   "source": [
    "data = pd.read_excel('4_inn.xls')"
   ]
  },
  {
   "cell_type": "code",
   "execution_count": 4,
   "id": "5ecc13b3-330c-48e5-be6c-aad13afc34cf",
   "metadata": {},
   "outputs": [
    {
     "data": {
      "text/plain": [
       "Unnamed: 0                 int64\n",
       "#                          int64\n",
       "name                      object\n",
       "reg_number                 int64\n",
       "address                   object\n",
       "head                      object\n",
       "head_job                  object\n",
       "head_inn                   int64\n",
       "phone                     object\n",
       "email                     object\n",
       "site                      object\n",
       "registration_date         object\n",
       "nalogoplatelschik_code    object\n",
       "oktmo_code                 int64\n",
       "okato_code                 int64\n",
       "registration_region       object\n",
       "okato_name                object\n",
       "field                     object\n",
       "capital,RUB                int64\n",
       "income,RUB                 int64\n",
       "dtype: object"
      ]
     },
     "execution_count": 4,
     "metadata": {},
     "output_type": "execute_result"
    }
   ],
   "source": [
    "data.dtypes"
   ]
  },
  {
   "cell_type": "code",
   "execution_count": 5,
   "id": "85a1f22f-45c9-4ac7-8635-766d2a8e123a",
   "metadata": {},
   "outputs": [],
   "source": [
    "filtered_data = data[data['head_inn'].isin(list)]"
   ]
  },
  {
   "cell_type": "code",
   "execution_count": 18,
   "id": "b38bccc1-1466-43be-a8b7-bb1ebe97912e",
   "metadata": {},
   "outputs": [
    {
     "data": {
      "text/plain": [
       "6104522627393"
      ]
     },
     "execution_count": 18,
     "metadata": {},
     "output_type": "execute_result"
    }
   ],
   "source": [
    "filtered_data['income,RUB'].sum()"
   ]
  },
  {
   "cell_type": "code",
   "execution_count": null,
   "id": "7abf82de-941c-44b1-89ea-d2d0a3ffa132",
   "metadata": {},
   "outputs": [],
   "source": []
  }
 ],
 "metadata": {
  "kernelspec": {
   "display_name": "Python 3 (ipykernel)",
   "language": "python",
   "name": "python3"
  },
  "language_info": {
   "codemirror_mode": {
    "name": "ipython",
    "version": 3
   },
   "file_extension": ".py",
   "mimetype": "text/x-python",
   "name": "python",
   "nbconvert_exporter": "python",
   "pygments_lexer": "ipython3",
   "version": "3.12.4"
  }
 },
 "nbformat": 4,
 "nbformat_minor": 5
}
