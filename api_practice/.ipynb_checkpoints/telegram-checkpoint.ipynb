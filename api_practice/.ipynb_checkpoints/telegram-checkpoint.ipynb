{
 "cells": [
  {
   "cell_type": "markdown",
   "id": "207c044a-9678-42b7-a682-cd5085e90180",
   "metadata": {},
   "source": [
    "Send yourself any message via a bot using the Telegram API."
   ]
  },
  {
   "cell_type": "code",
   "execution_count": 1,
   "id": "910ee809-bf0c-4793-a576-2f17ecbeadc6",
   "metadata": {},
   "outputs": [],
   "source": [
    "import requests\n",
    "import json"
   ]
  },
  {
   "cell_type": "code",
   "execution_count": 2,
   "id": "d61b4c51-0368-41e5-84ea-6a5d4b33e8a3",
   "metadata": {},
   "outputs": [],
   "source": [
    "with open('/Users/iaroslav/Git/token.txt') as f:\n",
    "    token = f.read().strip()"
   ]
  },
  {
   "cell_type": "code",
   "execution_count": 3,
   "id": "371a260c-0762-465d-865f-5b0d02d2ed18",
   "metadata": {},
   "outputs": [],
   "source": [
    "api_pattern = f'https://api.telegram.org/bot{token}'"
   ]
  },
  {
   "cell_type": "code",
   "execution_count": 4,
   "id": "6514a138-981d-4afc-8e0d-81ed41151796",
   "metadata": {},
   "outputs": [],
   "source": [
    "update = f'{api_pattern}/getUpdates'"
   ]
  },
  {
   "cell_type": "code",
   "execution_count": 5,
   "id": "9211fcbd-bcfc-4694-89ae-81197fd22b26",
   "metadata": {},
   "outputs": [],
   "source": [
    "info = requests.get(update)"
   ]
  },
  {
   "cell_type": "code",
   "execution_count": 6,
   "id": "1401ac35-81d3-4d26-91db-5b6bba2d6e2b",
   "metadata": {},
   "outputs": [
    {
     "data": {
      "text/plain": [
       "200"
      ]
     },
     "execution_count": 6,
     "metadata": {},
     "output_type": "execute_result"
    }
   ],
   "source": [
    "info.status_code"
   ]
  },
  {
   "cell_type": "code",
   "execution_count": 7,
   "id": "fe3aa72f-3cc8-4e30-bcba-cfd9a8cac9ac",
   "metadata": {},
   "outputs": [
    {
     "data": {
      "text/plain": [
       "{'ok': True,\n",
       " 'result': [{'update_id': 314466519,\n",
       "   'message': {'message_id': 11,\n",
       "    'from': {'id': 110353261,\n",
       "     'is_bot': False,\n",
       "     'first_name': 'Yaroslav',\n",
       "     'last_name': 'Unknown',\n",
       "     'username': 'yrslvtr',\n",
       "     'language_code': 'ru',\n",
       "     'is_premium': True},\n",
       "    'chat': {'id': 110353261,\n",
       "     'first_name': 'Yaroslav',\n",
       "     'last_name': 'Unknown',\n",
       "     'username': 'yrslvtr',\n",
       "     'type': 'private'},\n",
       "    'date': 1742322564,\n",
       "    'text': '/start',\n",
       "    'entities': [{'offset': 0, 'length': 6, 'type': 'bot_command'}]}}]}"
      ]
     },
     "execution_count": 7,
     "metadata": {},
     "output_type": "execute_result"
    }
   ],
   "source": [
    "info.json()"
   ]
  },
  {
   "cell_type": "code",
   "execution_count": 9,
   "id": "afb618f7-c707-4191-b7ac-3019e5b6a9b5",
   "metadata": {},
   "outputs": [],
   "source": [
    "chat_id = info.json()['result'][0]['message']['chat']['id']"
   ]
  },
  {
   "cell_type": "code",
   "execution_count": 10,
   "id": "64d76db2-cae9-4ce8-b965-803089b9dea7",
   "metadata": {},
   "outputs": [],
   "source": [
    "send_message = f'{api_pattern}/sendMessage'"
   ]
  },
  {
   "cell_type": "code",
   "execution_count": 12,
   "id": "e9fc053c-eab2-4166-b083-1720e12dc2b1",
   "metadata": {},
   "outputs": [],
   "source": [
    "params = {'chat_id': chat_id, 'text': 'привет'}"
   ]
  },
  {
   "cell_type": "code",
   "execution_count": 13,
   "id": "53df558d-51b5-4d31-9725-8ddefe218837",
   "metadata": {},
   "outputs": [],
   "source": [
    "response = requests.get(send_message, params=params)"
   ]
  },
  {
   "cell_type": "code",
   "execution_count": 14,
   "id": "af3b8eb5-760f-41d2-be91-b72937c76237",
   "metadata": {},
   "outputs": [
    {
     "data": {
      "text/plain": [
       "'{\"ok\":true,\"result\":{\"message_id\":12,\"from\":{\"id\":5737503570,\"is_bot\":true,\"first_name\":\"pisaka\",\"username\":\"pisakapisaka_bot\"},\"chat\":{\"id\":110353261,\"first_name\":\"Yaroslav\",\"last_name\":\"Unknown\",\"username\":\"yrslvtr\",\"type\":\"private\"},\"date\":1742323328,\"text\":\"\\\\u043f\\\\u0440\\\\u0438\\\\u0432\\\\u0435\\\\u0442\"}}'"
      ]
     },
     "execution_count": 14,
     "metadata": {},
     "output_type": "execute_result"
    }
   ],
   "source": [
    "response.text"
   ]
  },
  {
   "cell_type": "code",
   "execution_count": null,
   "id": "4c975703-b987-4ba2-8e05-a696fa74f453",
   "metadata": {},
   "outputs": [],
   "source": []
  }
 ],
 "metadata": {
  "kernelspec": {
   "display_name": "Python [conda env:base] *",
   "language": "python",
   "name": "conda-base-py"
  },
  "language_info": {
   "codemirror_mode": {
    "name": "ipython",
    "version": 3
   },
   "file_extension": ".py",
   "mimetype": "text/x-python",
   "name": "python",
   "nbconvert_exporter": "python",
   "pygments_lexer": "ipython3",
   "version": "3.12.2"
  }
 },
 "nbformat": 4,
 "nbformat_minor": 5
}
