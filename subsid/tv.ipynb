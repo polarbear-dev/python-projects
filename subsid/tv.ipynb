{
 "cells": [
  {
   "cell_type": "code",
   "execution_count": 1,
   "id": "b513fe2a-d637-4def-a4dd-d18a9ac805e0",
   "metadata": {},
   "outputs": [],
   "source": [
    "import pandas as pd\n",
    "import os\n",
    "import seaborn as sns\n",
    "import matplotlib.pyplot as plt\n",
    "\n",
    "%matplotlib inline"
   ]
  },
  {
   "cell_type": "code",
   "execution_count": 2,
   "id": "60c79a5f-398a-4e18-8e93-7250d842de86",
   "metadata": {},
   "outputs": [
    {
     "data": {
      "text/html": [
       "<div>\n",
       "<style scoped>\n",
       "    .dataframe tbody tr th:only-of-type {\n",
       "        vertical-align: middle;\n",
       "    }\n",
       "\n",
       "    .dataframe tbody tr th {\n",
       "        vertical-align: top;\n",
       "    }\n",
       "\n",
       "    .dataframe thead th {\n",
       "        text-align: right;\n",
       "    }\n",
       "</style>\n",
       "<table border=\"1\" class=\"dataframe\">\n",
       "  <thead>\n",
       "    <tr style=\"text-align: right;\">\n",
       "      <th></th>\n",
       "      <th>FILIAL_ID;PROD_ID;SUBS_ID;ACT_DTTM</th>\n",
       "    </tr>\n",
       "  </thead>\n",
       "  <tbody>\n",
       "    <tr>\n",
       "      <th>0</th>\n",
       "      <td>3;1499;id5764122;18-03-2020 15:44</td>\n",
       "    </tr>\n",
       "    <tr>\n",
       "      <th>1</th>\n",
       "      <td>6;3020;id7642700;15-03-2020 14:21</td>\n",
       "    </tr>\n",
       "    <tr>\n",
       "      <th>2</th>\n",
       "      <td>2;5677;id1374509;17-03-2020 11:48</td>\n",
       "    </tr>\n",
       "  </tbody>\n",
       "</table>\n",
       "</div>"
      ],
      "text/plain": [
       "  FILIAL_ID;PROD_ID;SUBS_ID;ACT_DTTM\n",
       "0  3;1499;id5764122;18-03-2020 15:44\n",
       "1  6;3020;id7642700;15-03-2020 14:21\n",
       "2  2;5677;id1374509;17-03-2020 11:48"
      ]
     },
     "execution_count": 2,
     "metadata": {},
     "output_type": "execute_result"
    }
   ],
   "source": [
    "tm_sales_3 = pd.read_csv('tm_sales_3.csv')\n",
    "tm_sales_3.head()"
   ]
  },
  {
   "cell_type": "code",
   "execution_count": 3,
   "id": "9fe93adb-de5b-4207-9909-6ccf6b2f1e0d",
   "metadata": {},
   "outputs": [],
   "source": [
    "prod_activations_logs = pd.read_csv('prod_activations_logs.csv', sep=';', parse_dates = ['START_DTTM', 'END_DTTM'], dayfirst=True)\n",
    "tm_sales_1 = pd.read_csv('tm_sales_1.csv', sep=';', parse_dates = ['ACT_DTTM'], dayfirst=True)\n",
    "tm_sales_2 = pd.read_csv('tm_sales_2.csv', sep=';', parse_dates = ['ACT_DTTM'], dayfirst=True)\n",
    "tm_sales_3 = pd.read_csv('tm_sales_3.csv', sep=';', parse_dates = ['ACT_DTTM'], dayfirst=True)"
   ]
  },
  {
   "cell_type": "code",
   "execution_count": 4,
   "id": "5314e588-65e9-4b91-92eb-4819390ea5a3",
   "metadata": {},
   "outputs": [
    {
     "data": {
      "text/html": [
       "<div>\n",
       "<style scoped>\n",
       "    .dataframe tbody tr th:only-of-type {\n",
       "        vertical-align: middle;\n",
       "    }\n",
       "\n",
       "    .dataframe tbody tr th {\n",
       "        vertical-align: top;\n",
       "    }\n",
       "\n",
       "    .dataframe thead th {\n",
       "        text-align: right;\n",
       "    }\n",
       "</style>\n",
       "<table border=\"1\" class=\"dataframe\">\n",
       "  <thead>\n",
       "    <tr style=\"text-align: right;\">\n",
       "      <th></th>\n",
       "      <th>SUBS_ID</th>\n",
       "      <th>PROD_ID</th>\n",
       "      <th>START_DTTM</th>\n",
       "      <th>END_DTTM</th>\n",
       "    </tr>\n",
       "  </thead>\n",
       "  <tbody>\n",
       "    <tr>\n",
       "      <th>1</th>\n",
       "      <td>id4651830</td>\n",
       "      <td>1954</td>\n",
       "      <td>2020-03-20 14:59:00</td>\n",
       "      <td>2020-12-01 00:00:00</td>\n",
       "    </tr>\n",
       "    <tr>\n",
       "      <th>5</th>\n",
       "      <td>id7646509</td>\n",
       "      <td>6431</td>\n",
       "      <td>2020-03-19 13:00:00</td>\n",
       "      <td>2020-03-19 13:03:00</td>\n",
       "    </tr>\n",
       "    <tr>\n",
       "      <th>2</th>\n",
       "      <td>id7461794</td>\n",
       "      <td>3310</td>\n",
       "      <td>2020-03-20 17:25:00</td>\n",
       "      <td>2020-12-01 00:00:00</td>\n",
       "    </tr>\n",
       "    <tr>\n",
       "      <th>3</th>\n",
       "      <td>id5416547</td>\n",
       "      <td>1743</td>\n",
       "      <td>2020-03-17 10:17:00</td>\n",
       "      <td>2020-03-25 11:00:00</td>\n",
       "    </tr>\n",
       "    <tr>\n",
       "      <th>4</th>\n",
       "      <td>id8238421</td>\n",
       "      <td>1859</td>\n",
       "      <td>2020-03-01 11:42:00</td>\n",
       "      <td>2020-03-01 11:43:00</td>\n",
       "    </tr>\n",
       "  </tbody>\n",
       "</table>\n",
       "</div>"
      ],
      "text/plain": [
       "     SUBS_ID PROD_ID          START_DTTM            END_DTTM\n",
       "1  id4651830    1954 2020-03-20 14:59:00 2020-12-01 00:00:00\n",
       "5  id7646509    6431 2020-03-19 13:00:00 2020-03-19 13:03:00\n",
       "2  id7461794    3310 2020-03-20 17:25:00 2020-12-01 00:00:00\n",
       "3  id5416547    1743 2020-03-17 10:17:00 2020-03-25 11:00:00\n",
       "4  id8238421    1859 2020-03-01 11:42:00 2020-03-01 11:43:00"
      ]
     },
     "execution_count": 4,
     "metadata": {},
     "output_type": "execute_result"
    }
   ],
   "source": [
    "prod_activations_logs.head()"
   ]
  },
  {
   "cell_type": "code",
   "execution_count": 5,
   "id": "249372cd-6842-4ea4-a701-4055bf7cd3b4",
   "metadata": {},
   "outputs": [
    {
     "data": {
      "text/html": [
       "<div>\n",
       "<style scoped>\n",
       "    .dataframe tbody tr th:only-of-type {\n",
       "        vertical-align: middle;\n",
       "    }\n",
       "\n",
       "    .dataframe tbody tr th {\n",
       "        vertical-align: top;\n",
       "    }\n",
       "\n",
       "    .dataframe thead th {\n",
       "        text-align: right;\n",
       "    }\n",
       "</style>\n",
       "<table border=\"1\" class=\"dataframe\">\n",
       "  <thead>\n",
       "    <tr style=\"text-align: right;\">\n",
       "      <th></th>\n",
       "      <th>SUBS_ID</th>\n",
       "      <th>FILIAL_ID</th>\n",
       "      <th>PROD_ID</th>\n",
       "      <th>ACT_DTTM</th>\n",
       "    </tr>\n",
       "  </thead>\n",
       "  <tbody>\n",
       "    <tr>\n",
       "      <th>0</th>\n",
       "      <td>id4651830</td>\n",
       "      <td>1</td>\n",
       "      <td>1954</td>\n",
       "      <td>2020-03-20 14:59:00</td>\n",
       "    </tr>\n",
       "    <tr>\n",
       "      <th>1</th>\n",
       "      <td>7646509</td>\n",
       "      <td>5</td>\n",
       "      <td>6431</td>\n",
       "      <td>2020-03-19 13:00:00</td>\n",
       "    </tr>\n",
       "    <tr>\n",
       "      <th>2</th>\n",
       "      <td>id7412683</td>\n",
       "      <td>4</td>\n",
       "      <td>3313</td>\n",
       "      <td>2020-03-22 17:25:00</td>\n",
       "    </tr>\n",
       "  </tbody>\n",
       "</table>\n",
       "</div>"
      ],
      "text/plain": [
       "     SUBS_ID  FILIAL_ID  PROD_ID            ACT_DTTM\n",
       "0  id4651830          1     1954 2020-03-20 14:59:00\n",
       "1    7646509          5     6431 2020-03-19 13:00:00\n",
       "2  id7412683          4     3313 2020-03-22 17:25:00"
      ]
     },
     "execution_count": 5,
     "metadata": {},
     "output_type": "execute_result"
    }
   ],
   "source": [
    "tm_sales_1.head()"
   ]
  },
  {
   "cell_type": "markdown",
   "id": "b39164d2-85d1-4299-85f4-89f5b4a01ce6",
   "metadata": {},
   "source": [
    "Check product connections for specific users by merging sales files with system connection logs"
   ]
  },
  {
   "cell_type": "code",
   "execution_count": 6,
   "id": "8d4249c8-c741-4576-be35-7e5e41b50ea6",
   "metadata": {},
   "outputs": [],
   "source": [
    "tm_sales = pd.concat([tm_sales_1, tm_sales_2, tm_sales_3], ignore_index=True)"
   ]
  },
  {
   "cell_type": "code",
   "execution_count": 7,
   "id": "25761ce1-19cf-439d-b44b-64a39e4e0629",
   "metadata": {},
   "outputs": [
    {
     "data": {
      "text/plain": [
       "(10, 4)"
      ]
     },
     "execution_count": 7,
     "metadata": {},
     "output_type": "execute_result"
    }
   ],
   "source": [
    "tm_sales.shape"
   ]
  },
  {
   "cell_type": "markdown",
   "id": "01a579ed-42a8-4795-be75-c397485079e2",
   "metadata": {},
   "source": [
    "If a row in the sales file does not have a specified *SUBS_ID*, it is skipped\r\n"
   ]
  },
  {
   "cell_type": "code",
   "execution_count": 8,
   "id": "9536e046-8138-42ef-8ec1-32267af045eb",
   "metadata": {},
   "outputs": [],
   "source": [
    "tm_sales = tm_sales.dropna(subset = ['SUBS_ID'])"
   ]
  },
  {
   "cell_type": "code",
   "execution_count": 9,
   "id": "4b175f64-c112-44f1-a36c-c13b92f7faa7",
   "metadata": {},
   "outputs": [
    {
     "data": {
      "text/plain": [
       "(9, 4)"
      ]
     },
     "execution_count": 9,
     "metadata": {},
     "output_type": "execute_result"
    }
   ],
   "source": [
    "tm_sales.shape"
   ]
  },
  {
   "cell_type": "markdown",
   "id": "f2a41c5e-2958-475c-b6d9-290c4cd85f8e",
   "metadata": {},
   "source": [
    "If ‘id’ is not at the beginning of *SUBS_ID*, it needs to be added"
   ]
  },
  {
   "cell_type": "code",
   "execution_count": 10,
   "id": "d1281208-f40a-4323-8731-daeb49efd8bc",
   "metadata": {},
   "outputs": [],
   "source": [
    "tm_sales['SUBS_ID'] = tm_sales['SUBS_ID'].apply(lambda x: x if x.startswith('id') else 'id' + x)"
   ]
  },
  {
   "cell_type": "code",
   "execution_count": 11,
   "id": "a10a24fd-b67e-4459-ba47-6073e86f64e9",
   "metadata": {},
   "outputs": [
    {
     "data": {
      "text/html": [
       "<div>\n",
       "<style scoped>\n",
       "    .dataframe tbody tr th:only-of-type {\n",
       "        vertical-align: middle;\n",
       "    }\n",
       "\n",
       "    .dataframe tbody tr th {\n",
       "        vertical-align: top;\n",
       "    }\n",
       "\n",
       "    .dataframe thead th {\n",
       "        text-align: right;\n",
       "    }\n",
       "</style>\n",
       "<table border=\"1\" class=\"dataframe\">\n",
       "  <thead>\n",
       "    <tr style=\"text-align: right;\">\n",
       "      <th></th>\n",
       "      <th>SUBS_ID</th>\n",
       "      <th>FILIAL_ID</th>\n",
       "      <th>PROD_ID</th>\n",
       "      <th>ACT_DTTM</th>\n",
       "    </tr>\n",
       "  </thead>\n",
       "  <tbody>\n",
       "    <tr>\n",
       "      <th>0</th>\n",
       "      <td>id4651830</td>\n",
       "      <td>1</td>\n",
       "      <td>1954</td>\n",
       "      <td>2020-03-20 14:59:00</td>\n",
       "    </tr>\n",
       "    <tr>\n",
       "      <th>1</th>\n",
       "      <td>id7646509</td>\n",
       "      <td>5</td>\n",
       "      <td>6431</td>\n",
       "      <td>2020-03-19 13:00:00</td>\n",
       "    </tr>\n",
       "    <tr>\n",
       "      <th>2</th>\n",
       "      <td>id7412683</td>\n",
       "      <td>4</td>\n",
       "      <td>3313</td>\n",
       "      <td>2020-03-22 17:25:00</td>\n",
       "    </tr>\n",
       "    <tr>\n",
       "      <th>3</th>\n",
       "      <td>id5416547</td>\n",
       "      <td>3</td>\n",
       "      <td>1743</td>\n",
       "      <td>2020-03-17 10:17:00</td>\n",
       "    </tr>\n",
       "    <tr>\n",
       "      <th>5</th>\n",
       "      <td>id8362218</td>\n",
       "      <td>7</td>\n",
       "      <td>9879</td>\n",
       "      <td>2020-03-05 11:42:00</td>\n",
       "    </tr>\n",
       "    <tr>\n",
       "      <th>6</th>\n",
       "      <td>id2185490</td>\n",
       "      <td>2</td>\n",
       "      <td>3210</td>\n",
       "      <td>2020-03-16 16:28:00</td>\n",
       "    </tr>\n",
       "    <tr>\n",
       "      <th>7</th>\n",
       "      <td>id5764122</td>\n",
       "      <td>3</td>\n",
       "      <td>1499</td>\n",
       "      <td>2020-03-18 15:44:00</td>\n",
       "    </tr>\n",
       "    <tr>\n",
       "      <th>8</th>\n",
       "      <td>id7642700</td>\n",
       "      <td>6</td>\n",
       "      <td>3020</td>\n",
       "      <td>2020-03-15 14:21:00</td>\n",
       "    </tr>\n",
       "    <tr>\n",
       "      <th>9</th>\n",
       "      <td>id1374509</td>\n",
       "      <td>2</td>\n",
       "      <td>5677</td>\n",
       "      <td>2020-03-17 11:48:00</td>\n",
       "    </tr>\n",
       "  </tbody>\n",
       "</table>\n",
       "</div>"
      ],
      "text/plain": [
       "     SUBS_ID  FILIAL_ID  PROD_ID            ACT_DTTM\n",
       "0  id4651830          1     1954 2020-03-20 14:59:00\n",
       "1  id7646509          5     6431 2020-03-19 13:00:00\n",
       "2  id7412683          4     3313 2020-03-22 17:25:00\n",
       "3  id5416547          3     1743 2020-03-17 10:17:00\n",
       "5  id8362218          7     9879 2020-03-05 11:42:00\n",
       "6  id2185490          2     3210 2020-03-16 16:28:00\n",
       "7  id5764122          3     1499 2020-03-18 15:44:00\n",
       "8  id7642700          6     3020 2020-03-15 14:21:00\n",
       "9  id1374509          2     5677 2020-03-17 11:48:00"
      ]
     },
     "execution_count": 11,
     "metadata": {},
     "output_type": "execute_result"
    }
   ],
   "source": [
    "tm_sales"
   ]
  },
  {
   "cell_type": "code",
   "execution_count": 12,
   "id": "84e167ab-880e-46c3-bc68-f982b8a6282e",
   "metadata": {
    "scrolled": true
   },
   "outputs": [
    {
     "data": {
      "text/plain": [
       "SUBS_ID               object\n",
       "PROD_ID               object\n",
       "START_DTTM    datetime64[ns]\n",
       "END_DTTM      datetime64[ns]\n",
       "dtype: object"
      ]
     },
     "execution_count": 12,
     "metadata": {},
     "output_type": "execute_result"
    }
   ],
   "source": [
    "prod_activations_logs.dtypes"
   ]
  },
  {
   "cell_type": "code",
   "execution_count": 13,
   "id": "1672d1bd-1961-42f0-ad19-298781fb4c7b",
   "metadata": {},
   "outputs": [],
   "source": [
    "prod_activations_logs['PROD_ID'] = prod_activations_logs['PROD_ID'].astype(int)"
   ]
  },
  {
   "cell_type": "code",
   "execution_count": 14,
   "id": "e716abde-26c2-4dfb-92ef-73b900b58516",
   "metadata": {},
   "outputs": [],
   "source": [
    "sales_logs = prod_activations_logs.merge(tm_sales, on = ['SUBS_ID', 'PROD_ID'])"
   ]
  },
  {
   "cell_type": "code",
   "execution_count": 15,
   "id": "a2b4e87f-364b-411c-bf90-f3e59b2f7699",
   "metadata": {},
   "outputs": [
    {
     "data": {
      "text/html": [
       "<div>\n",
       "<style scoped>\n",
       "    .dataframe tbody tr th:only-of-type {\n",
       "        vertical-align: middle;\n",
       "    }\n",
       "\n",
       "    .dataframe tbody tr th {\n",
       "        vertical-align: top;\n",
       "    }\n",
       "\n",
       "    .dataframe thead th {\n",
       "        text-align: right;\n",
       "    }\n",
       "</style>\n",
       "<table border=\"1\" class=\"dataframe\">\n",
       "  <thead>\n",
       "    <tr style=\"text-align: right;\">\n",
       "      <th></th>\n",
       "      <th>SUBS_ID</th>\n",
       "      <th>PROD_ID</th>\n",
       "      <th>START_DTTM</th>\n",
       "      <th>END_DTTM</th>\n",
       "      <th>FILIAL_ID</th>\n",
       "      <th>ACT_DTTM</th>\n",
       "    </tr>\n",
       "  </thead>\n",
       "  <tbody>\n",
       "    <tr>\n",
       "      <th>0</th>\n",
       "      <td>id4651830</td>\n",
       "      <td>1954</td>\n",
       "      <td>2020-03-20 14:59:00</td>\n",
       "      <td>2020-12-01 00:00:00</td>\n",
       "      <td>1</td>\n",
       "      <td>2020-03-20 14:59:00</td>\n",
       "    </tr>\n",
       "    <tr>\n",
       "      <th>1</th>\n",
       "      <td>id7646509</td>\n",
       "      <td>6431</td>\n",
       "      <td>2020-03-19 13:00:00</td>\n",
       "      <td>2020-03-19 13:03:00</td>\n",
       "      <td>5</td>\n",
       "      <td>2020-03-19 13:00:00</td>\n",
       "    </tr>\n",
       "    <tr>\n",
       "      <th>2</th>\n",
       "      <td>id5416547</td>\n",
       "      <td>1743</td>\n",
       "      <td>2020-03-17 10:17:00</td>\n",
       "      <td>2020-03-25 11:00:00</td>\n",
       "      <td>3</td>\n",
       "      <td>2020-03-17 10:17:00</td>\n",
       "    </tr>\n",
       "    <tr>\n",
       "      <th>3</th>\n",
       "      <td>id2185490</td>\n",
       "      <td>3210</td>\n",
       "      <td>2020-03-16 16:28:00</td>\n",
       "      <td>2020-12-01 00:00:00</td>\n",
       "      <td>2</td>\n",
       "      <td>2020-03-16 16:28:00</td>\n",
       "    </tr>\n",
       "    <tr>\n",
       "      <th>4</th>\n",
       "      <td>id7642700</td>\n",
       "      <td>3020</td>\n",
       "      <td>2020-03-15 14:21:00</td>\n",
       "      <td>2020-03-15 23:42:00</td>\n",
       "      <td>6</td>\n",
       "      <td>2020-03-15 14:21:00</td>\n",
       "    </tr>\n",
       "  </tbody>\n",
       "</table>\n",
       "</div>"
      ],
      "text/plain": [
       "     SUBS_ID  PROD_ID          START_DTTM            END_DTTM  FILIAL_ID  \\\n",
       "0  id4651830     1954 2020-03-20 14:59:00 2020-12-01 00:00:00          1   \n",
       "1  id7646509     6431 2020-03-19 13:00:00 2020-03-19 13:03:00          5   \n",
       "2  id5416547     1743 2020-03-17 10:17:00 2020-03-25 11:00:00          3   \n",
       "3  id2185490     3210 2020-03-16 16:28:00 2020-12-01 00:00:00          2   \n",
       "4  id7642700     3020 2020-03-15 14:21:00 2020-03-15 23:42:00          6   \n",
       "\n",
       "             ACT_DTTM  \n",
       "0 2020-03-20 14:59:00  \n",
       "1 2020-03-19 13:00:00  \n",
       "2 2020-03-17 10:17:00  \n",
       "3 2020-03-16 16:28:00  \n",
       "4 2020-03-15 14:21:00  "
      ]
     },
     "execution_count": 15,
     "metadata": {},
     "output_type": "execute_result"
    }
   ],
   "source": [
    "sales_logs"
   ]
  },
  {
   "cell_type": "code",
   "execution_count": 16,
   "id": "aacedb97-b677-45be-baa7-55bfea049082",
   "metadata": {},
   "outputs": [],
   "source": [
    "sales_logs['difference'] = sales_logs['END_DTTM'] - sales_logs['START_DTTM']"
   ]
  },
  {
   "cell_type": "code",
   "execution_count": 17,
   "id": "c162e4b5-9ba6-4fa8-a796-2b514aa392a2",
   "metadata": {},
   "outputs": [
    {
     "data": {
      "text/html": [
       "<div>\n",
       "<style scoped>\n",
       "    .dataframe tbody tr th:only-of-type {\n",
       "        vertical-align: middle;\n",
       "    }\n",
       "\n",
       "    .dataframe tbody tr th {\n",
       "        vertical-align: top;\n",
       "    }\n",
       "\n",
       "    .dataframe thead th {\n",
       "        text-align: right;\n",
       "    }\n",
       "</style>\n",
       "<table border=\"1\" class=\"dataframe\">\n",
       "  <thead>\n",
       "    <tr style=\"text-align: right;\">\n",
       "      <th></th>\n",
       "      <th>SUBS_ID</th>\n",
       "      <th>PROD_ID</th>\n",
       "      <th>START_DTTM</th>\n",
       "      <th>END_DTTM</th>\n",
       "      <th>FILIAL_ID</th>\n",
       "      <th>ACT_DTTM</th>\n",
       "      <th>difference</th>\n",
       "    </tr>\n",
       "  </thead>\n",
       "  <tbody>\n",
       "    <tr>\n",
       "      <th>0</th>\n",
       "      <td>id4651830</td>\n",
       "      <td>1954</td>\n",
       "      <td>2020-03-20 14:59:00</td>\n",
       "      <td>2020-12-01 00:00:00</td>\n",
       "      <td>1</td>\n",
       "      <td>2020-03-20 14:59:00</td>\n",
       "      <td>255 days 09:01:00</td>\n",
       "    </tr>\n",
       "    <tr>\n",
       "      <th>1</th>\n",
       "      <td>id7646509</td>\n",
       "      <td>6431</td>\n",
       "      <td>2020-03-19 13:00:00</td>\n",
       "      <td>2020-03-19 13:03:00</td>\n",
       "      <td>5</td>\n",
       "      <td>2020-03-19 13:00:00</td>\n",
       "      <td>0 days 00:03:00</td>\n",
       "    </tr>\n",
       "    <tr>\n",
       "      <th>2</th>\n",
       "      <td>id5416547</td>\n",
       "      <td>1743</td>\n",
       "      <td>2020-03-17 10:17:00</td>\n",
       "      <td>2020-03-25 11:00:00</td>\n",
       "      <td>3</td>\n",
       "      <td>2020-03-17 10:17:00</td>\n",
       "      <td>8 days 00:43:00</td>\n",
       "    </tr>\n",
       "    <tr>\n",
       "      <th>3</th>\n",
       "      <td>id2185490</td>\n",
       "      <td>3210</td>\n",
       "      <td>2020-03-16 16:28:00</td>\n",
       "      <td>2020-12-01 00:00:00</td>\n",
       "      <td>2</td>\n",
       "      <td>2020-03-16 16:28:00</td>\n",
       "      <td>259 days 07:32:00</td>\n",
       "    </tr>\n",
       "    <tr>\n",
       "      <th>4</th>\n",
       "      <td>id7642700</td>\n",
       "      <td>3020</td>\n",
       "      <td>2020-03-15 14:21:00</td>\n",
       "      <td>2020-03-15 23:42:00</td>\n",
       "      <td>6</td>\n",
       "      <td>2020-03-15 14:21:00</td>\n",
       "      <td>0 days 09:21:00</td>\n",
       "    </tr>\n",
       "  </tbody>\n",
       "</table>\n",
       "</div>"
      ],
      "text/plain": [
       "     SUBS_ID  PROD_ID          START_DTTM            END_DTTM  FILIAL_ID  \\\n",
       "0  id4651830     1954 2020-03-20 14:59:00 2020-12-01 00:00:00          1   \n",
       "1  id7646509     6431 2020-03-19 13:00:00 2020-03-19 13:03:00          5   \n",
       "2  id5416547     1743 2020-03-17 10:17:00 2020-03-25 11:00:00          3   \n",
       "3  id2185490     3210 2020-03-16 16:28:00 2020-12-01 00:00:00          2   \n",
       "4  id7642700     3020 2020-03-15 14:21:00 2020-03-15 23:42:00          6   \n",
       "\n",
       "             ACT_DTTM        difference  \n",
       "0 2020-03-20 14:59:00 255 days 09:01:00  \n",
       "1 2020-03-19 13:00:00   0 days 00:03:00  \n",
       "2 2020-03-17 10:17:00   8 days 00:43:00  \n",
       "3 2020-03-16 16:28:00 259 days 07:32:00  \n",
       "4 2020-03-15 14:21:00   0 days 09:21:00  "
      ]
     },
     "execution_count": 17,
     "metadata": {},
     "output_type": "execute_result"
    }
   ],
   "source": [
    "sales_logs"
   ]
  },
  {
   "cell_type": "markdown",
   "id": "75846c47-b5ba-4803-92bb-cc08d1dba395",
   "metadata": {},
   "source": [
    "A sale is not counted if the disconnection *(END_DTTM)* occurred less than 5 minutes after the connection *(START_DTTM)*"
   ]
  },
  {
   "cell_type": "code",
   "execution_count": 18,
   "id": "cc367b87-d58f-42c8-98eb-5de226a0eb34",
   "metadata": {},
   "outputs": [],
   "source": [
    "result = sales_logs.loc[sales_logs.difference >= pd.Timedelta(5, 'm')]"
   ]
  },
  {
   "cell_type": "code",
   "execution_count": 19,
   "id": "d9ef38d0-2dc9-4d08-8008-a972223818fb",
   "metadata": {},
   "outputs": [
    {
     "data": {
      "text/html": [
       "<div>\n",
       "<style scoped>\n",
       "    .dataframe tbody tr th:only-of-type {\n",
       "        vertical-align: middle;\n",
       "    }\n",
       "\n",
       "    .dataframe tbody tr th {\n",
       "        vertical-align: top;\n",
       "    }\n",
       "\n",
       "    .dataframe thead th {\n",
       "        text-align: right;\n",
       "    }\n",
       "</style>\n",
       "<table border=\"1\" class=\"dataframe\">\n",
       "  <thead>\n",
       "    <tr style=\"text-align: right;\">\n",
       "      <th></th>\n",
       "      <th>SUBS_ID</th>\n",
       "      <th>PROD_ID</th>\n",
       "      <th>START_DTTM</th>\n",
       "      <th>END_DTTM</th>\n",
       "      <th>FILIAL_ID</th>\n",
       "      <th>ACT_DTTM</th>\n",
       "      <th>difference</th>\n",
       "    </tr>\n",
       "  </thead>\n",
       "  <tbody>\n",
       "    <tr>\n",
       "      <th>0</th>\n",
       "      <td>id4651830</td>\n",
       "      <td>1954</td>\n",
       "      <td>2020-03-20 14:59:00</td>\n",
       "      <td>2020-12-01 00:00:00</td>\n",
       "      <td>1</td>\n",
       "      <td>2020-03-20 14:59:00</td>\n",
       "      <td>255 days 09:01:00</td>\n",
       "    </tr>\n",
       "    <tr>\n",
       "      <th>2</th>\n",
       "      <td>id5416547</td>\n",
       "      <td>1743</td>\n",
       "      <td>2020-03-17 10:17:00</td>\n",
       "      <td>2020-03-25 11:00:00</td>\n",
       "      <td>3</td>\n",
       "      <td>2020-03-17 10:17:00</td>\n",
       "      <td>8 days 00:43:00</td>\n",
       "    </tr>\n",
       "    <tr>\n",
       "      <th>3</th>\n",
       "      <td>id2185490</td>\n",
       "      <td>3210</td>\n",
       "      <td>2020-03-16 16:28:00</td>\n",
       "      <td>2020-12-01 00:00:00</td>\n",
       "      <td>2</td>\n",
       "      <td>2020-03-16 16:28:00</td>\n",
       "      <td>259 days 07:32:00</td>\n",
       "    </tr>\n",
       "    <tr>\n",
       "      <th>4</th>\n",
       "      <td>id7642700</td>\n",
       "      <td>3020</td>\n",
       "      <td>2020-03-15 14:21:00</td>\n",
       "      <td>2020-03-15 23:42:00</td>\n",
       "      <td>6</td>\n",
       "      <td>2020-03-15 14:21:00</td>\n",
       "      <td>0 days 09:21:00</td>\n",
       "    </tr>\n",
       "  </tbody>\n",
       "</table>\n",
       "</div>"
      ],
      "text/plain": [
       "     SUBS_ID  PROD_ID          START_DTTM            END_DTTM  FILIAL_ID  \\\n",
       "0  id4651830     1954 2020-03-20 14:59:00 2020-12-01 00:00:00          1   \n",
       "2  id5416547     1743 2020-03-17 10:17:00 2020-03-25 11:00:00          3   \n",
       "3  id2185490     3210 2020-03-16 16:28:00 2020-12-01 00:00:00          2   \n",
       "4  id7642700     3020 2020-03-15 14:21:00 2020-03-15 23:42:00          6   \n",
       "\n",
       "             ACT_DTTM        difference  \n",
       "0 2020-03-20 14:59:00 255 days 09:01:00  \n",
       "2 2020-03-17 10:17:00   8 days 00:43:00  \n",
       "3 2020-03-16 16:28:00 259 days 07:32:00  \n",
       "4 2020-03-15 14:21:00   0 days 09:21:00  "
      ]
     },
     "execution_count": 19,
     "metadata": {},
     "output_type": "execute_result"
    }
   ],
   "source": [
    "result"
   ]
  },
  {
   "cell_type": "code",
   "execution_count": 20,
   "id": "247e0b78-944e-4c77-9cc1-77ca790d461f",
   "metadata": {},
   "outputs": [
    {
     "data": {
      "text/plain": [
       "array(['id2185490', 'id4651830', 'id5416547', 'id7642700'], dtype=object)"
      ]
     },
     "execution_count": 20,
     "metadata": {},
     "output_type": "execute_result"
    }
   ],
   "source": [
    "result.SUBS_ID.sort_values().values"
   ]
  },
  {
   "cell_type": "code",
   "execution_count": 21,
   "id": "e8a93283-1220-41b0-9743-63e1474ed22a",
   "metadata": {},
   "outputs": [],
   "source": [
    "result.to_csv('result_csv')"
   ]
  }
 ],
 "metadata": {
  "kernelspec": {
   "display_name": "Python [conda env:base] *",
   "language": "python",
   "name": "conda-base-py"
  },
  "language_info": {
   "codemirror_mode": {
    "name": "ipython",
    "version": 3
   },
   "file_extension": ".py",
   "mimetype": "text/x-python",
   "name": "python",
   "nbconvert_exporter": "python",
   "pygments_lexer": "ipython3",
   "version": "3.12.2"
  }
 },
 "nbformat": 4,
 "nbformat_minor": 5
}
