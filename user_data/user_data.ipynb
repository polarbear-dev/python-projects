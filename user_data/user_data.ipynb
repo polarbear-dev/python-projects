{
 "cells": [
  {
   "cell_type": "markdown",
   "id": "f4c23abe-844d-4ebb-a280-13f869278752",
   "metadata": {},
   "source": [
    "Load the two datasets: *user_data* and *logs*. Check the size of the tables, the types of variables, and look at the descriptive statistics"
   ]
  },
  {
   "cell_type": "code",
   "execution_count": 1,
   "id": "5161b3a1-a182-452a-85ef-4b9f7d21040f",
   "metadata": {},
   "outputs": [
    {
     "name": "stdout",
     "output_type": "stream",
     "text": [
      "<class 'pandas.core.frame.DataFrame'>\n",
      "RangeIndex: 4500 entries, 0 to 4499\n",
      "Data columns (total 4 columns):\n",
      " #   Column    Non-Null Count  Dtype \n",
      "---  ------    --------------  ----- \n",
      " 0   client    4500 non-null   int64 \n",
      " 1   success   4500 non-null   bool  \n",
      " 2   platform  4500 non-null   object\n",
      " 3   time      4500 non-null   int64 \n",
      "dtypes: bool(1), int64(2), object(1)\n",
      "memory usage: 110.0+ KB\n"
     ]
    }
   ],
   "source": [
    "import pandas as pd\n",
    "import seaborn as sns\n",
    "import matplotlib.pyplot as plt\n",
    "\n",
    "%matplotlib inline\n",
    "\n",
    "user_data = pd.read_csv('3_user_data.csv')\n",
    "logs = pd.read_csv('3_logs.csv')\n",
    "logs.info()"
   ]
  },
  {
   "cell_type": "code",
   "execution_count": 2,
   "id": "7072ce26-bf45-41a1-b8c7-d2b74bd4ee4a",
   "metadata": {},
   "outputs": [
    {
     "name": "stdout",
     "output_type": "stream",
     "text": [
      "<class 'pandas.core.frame.DataFrame'>\n",
      "RangeIndex: 2954 entries, 0 to 2953\n",
      "Data columns (total 3 columns):\n",
      " #   Column   Non-Null Count  Dtype\n",
      "---  ------   --------------  -----\n",
      " 0   client   2954 non-null   int64\n",
      " 1   premium  2954 non-null   bool \n",
      " 2   age      2954 non-null   int64\n",
      "dtypes: bool(1), int64(2)\n",
      "memory usage: 49.2 KB\n"
     ]
    }
   ],
   "source": [
    "user_data.info()"
   ]
  },
  {
   "cell_type": "markdown",
   "id": "b48adc71-7b4d-468f-971d-529606681eb7",
   "metadata": {},
   "source": [
    "How many unique values does the variable *platform* take?"
   ]
  },
  {
   "cell_type": "code",
   "execution_count": 3,
   "id": "56811f38-167c-48c0-aaf8-3e818ac5bd5f",
   "metadata": {},
   "outputs": [
    {
     "data": {
      "text/plain": [
       "3"
      ]
     },
     "execution_count": 3,
     "metadata": {},
     "output_type": "execute_result"
    }
   ],
   "source": [
    "logs.platform.nunique()"
   ]
  },
  {
   "cell_type": "markdown",
   "id": "6d0a46b4-715f-4ee7-a632-58fa171bdb10",
   "metadata": {},
   "source": [
    "Which client performed the most successful transactions?"
   ]
  },
  {
   "cell_type": "code",
   "execution_count": 4,
   "id": "9c8ac79d-238f-4785-8a10-52854b381ff6",
   "metadata": {},
   "outputs": [],
   "source": [
    "success_counts = (logs\n",
    "                    .loc[logs.success == True]\n",
    "                    .client.value_counts())"
   ]
  },
  {
   "cell_type": "code",
   "execution_count": 5,
   "id": "53291287-0d01-495d-a8e3-9082f2101493",
   "metadata": {},
   "outputs": [
    {
     "data": {
      "text/plain": [
       "client\n",
       "28719    41\n",
       "52870    41\n",
       "61468    41\n",
       "61473    41\n",
       "12179    41\n",
       "         ..\n",
       "70028     1\n",
       "37123     1\n",
       "73522     1\n",
       "38359     1\n",
       "40921     1\n",
       "Name: count, Length: 2845, dtype: int64"
      ]
     },
     "execution_count": 5,
     "metadata": {},
     "output_type": "execute_result"
    }
   ],
   "source": [
    "success_counts"
   ]
  },
  {
   "cell_type": "code",
   "execution_count": 6,
   "id": "4fb9e776-1803-4e28-90ed-c6340c8686d2",
   "metadata": {},
   "outputs": [],
   "source": [
    "max_num = success_counts.max()"
   ]
  },
  {
   "cell_type": "code",
   "execution_count": 7,
   "id": "1f339abd-a750-4d57-b52d-716049ac8c68",
   "metadata": {},
   "outputs": [],
   "source": [
    "max_success_uses = success_counts.loc[success_counts == max_num]"
   ]
  },
  {
   "cell_type": "code",
   "execution_count": 8,
   "id": "44063d02-dc47-43e9-baa5-960e9e520341",
   "metadata": {},
   "outputs": [
    {
     "data": {
      "text/plain": [
       "client\n",
       "28719    41\n",
       "52870    41\n",
       "61468    41\n",
       "61473    41\n",
       "12179    41\n",
       "82563    41\n",
       "36165    41\n",
       "92584    41\n",
       "78349    41\n",
       "Name: count, dtype: int64"
      ]
     },
     "execution_count": 8,
     "metadata": {},
     "output_type": "execute_result"
    }
   ],
   "source": [
    "max_success_uses "
   ]
  },
  {
   "cell_type": "code",
   "execution_count": 9,
   "id": "59fa4a9f-038c-493b-892f-c6183a51f334",
   "metadata": {},
   "outputs": [
    {
     "data": {
      "text/plain": [
       "Index([12179, 28719, 36165, 52870, 61468, 61473, 78349, 82563, 92584], dtype='int64', name='client')"
      ]
     },
     "execution_count": 9,
     "metadata": {},
     "output_type": "execute_result"
    }
   ],
   "source": [
    "max_success_uses.index.sort_values()"
   ]
  },
  {
   "cell_type": "markdown",
   "id": "5886ba43-f20e-4bff-8a0b-2547d8b2b487",
   "metadata": {},
   "source": [
    "From which platform is the highest number of successful transactions made"
   ]
  },
  {
   "cell_type": "code",
   "execution_count": 10,
   "id": "84fe2913-4c7a-4eae-b1fe-15f11f1e5d9e",
   "metadata": {},
   "outputs": [
    {
     "data": {
      "text/plain": [
       "'phone'"
      ]
     },
     "execution_count": 10,
     "metadata": {},
     "output_type": "execute_result"
    }
   ],
   "source": [
    "(logs\n",
    "    .loc[logs.success == True]\n",
    "    .platform.value_counts()\n",
    "    .idxmax())"
   ]
  },
  {
   "cell_type": "markdown",
   "id": "357cb218-f7e9-403e-9eb0-4da7956c06f3",
   "metadata": {},
   "source": [
    "Which platform is the most popular among premium clients?"
   ]
  },
  {
   "cell_type": "code",
   "execution_count": 11,
   "id": "f7378aab-bd44-42db-8711-2ff98f0aac4a",
   "metadata": {},
   "outputs": [],
   "source": [
    "premium_logs = user_data.merge(logs, on = 'client')"
   ]
  },
  {
   "cell_type": "code",
   "execution_count": 12,
   "id": "0d8c4bbe-87ef-45c0-bcf4-a52159eb0b9b",
   "metadata": {},
   "outputs": [
    {
     "data": {
      "text/plain": [
       "'phone'"
      ]
     },
     "execution_count": 12,
     "metadata": {},
     "output_type": "execute_result"
    }
   ],
   "source": [
    "premium_logs.loc[premium_logs.premium == True].platform.value_counts().idxmax()"
   ]
  },
  {
   "cell_type": "markdown",
   "id": "53b71ec5-76af-4f58-ae21-d7863f8a307b",
   "metadata": {},
   "source": [
    "Visualize the distribution of customer ages based on the type of client (regular or premium)"
   ]
  },
  {
   "cell_type": "code",
   "execution_count": 13,
   "id": "d4fd26ae-8b5a-41ac-a38e-7cccd615469a",
   "metadata": {},
   "outputs": [
    {
     "data": {
      "text/plain": [
       "<seaborn.axisgrid.FacetGrid at 0x14ace597b00>"
      ]
     },
     "execution_count": 13,
     "metadata": {},
     "output_type": "execute_result"
    },
    {
     "data": {
      "image/png": "[encoded data removed]",
      "text/plain": [
       "<Figure size 584.875x500 with 1 Axes>"
      ]
     },
     "metadata": {},
     "output_type": "display_data"
    }
   ],
   "source": [
    "sns.displot(data=premium_logs, x='age', hue='premium', kde=True, stat='density', \n",
    "            common_norm=False, bins = 14)"
   ]
  },
  {
   "cell_type": "markdown",
   "id": "15614453-a494-43c4-bafd-0ab829785922",
   "metadata": {},
   "source": [
    "Create a plot showing the distribution of the number of successful transactions"
   ]
  },
  {
   "cell_type": "code",
   "execution_count": 14,
   "id": "195c9f55-8101-41ee-9a40-50e9b94a8386",
   "metadata": {},
   "outputs": [],
   "source": [
    "success_counts = success_counts.rename('successes')"
   ]
  },
  {
   "cell_type": "code",
   "execution_count": 15,
   "id": "7b430635-d450-4403-a5bf-96ce763e4e10",
   "metadata": {},
   "outputs": [
    {
     "data": {
      "text/plain": [
       "<Axes: xlabel='successes', ylabel='count'>"
      ]
     },
     "execution_count": 15,
     "metadata": {},
     "output_type": "execute_result"
    },
    {
     "data": {
      "image/png": "[encoded data removed]",
      "text/plain": [
       "<Figure size 640x480 with 1 Axes>"
      ]
     },
     "metadata": {},
     "output_type": "display_data"
    }
   ],
   "source": [
    "sns.countplot(x = success_counts)"
   ]
  },
  {
   "cell_type": "markdown",
   "id": "a3edae1f-9180-41b7-9837-ccfe228460a1",
   "metadata": {},
   "source": [
    "Visualize the number of successful transactions made on the *computer* platform based on age"
   ]
  },
  {
   "cell_type": "code",
   "execution_count": 16,
   "id": "244d3338-d23a-4767-b67e-50f83bef0934",
   "metadata": {},
   "outputs": [
    {
     "data": {
      "text/plain": [
       "<Axes: xlabel='age', ylabel='count'>"
      ]
     },
     "execution_count": 16,
     "metadata": {},
     "output_type": "execute_result"
    },
    {
     "data": {
      "image/png": "[encoded data removed]",
      "text/plain": [
       "<Figure size 1200x800 with 1 Axes>"
      ]
     },
     "metadata": {},
     "output_type": "display_data"
    }
   ],
   "source": [
    "plt.figure(figsize=(12, 8))\n",
    "sns.countplot(data = premium_logs.loc[(premium_logs.platform == 'computer')\n",
    "                                       & (premium_logs.success == True)],\n",
    "              x = 'age')"
   ]
  }
 ],
 "metadata": {
  "kernelspec": {
   "display_name": "Python 3 (ipykernel)",
   "language": "python",
   "name": "python3"
  },
  "language_info": {
   "codemirror_mode": {
    "name": "ipython",
    "version": 3
   },
   "file_extension": ".py",
   "mimetype": "text/x-python",
   "name": "python",
   "nbconvert_exporter": "python",
   "pygments_lexer": "ipython3",
   "version": "3.12.2"
  }
 },
 "nbformat": 4,
 "nbformat_minor": 5
}
