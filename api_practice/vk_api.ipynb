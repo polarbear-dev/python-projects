{
 "cells": [
  {
   "cell_type": "code",
   "execution_count": 1,
   "metadata": {},
   "outputs": [],
   "source": [
    "import pandas as pd\n",
    "import datetime\n",
    "import vk_api\n",
    "import os\n",
    "import requests\n",
    "import json"
   ]
  },
  {
   "cell_type": "code",
   "execution_count": 3,
   "metadata": {},
   "outputs": [],
   "source": [
    "token = 'vk1.a.LAkqhopvzsSuqu_rH6Jbzdfc2stensHGEPOzQQB0kvkhgYdRBsC4kFcCeWDuZV6YhpZr8qba_AoqAilj4TeN7h37PCsClzEkiR0g0QSPJl70x8yB8s26LXyP0V_f6UEEaD_QTSMtYgP6OKc6N17Xbww5ZgVyzTyGGhMgE9W_GU5kgMpUr4TzpzYa8T0STOcWfOsoiBVIs9Gfv-KR-pGoKQ'"
   ]
  },
  {
   "cell_type": "code",
   "execution_count": 5,
   "metadata": {},
   "outputs": [],
   "source": [
    "vk_session = vk_api.VkApi(token=token)\n",
    "vk = vk_session.get_api()"
   ]
  },
  {
   "cell_type": "code",
   "execution_count": 7,
   "metadata": {},
   "outputs": [
    {
     "data": {
      "text/plain": [
       "0"
      ]
     },
     "execution_count": 7,
     "metadata": {},
     "output_type": "execute_result"
    }
   ],
   "source": [
    "vk.messages.send(\n",
    "    chat_id=1,\n",
    "    random_id=3,\n",
    "    message='hello, my friend')"
   ]
  },
  {
   "cell_type": "code",
   "execution_count": 9,
   "metadata": {},
   "outputs": [
    {
     "data": {
      "text/plain": [
       "{'server': 908729,\n",
       " 'photo': '[{\"markers_restarted\":true,\"photo\":\"04631471d7:y\",\"sizes\":[],\"latitude\":0,\"longitude\":0,\"kid\":\"6bcd90b4a941676693d897f93698505a\",\"sizes2\":[[\"s\",\"932bdff1b993427f09550706551bc8c98dc83243b8f1b3a249a767f4\",\"1409858283496227114\",75,50],[\"m\",\"a3c9923d4e404030c6da044a6417cd2b006a5bae582452e9b5454677\",\"8512208050317042340\",130,87],[\"x\",\"6c50378d36d6c614c782ad43d9c425791724205e0a73a92fcb76a4b9\",\"2946104549702086766\",604,402],[\"y\",\"80fd38892d9684be9f8da44e9174d1c33787546f30c99b6b650f95d6\",\"5971515664280015051\",736,490],[\"o\",\"a3c9923d4e404030c6da044a6417cd2b006a5bae582452e9b5454677\",\"2823702308119905648\",130,87],[\"p\",\"bd114f475317679e398cc2868195e9ae63308f849a19a8f5db1e2f42\",\"7357933727260007272\",200,133],[\"q\",\"62a8f1ae7efaaa77a28a329147fde6d6960d30bdb6a2b8d9a5a76962\",\"8650848312029584125\",320,213],[\"r\",\"10d5cf3f2ffcaa404fc0690586d90907afa023a9647956f4f3158207\",\"4663636619666859028\",510,340]],\"urls\":[],\"urls2\":[\"kyvf8bmTQn8JVQcGVRvIyY3IMkO48bOiSadn9A/KkFvm6PSkBM.jpg\",\"o8mSPU5AQDDG2gRKZBfNKwBqW65YJFLptUVGdw/pCJeRR9wIXY.jpg\",\"bFA3jTbWxhTHgq1D2cQleRckIF4Kc6kvy3akuQ/brAnlHqq4ig.jpg\",\"gP04iS2WhL6fjaROkXTRwzeHVG8wyZtrZQ-V1g/y1AXtNsV31I.jpg\",\"o8mSPU5AQDDG2gRKZBfNKwBqW65YJFLptUVGdw/cAXw4knOLyc.jpg\",\"vRFPR1MXZ545jMKGgZXprmMwj4SaGaj12x4vQg/aNsyrr2hHGY.jpg\",\"Yqjxrn76qneiijKRR_3m1pYNML22orjZpadpYg/_ZpPpLT8DXg.jpg\",\"ENXPPy_8qkBPwGkFhtkJB6-gI6lkeVb08xWCBw/FCS_7MuQuEA.jpg\"],\"peer_id\":124305793}]',\n",
       " 'hash': '8f478a03806801a9b295655d69caed77'}"
      ]
     },
     "execution_count": 9,
     "metadata": {},
     "output_type": "execute_result"
    }
   ],
   "source": [
    "path = '/Users/iaroslav/Git/python-projects/api_practice/meme.jpeg'\n",
    "file_name = 'meme.jpeg'\n",
    "\n",
    "path_to_file = path\n",
    "upload_url = vk.photos.getMessagesUploadServer(peer_id=2000000001)[\"upload_url\"]\n",
    "\n",
    "photo = {'photo': (file_name, open(path_to_file, 'rb'))}\n",
    "\n",
    "response = requests.post(upload_url, files=photo)\n",
    "\n",
    "json_data = json.loads(response.text)\n",
    "json_data"
   ]
  },
  {
   "cell_type": "code",
   "execution_count": 11,
   "metadata": {},
   "outputs": [],
   "source": [
    "saved_file = vk.photos.saveMessagesPhoto(photo=json_data['photo'], server=json_data['server'], hash=json_data['hash'])"
   ]
  },
  {
   "cell_type": "code",
   "execution_count": 13,
   "metadata": {},
   "outputs": [
    {
     "data": {
      "text/plain": [
       "[{'album_id': -64,\n",
       "  'date': 1742153023,\n",
       "  'id': 457345215,\n",
       "  'owner_id': 124305793,\n",
       "  'access_key': '57d93a22d993309d19',\n",
       "  'sizes': [{'height': 50,\n",
       "    'type': 's',\n",
       "    'width': 75,\n",
       "    'url': 'https://sun9-45.userapi.com/s/v1/ig2/KGT7q48JsQ6uX_NHGdQ7niU8xUT4sNBJ3uT9uZwz8Q302F1I07_j0ejKEY5IcfX_1B0wURtzQ6LXzPssz2iObx4M.jpg?quality=96&as=32x21,48x32,72x48,108x72,160x107,240x160,360x240,480x320,540x360,640x426,720x479,736x490&from=bu&cs=75x50'},\n",
       "   {'height': 87,\n",
       "    'type': 'm',\n",
       "    'width': 130,\n",
       "    'url': 'https://sun9-45.userapi.com/s/v1/ig2/KGT7q48JsQ6uX_NHGdQ7niU8xUT4sNBJ3uT9uZwz8Q302F1I07_j0ejKEY5IcfX_1B0wURtzQ6LXzPssz2iObx4M.jpg?quality=96&as=32x21,48x32,72x48,108x72,160x107,240x160,360x240,480x320,540x360,640x426,720x479,736x490&from=bu&cs=130x87'},\n",
       "   {'height': 402,\n",
       "    'type': 'x',\n",
       "    'width': 604,\n",
       "    'url': 'https://sun9-45.userapi.com/s/v1/ig2/KGT7q48JsQ6uX_NHGdQ7niU8xUT4sNBJ3uT9uZwz8Q302F1I07_j0ejKEY5IcfX_1B0wURtzQ6LXzPssz2iObx4M.jpg?quality=96&as=32x21,48x32,72x48,108x72,160x107,240x160,360x240,480x320,540x360,640x426,720x479,736x490&from=bu&cs=604x402'},\n",
       "   {'height': 490,\n",
       "    'type': 'y',\n",
       "    'width': 736,\n",
       "    'url': 'https://sun9-45.userapi.com/s/v1/ig2/KGT7q48JsQ6uX_NHGdQ7niU8xUT4sNBJ3uT9uZwz8Q302F1I07_j0ejKEY5IcfX_1B0wURtzQ6LXzPssz2iObx4M.jpg?quality=96&as=32x21,48x32,72x48,108x72,160x107,240x160,360x240,480x320,540x360,640x426,720x479,736x490&from=bu&cs=736x490'},\n",
       "   {'height': 87,\n",
       "    'type': 'o',\n",
       "    'width': 130,\n",
       "    'url': 'https://sun9-45.userapi.com/s/v1/ig2/KGT7q48JsQ6uX_NHGdQ7niU8xUT4sNBJ3uT9uZwz8Q302F1I07_j0ejKEY5IcfX_1B0wURtzQ6LXzPssz2iObx4M.jpg?quality=96&as=32x21,48x32,72x48,108x72,160x107,240x160,360x240,480x320,540x360,640x426,720x479,736x490&from=bu&cs=130x87'},\n",
       "   {'height': 133,\n",
       "    'type': 'p',\n",
       "    'width': 200,\n",
       "    'url': 'https://sun9-45.userapi.com/s/v1/ig2/KGT7q48JsQ6uX_NHGdQ7niU8xUT4sNBJ3uT9uZwz8Q302F1I07_j0ejKEY5IcfX_1B0wURtzQ6LXzPssz2iObx4M.jpg?quality=96&as=32x21,48x32,72x48,108x72,160x107,240x160,360x240,480x320,540x360,640x426,720x479,736x490&from=bu&cs=200x133'},\n",
       "   {'height': 213,\n",
       "    'type': 'q',\n",
       "    'width': 320,\n",
       "    'url': 'https://sun9-45.userapi.com/s/v1/ig2/KGT7q48JsQ6uX_NHGdQ7niU8xUT4sNBJ3uT9uZwz8Q302F1I07_j0ejKEY5IcfX_1B0wURtzQ6LXzPssz2iObx4M.jpg?quality=96&as=32x21,48x32,72x48,108x72,160x107,240x160,360x240,480x320,540x360,640x426,720x479,736x490&from=bu&cs=320x213'},\n",
       "   {'height': 340,\n",
       "    'type': 'r',\n",
       "    'width': 510,\n",
       "    'url': 'https://sun9-45.userapi.com/s/v1/ig2/KGT7q48JsQ6uX_NHGdQ7niU8xUT4sNBJ3uT9uZwz8Q302F1I07_j0ejKEY5IcfX_1B0wURtzQ6LXzPssz2iObx4M.jpg?quality=96&as=32x21,48x32,72x48,108x72,160x107,240x160,360x240,480x320,540x360,640x426,720x479,736x490&from=bu&cs=510x340'}],\n",
       "  'text': '',\n",
       "  'web_view_token': '16e870b94e17abda7b',\n",
       "  'orig_photo': {'height': 490,\n",
       "   'type': 'base',\n",
       "   'url': 'https://sun9-45.userapi.com/s/v1/ig2/KGT7q48JsQ6uX_NHGdQ7niU8xUT4sNBJ3uT9uZwz8Q302F1I07_j0ejKEY5IcfX_1B0wURtzQ6LXzPssz2iObx4M.jpg?quality=96&as=32x21,48x32,72x48,108x72,160x107,240x160,360x240,480x320,540x360,640x426,720x479,736x490&from=bu',\n",
       "   'width': 736}}]"
      ]
     },
     "execution_count": 13,
     "metadata": {},
     "output_type": "execute_result"
    }
   ],
   "source": [
    "saved_file"
   ]
  },
  {
   "cell_type": "code",
   "execution_count": 17,
   "metadata": {},
   "outputs": [],
   "source": [
    "attachment = 'photo{}_{}'.format(saved_file[0]['owner_id'], saved_file[0]['id'])"
   ]
  },
  {
   "cell_type": "code",
   "execution_count": 19,
   "metadata": {},
   "outputs": [
    {
     "data": {
      "text/plain": [
       "'photo124305793_457345215'"
      ]
     },
     "execution_count": 19,
     "metadata": {},
     "output_type": "execute_result"
    }
   ],
   "source": [
    "attachment"
   ]
  },
  {
   "cell_type": "code",
   "execution_count": 21,
   "metadata": {},
   "outputs": [
    {
     "data": {
      "text/plain": [
       "0"
      ]
     },
     "execution_count": 21,
     "metadata": {},
     "output_type": "execute_result"
    }
   ],
   "source": [
    "vk.messages.send(\n",
    "    chat_id=1,\n",
    "    random_id=4,\n",
    "    message='мем, мем, мем', \n",
    "    attachment = attachment\n",
    ")"
   ]
  }
 ],
 "metadata": {
  "kernelspec": {
   "display_name": "Python [conda env:base] *",
   "language": "python",
   "name": "conda-base-py"
  },
  "language_info": {
   "codemirror_mode": {
    "name": "ipython",
    "version": 3
   },
   "file_extension": ".py",
   "mimetype": "text/x-python",
   "name": "python",
   "nbconvert_exporter": "python",
   "pygments_lexer": "ipython3",
   "version": "3.12.2"
  }
 },
 "nbformat": 4,
 "nbformat_minor": 4
}
